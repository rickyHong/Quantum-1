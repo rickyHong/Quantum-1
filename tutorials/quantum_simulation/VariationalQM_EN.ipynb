{
    "cells": [
        {
            "cell_type": "markdown",
            "metadata": {},
            "source": [
                "# Variational Quantum Metrology"
            ]
        },
        {
            "cell_type": "markdown",
            "metadata": {},
            "source": [
                "<em> Copyright (c) 2022 Institute for Quantum Computing, Baidu Inc. All Rights Reserved. </em>"
            ]
        },
        {
            "cell_type": "markdown",
            "metadata": {},
            "source": [
                "## Background"
            ]
        },
        {
            "cell_type": "markdown",
            "metadata": {},
            "source": [
                "Quantum metrology is the study of high resolution and high sensitivity measurements of physical parameters using quantum theory (e.g., quantum entanglement) in order to further describe physical systems. Its theoretical aspect is quantum parameter estimation theory, and its experimental aspect is called quantum sensing. Previous studies have shown that the estimation accuracy by quantum theory is improved by taking the square root of the required number of samples compared with the classical method [1-3]. For an unknown parameter, the goal of quantum metrology is to maximize the accuracy of parameter estimation while minimizing the required resources (such as time, number of qubits, etc.).\n",
                "\n",
                "For example, given a unitary $e^{-i\\phi H}$ with a known Hamiltonian $H$, how can we extract the information about $\\phi$ by quantum metrology? It comprises the following four steps:\n",
                "\n",
                "1. Preparation. Prepare an input state $|\\psi\\rangle$.\n",
                "2. Parameterization. Obtain the parameterized quantum state $e^{-i\\phi H}|\\psi\\rangle$ after the evolution of $e^{-i\\phi H}$.\n",
                "3. Measurement. Measure the output state.\n",
                "4. Classical estimation. Estimate the parameters based on the results of multiple measurements.\n",
                "\n",
                "Combined with quantum parameter estimation theory, this tutorial is based on the idea of variational quantum sensors in [4], and the parameterized quantum circuit is constructed using Paddle Quantum to train the loss function and obtain a quantum sensor that can estimate the parameters that are normally distributed."
            ]
        },
        {
            "cell_type": "markdown",
            "metadata": {},
            "source": [
                "## Parameter Estimation Theory"
            ]
        },
        {
            "cell_type": "markdown",
            "metadata": {},
            "source": [
                "### Classical  parameter estimation"
            ]
        },
        {
            "cell_type": "markdown",
            "metadata": {},
            "source": [
                "Classical parameter estimation, such as the maximum-likelihood estimator (MLE), uses multiple samples to calculate data containing an unknown parameter. That is, given a probability distribution depending on an unknown parameter $\\phi$, where $f$ is the probability density function, and ${\\bf{X}}=\\{X_1,X_2,... X_N\\}$ is $N$ independent and identically distributed sample data, the estimated value $\\hat\\phi$ is obtained by using MLE:\n",
                "\n",
                "$$\n",
                "\\hat\\phi({\\bf X})=\\arg\\max_{\\phi}\\prod_i^Nf(X_i,\\phi), \\tag{1}\n",
                "$$\n",
                "\n",
                "which finds $\\phi$ such that $X_i(i=1,...,N)$ occurs with maximum probability. After obtaining the estimated parameters, how to measure the difference between the estimated parameters and the actual parameters? That is, how to measure the accuracy of the estimated parameters? In the parameter estimation theory, mean squared error (MSE) is generally used to measure the accuracy.\n",
                "\n",
                "The sample containing the unknown parameter $\\bf{\\phi}$ is ${\\bf{X}}=\\{X_1,X_2,... X_N\\}\\in {\\mathcal F}^N$, where ${\\mathcal F}^N$ is the sample space. Let $\\hat{\\phi}({\\bf X}):{\\mathcal F}^N\\rightarrow\\Phi$ be the estimator that estimates $\\phi\\in\\Phi$ ($\\Phi$ is the parameter space). Then the MSE of $\\hat{\\phi}(\\bf X)$ with respect to $\\phi$ is defined as\n",
                "\n",
                "$$\n",
                "\\begin{aligned}\n",
                "{\\rm{MSE}}&=\n",
                "E[(\\hat{\\phi}({\\bf X})-\\phi)^2]\\\\\n",
                "&=\\sum_{{\\bf X}\\in {\\mathcal F}^N}f({\\bf X};\\phi)(\\hat{\\phi}({\\bf X)}-\\phi)^2,\n",
                "\\end{aligned} \\tag{2}\n",
                "$$\n",
                "\n",
                "where $f({\\bf X}; \\phi)$ is the probability density of getting the current sample $\\bf X$ given the parameter $\\phi$. Although different estimators affect the value of MSE, regardless of the choice of $\\hat{\\phi}({\\bf X})$, there is ${\\rm{MSE}}\\geq\\frac{1}{N{\\mathcal I(\\phi)}}$. This lower bound is known as the Cramér–Rao (CR) bound [2], where $\\mathcal I(\\phi)$ is the Fisher information, which reflects to what extent a slight parameter change will change the probability distribution (see [Quantum Fisher Information](https://qml.baidu.com/tutorials/qnn-research/quantum-fisher-information.html) for the application of Fisher information in Paddle Quantum). "
            ]
        },
        {
            "cell_type": "markdown",
            "metadata": {},
            "source": [
                "### Quantum parameter estimation"
            ]
        },
        {
            "cell_type": "markdown",
            "metadata": {},
            "source": [
                "In quantum parameter estimation, the samples used in classical parameter estimation become a quantum state $\\rho_{\\phi}\\in{\\mathcal F}({\\mathcal H})$ to be measured, where $\\phi$ is the unknown parameter and ${\\mathcal F}({\\mathcal H})$ denotes the set of density operators on the Hilbert space $\\mathcal H$. According to the steps of quantum metrology and [4], assuming that the initial input state is $|0\\rangle$ and the estimator is $\\hat{\\phi}(m)$, where $m$ is related to the measured results (such as the difference in the number of 1s and the number of 0s in the measured bit string), then the MSE is\n",
                "\n",
                "$$\n",
                "\\begin{aligned}\n",
                "{\\rm MSE}&=E[(\\hat{\\phi}(m)-\\phi)^2]\\\\\n",
                "&=\\sum_m(\\hat{\\phi}(m)-\\phi)^2p(m|\\phi),\n",
                "\\end{aligned} \\tag{3}\n",
                "$$\n",
                "\n",
                "where $p(m|\\phi)$ is the probability of obtaining $m$ by measurement with a given parameter $\\phi$. Similarly, no matter how $\\hat{\\phi}(m)$ is chosen, there is a quantum CR bound ${\\rm{MSE}}\\geq\\frac{1}{NF(\\phi)}$, where $N$ is the number of repeated measurements of $\\rho_\\phi$, and $F(\\phi)$ is the quantum Fisher information (see [Quantum Fisher Information](https://qml.baidu.com/tutorials/qnn-research/quantum-fisher-information.html) for the application of quantum Fisher information in Paddle Quantum). "
            ]
        },
        {
            "cell_type": "markdown",
            "metadata": {},
            "source": [
                "## Variational Quantum Sensors"
            ]
        },
        {
            "cell_type": "markdown",
            "metadata": {},
            "source": [
                "Quantum sensing is the application of quantum metrology. Based on [4], this tutorial mainly introduces a kind of variational Ramsey interferometer. The traditional Ramsey interferometer [2] (as shown in Figure 1) is a particle interferometry method that uses magnetic resonance phenomena to measure particle transition frequency and is used to measure unknown parameters. The variational Ramsay interferometer [6] (as shown in Figure 2) consists of two parameterized quantum circuits (denoted as $U_{\\rm{En}}(\\theta_{\\rm En})$ and $U_{\\rm{De}}(\\theta_{\\rm{De}})$) in the encoding and decoding parts of the circuit for setting entanglement and measuring quantum states. Previous studies have shown that by combining with quantum theory (such as quantum entanglement), the scaling of parameter estimation accuracy is enhanced to $\\frac{1}{N}$ from $\\frac{1}{\\sqrt{N}}$ [1-3], and the appropriate entanglement mode can be effectively found by the variational method.\n",
                "\n",
                "![Ramsey_interferomertry](./figures/QM-fig-RI.png \"Figure 1：Ramsey interferometer.\")\n",
                "<center> Figure 1：Ramsey interferometer. On the left is the classical configuration of a Ramsey interferometer, and on the right is a Ramsey interferometer using quantum entanglement. Compared with the classical setting, the interferometer using quantum entanglement has an advantage in the order of square root in the accuracy of estimating unknown parameters. </center>\n",
                "\n",
                "![V_Ramsey_interferomertry](./figures/QM-fig-V_RI3.png \"Figure 2：Variational Ramsey interferometer.\")\n",
                "<center> Figure 2：Variational Ramsey interferometer. Two parameterized quantum circuits are optimized to find an efficient way of utilizing entanglement. </center>\n",
                "\n",
                "In the following, we construct a parameterized quantum circuit using Paddle Quantum to investigate the accuracy of estimating normally distributed parameters by a variational Ramsey interferometer. There are three steps as follows.\n",
                "1. Initialization.\n",
                "2. Evaluation.\n",
                "3. Optimization.\n",
                "\n",
                "The probability density function of the parameters that obey the normal distribution is:\n",
                "\n",
                "$$\n",
                "f(x)=\\frac{1}{\\sqrt{2\\pi}\\nu}\\exp(-\\frac{(x-\\mu)^2}{2\\nu^2}), \\tag{4}\n",
                "$$\n",
                "\n",
                "where $\\mu$ is the mean and $\\nu^2$ is the variance. In this case, the loss function of the variational Ramsey interferometer is:\n",
                "\n",
                "$$\n",
                "C(\\theta_{\\rm En},\\theta_{\\rm De},a)=\\int d\\phi f(\\phi){\\rm{MSE}}(\\phi), \\tag{5}\n",
                "$$\n",
                "\n",
                "where the estimator is $\\hat\\phi(m)=am$, $a$ is a parameter to be optimized, $m$ is the difference in the number of 1s and the number of 0s in the measured bit string, ${\\rm MSE(\\phi)}=\\sum_m(\\hat{\\phi}(m)-\\phi)^2p_{\\theta}(m|\\phi)$, and $\\theta=(\\theta_{\\rm En},\\theta_{\\rm De})$."
            ]
        },
        {
            "cell_type": "markdown",
            "metadata": {},
            "source": [
                "### 1. Initializaiton"
            ]
        },
        {
            "cell_type": "markdown",
            "metadata": {},
            "source": [
                "- Set the input state as $|0\\rangle$.\n",
                "- Construct the parameterized quantum circuits $U_{\\rm{En}}$ and $U_{\\rm{De}}$ for encoding and decoding, respectively.\n",
                "- Encode the unknown parameter."
            ]
        },
        {
            "cell_type": "markdown",
            "metadata": {},
            "source": [
                "Let us import the necessary packages:"
            ]
        },
        {
            "cell_type": "code",
            "execution_count": 1,
            "metadata": {
                "ExecuteTime": {
                    "end_time": "2022-11-04T07:28:26.890500Z",
                    "start_time": "2022-11-04T07:28:23.298471Z"
                }
            },
            "outputs": [],
            "source": [
                "import numpy as np\n",
                "from math import exp, pi\n",
                "import matplotlib.pyplot as plt\n",
                "from typing import Optional, Tuple, List\n",
                "\n",
                "import paddle\n",
                "import paddle_quantum as pq\n",
                "from paddle_quantum.ansatz import Circuit\n",
                "from paddle_quantum.loss import Measure\n",
                "\n",
                "pq.set_backend('state_vector')\n",
                "pq.set_dtype('complex128')"
            ]
        },
        {
            "cell_type": "markdown",
            "metadata": {},
            "source": [
                "Next, we construct a parameterized quantum circuit of $N$ qubits to complete the initialization.\n",
                "\n",
                "The whole circuit includes the following five parts.\n",
                "- $R_y^{\\otimes N}(\\frac{\\pi}{2})$ gates.\n",
                "- Encoding circuit $U_{\\rm{En}}(\\theta_{\\rm{En}})$.\n",
                "- Circuit with unknown parameter $R_z^{\\otimes N}(\\phi)=e^{-i\\phi J_z}$, where $J_z=\\frac{1}{2}\\sum_{k=1}^N\\sigma_z^{(k)}$.\n",
                "- Decoding circuit $U_{\\rm{De}}(\\theta_{\\rm{De}})$.\n",
                "- $R_x^{\\otimes N}(\\frac{\\pi}{2})$ gate.\n",
                "\n",
                "So the unitary of the entire circuit is\n",
                "\n",
                "$$\n",
                "U(\\phi,\\theta_{\\rm{En}},\\theta_{\\rm{De}})=R_x^{\\otimes N}(\\frac{\\pi}{2})U_{\\rm{De}}(\\theta_{\\rm{De}})R_z^{\\otimes N}(\\phi)U_{\\rm{En}}(\\theta_{\\rm{En}})R_y^{\\otimes N}(\\frac{\\pi}{2}). \\tag{6}\n",
                "$$\n",
                "\n",
                "When the depth of the encoding circuit and decoding circuit is $0$, the entire circuit is the classical configuration of a Ramsey interferometer. Here we construct the encoding and the decoding circuits."
            ]
        },
        {
            "cell_type": "code",
            "execution_count": 2,
            "metadata": {
                "ExecuteTime": {
                    "end_time": "2022-11-04T07:28:26.906450Z",
                    "start_time": "2022-11-04T07:28:26.892489Z"
                }
            },
            "outputs": [],
            "source": [
                "def RamseyCircuit(theta_EN: paddle.Tensor, theta_DE: paddle.Tensor, input_phi: float) -> Circuit:\n",
                "    r\"\"\" Construct variational Ramsey interferometer\n",
                "    \n",
                "    Args:\n",
                "        theta_EN: the parameters of encoding circuit, shape is [depth_En, num_qubits，3]\n",
                "        theta_DE: the parameters of decoding circui, shape is [depth_De, num_qubits，3]\n",
                "        input_phi: unknown parameter\n",
                "    \n",
                "    Returns:\n",
                "        Circuit\n",
                "    \n",
                "    \"\"\"\n",
                "    depth_EN, depth_DE = theta_EN.shape[0], theta_DE.shape[0]\n",
                "    num_qubits = theta_EN.shape[1]\n",
                "    \n",
                "    cir = Circuit(num_qubits)\n",
                "    cir.ry(param=pi/2)\n",
                "    \n",
                "    # Construct the encoding circuit to generate an entangled state\n",
                "    for depth in range(depth_EN):\n",
                "        cir.u3(param=theta_EN[depth])\n",
                "        cir.cnot()\n",
                "    \n",
                "    # the gate of unknown parameter\n",
                "    cir.rz(param=input_phi)\n",
                "    \n",
                "    # Construct the decoding circuit to rotate the measurement basis\n",
                "    for depth in range(depth_DE):\n",
                "        cir.cnot()\n",
                "        cir.u3(param=theta_DE[depth])\n",
                "        \n",
                "    cir.rx(param=pi/2)\n",
                "    \n",
                "    return cir"
            ]
        },
        {
            "cell_type": "markdown",
            "metadata": {},
            "source": [
                "### 2. Evaluation"
            ]
        },
        {
            "cell_type": "markdown",
            "metadata": {},
            "source": [
                "- Calculate the probability distribution of $m$.\n",
                "- Calculate the MSE of the estimator $\\hat{\\phi}(m)=am$: ${\\rm MSE}=\\sum_m(\\hat{\\phi}(m)-\\phi)^2p_{\\theta}(m|\\phi)$.\n",
                "- Calculate the loss function. Here, we use the discrete form of the loss function to approximate its integral form:\n",
                "\n",
                "$$\n",
                "C=\\sum_{k=1}^t\\frac{2}{t}f(\\phi_k){\\rm {MSE}}, \\tag{7}\n",
                "$$\n",
                "\n",
                "where $t$ is the number of partitions in the selected interval (the total interval size is $2$ in this tutorial), and $f(\\phi_k)$ is the probability corresponding to $\\phi_k$."
            ]
        },
        {
            "cell_type": "code",
            "execution_count": 3,
            "metadata": {
                "ExecuteTime": {
                    "end_time": "2022-11-04T07:28:26.922400Z",
                    "start_time": "2022-11-04T07:28:26.908437Z"
                }
            },
            "outputs": [],
            "source": [
                "# Define the function to calculate m\n",
                "def calculate_m(num_qubits: int)-> List[int]:\n",
                "    m_list = []\n",
                "    for k in range(2**num_qubits):\n",
                "        k_bin = list(bin(k)[2:].zfill(num_qubits))\n",
                "        u = k_bin.count('1')\n",
                "        v = k_bin.count('0')\n",
                "        m = u - v\n",
                "        m_list.append(m)\n",
                "\n",
                "    return m_list\n",
                "\n",
                "\n",
                "def MSE(qnn: paddle.nn.Layer, phi: float) -> paddle.Tensor:\n",
                "    r\"\"\" Calculate MSE \n",
                "    \n",
                "    Args:\n",
                "        cir: variational Ramsey interferometer\n",
                "        phi: unknown parameter\n",
                "        a: parameter of the estimator\n",
                "        \n",
                "    Returns:\n",
                "        MSE\n",
                "    \n",
                "    \"\"\"\n",
                "    cir = RamseyCircuit(qnn.theta_EN, qnn.theta_DE, phi)\n",
                "    \n",
                "    # Measurement\n",
                "    output_state = cir()\n",
                "    prob = Measure()(output_state)\n",
                "    \n",
                "    num_qubits = cir.num_qubits\n",
                "    m = calculate_m(num_qubits)\n",
                "    return sum([((phi - qnn.a * m[i]) ** 2) * prob[i] for i in range(2 ** num_qubits)])\n",
                "\n",
                "# Define loss function\n",
                "def loss_func(qnn: paddle.nn.Layer, sampling_times: int, mean: float, variance: float):\n",
                "    r\"\"\" Calculate loss \n",
                "    \n",
                "    Args:\n",
                "        qnn: a QNN\n",
                "        sampling_times: the number of partitions in the selected interval\n",
                "        mean: the mean of a normal distribution\n",
                "        variance: the variance of a normal distribution\n",
                "    \n",
                "    \"\"\"\n",
                "    list_phi = [] # The list of phi\n",
                "    list_pdf = [] # The list of the probability density function of phi\n",
                "    for i in range(sampling_times):\n",
                "        phi = mean - 1 + (2 * i + 1)/ sampling_times # The range of phi is [u - 1, u + 1]       \n",
                "        prob = (1 / (((2 * pi) ** 0.5) * variance)) * exp(-((phi - mean) ** 2) / (2 * (variance**2)))  # The probability density of phi\n",
                "        list_phi.append(phi)\n",
                "        list_pdf.append(prob)\n",
                "    \n",
                "    return sum([list_pdf[i] * MSE(qnn, list_phi[i]) * (2 / sampling_times) for i in range(sampling_times)])"
            ]
        },
        {
            "cell_type": "markdown",
            "metadata": {},
            "source": [
                "### 3. Optimization"
            ]
        },
        {
            "cell_type": "code",
            "execution_count": 4,
            "metadata": {
                "ExecuteTime": {
                    "end_time": "2022-11-04T07:28:26.938337Z",
                    "start_time": "2022-11-04T07:28:26.926376Z"
                }
            },
            "outputs": [],
            "source": [
                "def optimization(qnn: paddle.nn.Layer, num_itr: int, learning_rate: float) -> None:\n",
                "    r\"\"\" Optimize QNN\n",
                "    \n",
                "    Args:\n",
                "        qnn: a QNN\n",
                "        num_itr: the number of optimization iterations\n",
                "        learning_rate: learning rate\n",
                "    \n",
                "    \"\"\"\n",
                "    opt = paddle.optimizer.Adam(learning_rate=learning_rate, parameters=qnn.parameters())\n",
                "    print(\"Begin：\")\n",
                "    for itr in range(1, num_itr):\n",
                "        loss = qnn()\n",
                "        loss.backward()\n",
                "        opt.minimize(loss)\n",
                "        opt.clear_grad()\n",
                "\n",
                "        if itr % 10 == 0:\n",
                "            print(\"     iter:\", itr, \"loss:\", \"%.4f\" % loss.numpy())"
            ]
        },
        {
            "cell_type": "code",
            "execution_count": 9,
            "metadata": {
                "ExecuteTime": {
                    "end_time": "2022-11-04T07:29:44.003762Z",
                    "start_time": "2022-11-04T07:29:43.988814Z"
                }
            },
            "outputs": [],
            "source": [
                "class RamseyInterferometer(paddle.nn.Layer):\n",
                "    r\"\"\" Variational Ramsey interferometer\n",
                "    \n",
                "    \"\"\"\n",
                "    def __init__(self) -> None:\n",
                "        super().__init__()\n",
                "        \n",
                "        # Add parameters\n",
                "        theta_EN = self.create_parameter(\n",
                "            shape= [depth_EN, N, 3], dtype=\"float64\",\n",
                "            default_initializer=paddle.nn.initializer.Uniform(low=0, high=2 * pi),\n",
                "        )\n",
                "        theta_DE = self.create_parameter(\n",
                "            shape= [depth_DE, N, 3], dtype=\"float64\",\n",
                "            default_initializer=paddle.nn.initializer.Uniform(low=0, high=2 * pi),\n",
                "        )\n",
                "        self.add_parameter('theta_EN', theta_EN)\n",
                "        self.add_parameter('theta_DE', theta_DE)\n",
                "        \n",
                "        # Add the parameter of the estimator\n",
                "        a = self.create_parameter(\n",
                "            shape= [1], dtype=\"float64\",\n",
                "            default_initializer=paddle.nn.initializer.Uniform(low=0, high=2 * pi),\n",
                "        )\n",
                "        self.add_parameter('a', a)\n",
                "        \n",
                "    def forward(self) -> paddle.Tensor:\n",
                "        r\"\"\" Calculate loss\n",
                "        \n",
                "        \"\"\"\n",
                "        return loss_func(self, TIMES, MEAN, VAR)\n",
                "    \n",
                "    def opt(self) -> None:\n",
                "        r\"\"\" Optimize QNN\n",
                "        \n",
                "        \"\"\"\n",
                "        optimization(self, num_itr=ITR, learning_rate=LR)"
            ]
        },
        {
            "cell_type": "code",
            "execution_count": null,
            "metadata": {},
            "outputs": [],
            "source": [
                "N = 2  # The number of qubits\n",
                "depth_EN = 3  # The depth of encoding circuit\n",
                "depth_DE = 3  # The depth of decoding circuit\n",
                "LR = 0.2  # Learning rate\n",
                "ITR = 150   # The number of optimization iterations\n",
                "TIMES = 30  # The number of partitions in the selected interval\n",
                "MEAN = 2  # The mean of a normal distribution\n",
                "VAR = 1  # The variance of a normal distribution"
            ]
        },
        {
            "cell_type": "code",
            "execution_count": 14,
            "metadata": {
                "ExecuteTime": {
                    "end_time": "2022-11-04T07:44:05.439096Z",
                    "start_time": "2022-11-04T07:40:20.208851Z"
                }
            },
            "outputs": [
                {
                    "name": "stdout",
                    "output_type": "stream",
                    "text": [
                        "Begin：\n",
                        "     iter: 10 loss: 3.8495\n",
                        "     iter: 20 loss: 0.8521\n",
                        "     iter: 30 loss: 0.7484\n",
                        "     iter: 40 loss: 0.4504\n",
                        "     iter: 50 loss: 0.3610\n",
                        "     iter: 60 loss: 0.3375\n",
                        "     iter: 70 loss: 0.3042\n",
                        "     iter: 80 loss: 0.2827\n",
                        "     iter: 90 loss: 0.2600\n",
                        "     iter: 100 loss: 0.2386\n",
                        "     iter: 110 loss: 0.2217\n",
                        "     iter: 120 loss: 0.2096\n",
                        "     iter: 130 loss: 0.2026\n",
                        "     iter: 140 loss: 0.1996\n"
                    ]
                }
            ],
            "source": [
                "QNN = RamseyInterferometer()\n",
                "QNN.opt()"
            ]
        },
        {
            "cell_type": "markdown",
            "metadata": {},
            "source": [
                "The optimized circuit is used to estimate the parameters with a normal distribution, and then we draw the MSE."
            ]
        },
        {
            "cell_type": "code",
            "execution_count": 15,
            "metadata": {
                "ExecuteTime": {
                    "end_time": "2022-11-04T07:44:49.222284Z",
                    "start_time": "2022-11-04T07:44:47.797824Z"
                },
                "scrolled": true
            },
            "outputs": [
                {
                    "data": {
                        "image/png": "[encoded data removed]",
                        "text/plain": [
                            "<Figure size 600x400 with 1 Axes>"
                        ]
                    },
                    "metadata": {
                        "needs_background": "light"
                    },
                    "output_type": "display_data"
                }
            ],
            "source": [
                "phi_list = []\n",
                "mse_list = []\n",
                "for i in range(TIMES):\n",
                "    phi = MEAN - 1 + (2 * i + 1) / TIMES\n",
                "    mse_est = MSE(QNN, phi)\n",
                "    phi_list.append(phi)\n",
                "    mse_list.append(mse_est)\n",
                "\n",
                "font = {'family': 'Times New Roman', 'weight':'normal', 'size':16}\n",
                "plt.figure(dpi=100)\n",
                "plt.plot(phi_list,mse_list,color='darkblue', linestyle='-')\n",
                "plt.scatter(phi_list,mse_list)\n",
                "plt.xlabel('$\\\\phi$',font)\n",
                "plt.ylabel('MSE',font)\n",
                "\n",
                "plt.grid()\n",
                "plt.show()"
            ]
        },
        {
            "cell_type": "markdown",
            "metadata": {},
            "source": [
                "## Conclusion"
            ]
        },
        {
            "cell_type": "markdown",
            "metadata": {},
            "source": [
                "We can see that the MSE estimated by the optimized quantum sensor is negatively correlated with the probability density of the parameters, and the value of MSE is the lowest near the mean value of the normal distribution, indicating that the obtained quantum sensor by variational method is effective for the parameters following a normal distribution."
            ]
        },
        {
            "cell_type": "markdown",
            "metadata": {},
            "source": [
                "---\n",
                "\n",
                "## References"
            ]
        },
        {
            "cell_type": "markdown",
            "metadata": {},
            "source": [
                "[1] Braunstein S L, Caves C M. Statistical distance and the geometry of quantum states[J]. [Physical Review Letters, 1994, 72(22): 3439](https://journals.aps.org/prl/abstract/10.1103/PhysRevLett.72.3439).\n",
                "\n",
                "[2] Giovannetti V, Lloyd S, Maccone L. Quantum metrology[J]. [Physical review letters, 2006, 96(1): 010401](https://journals.aps.org/prl/abstract/10.1103/PhysRevLett.96.010401).\n",
                "\n",
                "[3] Tóth G, Apellaniz I. Quantum metrology from a quantum information science perspective[J]. [Journal of Physics A: Mathematical and Theoretical, 2014, 47(42): 424006](https://iopscience.iop.org/article/10.1088/1751-8113/47/42/424006/meta).\n",
                "\n",
                "[4] Marciniak C D, Feldker T, Pogorelov I, et al. Optimal metrology with programmable quantum sensors[J]. [Nature, 2022, 603(7902): 604-609](https://www.nature.com/articles/s41586-022-04435-4).\n",
                "\n",
                "[5] Giovannetti V, Lloyd S, Maccone L. Advances in quantum metrology[J]. [Nature photonics, 2011, 5(4): 222-229](https://www.nature.com/articles/nphoton.2011.35).\n",
                "\n",
                "[6] Kaubruegger R, Vasilyev D V, Schulte M, et al. Quantum variational optimization of Ramsey interferometry and atomic clocks[J]. [Physical Review X, 2021, 11(4): 041045](https://journals.aps.org/prx/abstract/10.1103/PhysRevX.11.041045)."
            ]
        }
    ],
    "metadata": {
        "kernelspec": {
            "display_name": "Python 3.8.13 ('pq')",
            "language": "python",
            "name": "python3"
        },
        "language_info": {
            "codemirror_mode": {
                "name": "ipython",
                "version": 3
            },
            "file_extension": ".py",
            "mimetype": "text/x-python",
            "name": "python",
            "nbconvert_exporter": "python",
            "pygments_lexer": "ipython3",
            "version": "3.8.13"
        },
        "vscode": {
            "interpreter": {
                "hash": "08942b1340a5932ff3a93f52933a99b0e263568f3aace1d262ffa4d9a0f2da31"
            }
        }
    },
    "nbformat": 4,
    "nbformat_minor": 2
}
