{
 "cells": [
  {
   "cell_type": "markdown",
   "id": "caeb98e4",
   "metadata": {},
   "source": [
    "# Expressibility of Quantum Neural Network\n",
    "\n",
    "<em>Copyright (c) 2021 Institute for Quantum Computing, Baidu Inc. All Rights Reserved.</em>"
   ]
  },
  {
   "cell_type": "markdown",
   "id": "e2ca4dd8",
   "metadata": {},
   "source": [
    "## Overview"
   ]
  },
  {
   "cell_type": "markdown",
   "id": "64692af7",
   "metadata": {},
   "source": [
    "In quantum machine learning, the **expressibility** of quantum neural networks is a crucial factor in quantum machine learning tasks. In general, the stronger the expressiveness of the proposed quantum neural network, the higher the likelihood that quantum machine learning can search for the global optimal solution. This tutorial first introduces the basic concept of the expressibility of quantum neural networks. Then we will show how to exhibit the difference in the expressibility of different ansatz through Bloch spheres in Paddle Quantum. Finally, a method for quantitatively analyzing the expressibility of quantum neural networks is introduced, and the expressibility of quantum neural network templates provided by Paddle Quantum is evaluated at different depths."
   ]
  },
  {
   "cell_type": "markdown",
   "id": "482a9afe",
   "metadata": {},
   "source": [
    "## Background"
   ]
  },
  {
   "cell_type": "markdown",
   "id": "1ddbe430",
   "metadata": {},
   "source": [
    "Let us first review the basic process of quantum machine learning algorithms. In quantum machine learning, we tend to design a loss function $\\mathcal{L}$ and minimize the loss function by optimizing a unitary $U$\n",
    "\n",
    "$$\n",
    "\\min_U\\mathcal{L}(U)=\\min_U \\text{Tr}[HU\\rho_{in}U^\\dagger].\\tag{1}\n",
    "$$\n",
    "\n",
    "The mathematical principle behind the algorithm guarantees that the minimum value that the loss function can take corresponds to the solution of our problem when we have traversed all possible unitaries. In practice, we use quantum neural networks to parameterize the unitaries as follows\n",
    "\n",
    "$$\n",
    "U=U(\\vec{\\theta})=U_D(\\vec{\\theta}_D)\\dots U_1(\\vec{\\theta}_1),\\tag{2}\n",
    "$$\n",
    "\n",
    "where each $U_j(\\vec{\\theta}_j),j\\in[1,D]$ represents a layer of the quantum neural network, and $\\vec{\\theta}_j$ represents the parameters corresponding to that layer. At this point, by adjusting the parameters $\\vec{\\theta}$ in the quantum neural network, we can perform the optimization of the unitary $U$ and thus minimize the loss function $\\mathcal{L}$.\n",
    "\n",
    "$$\n",
    "\\min_{\\vec{\\theta}}\\mathcal{L}(\\vec{\\theta})=\\min_{\\vec{\\theta}} \\text{Tr}[HU(\\vec{\\theta})\\rho_{in}U(\\vec{\\theta})^\\dagger].\\tag{3}\n",
    "$$\n",
    "\n",
    "However, careful readers may have noticed a shortcoming of quantum neural networks at this point: for a given neural network fit, ** traversing all the parameters does not necessarily guarantee traversing all the unitaries**. As a simple example, if we allow only one $R_Y$ rotation gate as a single-qubit quantum neural network $U(\\theta)=R_Y(\\theta)$, it is clear that (up to a global phase) $U(\\theta)$ cannot represent any complex unitary with the imaginary part of matrix elements. And when allowing the use of $R_Y$ and $R_Z$ revolving gates, if we build the quantum neural network as $U(\\vec{\\theta})=R_Z(\\theta_1)R_Y(\\theta_2)R_Z(\\theta_3)$, $U(\\vec{\\theta})$ (up to a global phase) will be able to represent all the single-qubit unitaries [1].\n",
    "\n",
    "If we define the expressibility of a neural network as **the number of unitaries that the circuit can express when traversing the circuit parameters $\\vec{\\theta}$**, then a quantum neural network with strong expressibility will be more likely to contain those unitaries that globally minimize the loss function $\\mathcal{L}$; conversely, if a quantum neural network $U_{ weak}$ is so weak that it does not contain any unitary that minimize the loss function, then a quantum machine learning task based on optimizing $U_{weak}$ is likely to fail.\n",
    "\n",
    "Next, we visualize the expressibility of quantum neural networks based on Paddle Quantum by looking at the ability of a single qubit to traverse the Bloch sphere through unitaries."
   ]
  },
  {
   "cell_type": "markdown",
   "id": "b8205717",
   "metadata": {},
   "source": [
    "## Intuition: traversing the Bloch sphere"
   ]
  },
  {
   "cell_type": "markdown",
   "id": "df8f0a68",
   "metadata": {},
   "source": [
    "In the one qubit case, we can directly observe how a quantum neural network traverses the surface of a Bloch sphere with a fixed input. For a given neural network ansatz $U(\\vec{\\theta})$, since the input to the network tends to be fixed (we set it to $|0\\rangle$), by uniformly sampling the neural network parameters $\\vec{\\theta}$, the output state of the neural network $U(\\vec{\\theta})|0\\rangle$ will be scattered over the surface of the Bloch sphere. Obviously, if the output states are more widely and uniformly distributed on the surface of the sphere, the more expressive the neural network ansatz $U$ will be, and the more likely it will contain the global optimum of the loss function.\n",
    "\n",
    "To implement this function in Paddle, we first import necessary packages."
   ]
  },
  {
   "cell_type": "code",
   "execution_count": 1,
   "id": "3810b843",
   "metadata": {},
   "outputs": [
    {
     "name": "stderr",
     "output_type": "stream",
     "text": [
      "/home/zl/miniconda3/envs/pq/lib/python3.8/site-packages/openfermion/hamiltonians/hartree_fock.py:11: DeprecationWarning: Please use `OptimizeResult` from the `scipy.optimize` namespace, the `scipy.optimize.optimize` namespace is deprecated.\n",
      "  from scipy.optimize.optimize import OptimizeResult\n",
      "/home/zl/miniconda3/envs/pq/lib/python3.8/site-packages/paddle/tensor/creation.py:125: DeprecationWarning: `np.object` is a deprecated alias for the builtin `object`. To silence this warning, use `object` by itself. Doing this will not modify any behavior and is safe. \n",
      "Deprecated in NumPy 1.20; for more details and guidance: https://numpy.org/devdocs/release/1.20.0-notes.html#deprecations\n",
      "  if data.dtype == np.object:\n",
      "/home/zl/miniconda3/envs/pq/lib/python3.8/site-packages/paddle/tensor/creation.py:125: DeprecationWarning: `np.object` is a deprecated alias for the builtin `object`. To silence this warning, use `object` by itself. Doing this will not modify any behavior and is safe. \n",
      "Deprecated in NumPy 1.20; for more details and guidance: https://numpy.org/devdocs/release/1.20.0-notes.html#deprecations\n",
      "  if data.dtype == np.object:\n"
     ]
    }
   ],
   "source": [
    "import numpy as np\n",
    "import paddle\n",
    "import paddle_quantum as pq\n",
    "from paddle_quantum.ansatz.circuit import Circuit\n",
    "from paddle_quantum.visual import plot_state_in_bloch_sphere"
   ]
  },
  {
   "cell_type": "markdown",
   "id": "2dc0318c",
   "metadata": {},
   "source": [
    "First, we allow only one $R_Y$ rotation gate to construct quantum neural network $U(\\theta)=R_Y(\\theta)$. By uniformly sampling the parameter $\\theta$ at $[0,2\\pi]$ and acting $U(\\theta)$ on a fixed input $|0\\rangle$, we obtain the output distribution of the quantum neural network $U(\\theta)$. With the built-in plot_bloch_sphere_from_input function of Paddle Quantum, we can directly observe the distribution of $U(\\theta)|0\\rangle$ on the Bloch sphere as follows."
   ]
  },
  {
   "cell_type": "code",
   "execution_count": 2,
   "id": "8cc9cff3",
   "metadata": {},
   "outputs": [
    {
     "name": "stderr",
     "output_type": "stream",
     "text": [
      "/home/zl/miniconda3/envs/pq/lib/python3.8/site-packages/paddle/fluid/framework.py:1104: DeprecationWarning: `np.bool` is a deprecated alias for the builtin `bool`. To silence this warning, use `bool` by itself. Doing this will not modify any behavior and is safe. If you specifically wanted the numpy scalar type, use `np.bool_` here.\n",
      "Deprecated in NumPy 1.20; for more details and guidance: https://numpy.org/devdocs/release/1.20.0-notes.html#deprecations\n",
      "  elif dtype == np.bool:\n"
     ]
    }
   ],
   "source": [
    "num_qubit = 1      # the number of qubit\n",
    "num_sample = 2000  # the number of sample\n",
    "outputs_y = list()   # save QNN outputs\n",
    "\n",
    "for _ in range(num_sample):\n",
    "    # initialize QNN ansatz\n",
    "    pq.set_backend('density_matrix')\n",
    "    cir = Circuit(num_qubit)\n",
    "    # apply Ry with a random rotating angle\n",
    "    cir.ry(0)\n",
    "    # output a density operator\n",
    "    rho = cir(pq.state.zero_state(num_qubit))\n",
    "    outputs_y.append(rho)\n",
    "    \n",
    "# built-in function of Paddle Quantum to plot on Bloch sphere\n",
    "# plot_state_in_bloch_sphere(outputs_y, save_gif=True, filename='figures/bloch_y.gif')"
   ]
  },
  {
   "cell_type": "markdown",
   "id": "351b12a4",
   "metadata": {},
   "source": [
    "![bloch_y.gif](./figures/expressibility-fig-bloch_y.gif)"
   ]
  },
  {
   "cell_type": "markdown",
   "id": "1bd42a83",
   "metadata": {},
   "source": [
    "It can be seen that the output of the quantum neural network $U(\\theta)=R_Y(\\theta)$ can only be distributed in a circle on the Bloch sphere (although the distribution is uniform over the circle). Similarly, we consider the neural network $U(\\vec{\\theta})=R_Y(\\theta_1)R_Z(\\theta_2)$ with two parameters and the neural network $U(\\vec{\\theta})=R_Y(\\theta_1)R_Z(\\theta_2)R_Y(\\theta_3)$ with three parameters. The output distribution is:"
   ]
  },
  {
   "cell_type": "code",
   "execution_count": 3,
   "id": "c0330832",
   "metadata": {},
   "outputs": [],
   "source": [
    "outputs_yz = list()   # save QNN outputs\n",
    "for _ in range(num_sample):\n",
    "    # initialize QNN ansatz\n",
    "    cir = Circuit(num_qubit)\n",
    "    # apply Ry and Rz with random rotating angles\n",
    "    cir.ry(0)\n",
    "    cir.rz(0)\n",
    "    # output a density operator\n",
    "    rho = cir(pq.state.zero_state(num_qubit))\n",
    "    outputs_yz.append(rho)\n",
    "\n",
    "# plot_state_in_bloch_sphere(outputs_yz, save_gif=True, filename='figures/bloch_yz.gif')\n",
    "\n",
    "\n",
    "outputs_yzy = list()   # save QNN outputs\n",
    "for _ in range(num_sample):\n",
    "    # initialize QNN ansatz\n",
    "    cir = Circuit(num_qubit)\n",
    "    # apply Ry, Rz, and Ry with random rotating angles\n",
    "    cir.ry(0)\n",
    "    cir.rz(0)\n",
    "    cir.ry(0)\n",
    "    # output a density operator\n",
    "    rho = cir(pq.state.zero_state(num_qubit))\n",
    "    outputs_yzy.append(rho)\n",
    "    \n",
    "# plot_state_in_bloch_sphere(outputs_yzy, save_gif=True, filename='figures/bloch_yzy.gif')"
   ]
  },
  {
   "cell_type": "markdown",
   "id": "02877b2a",
   "metadata": {},
   "source": [
    "![bloch_yz.gif](./figures/expressibility-fig-bloch_yz.gif)"
   ]
  },
  {
   "cell_type": "markdown",
   "id": "377bbcbf",
   "metadata": {},
   "source": [
    "![bloch_yzy.gif](./figures/expressibility-fig-bloch_yzy.gif)"
   ]
  },
  {
   "cell_type": "markdown",
   "id": "2213837b",
   "metadata": {},
   "source": [
    "It can be seen that the output of the neural network $U(\\vec{\\theta})=R_Y(\\theta_1)R_Z(\\theta_2)$ can be distributed over the entire surface of the Bloch sphere now, although the distribution is more concentrated near the two polars ($|0\\rangle$ and $|1\\rangle$); and the output of the neural network $U(\\vec{\\theta})=R_Y(\\theta_1)R_Z(\\theta_2)R_Y(\\theta_3)$ is more uniformly distributed over the surface of the sphere."
   ]
  },
  {
   "cell_type": "markdown",
   "id": "7d225e68",
   "metadata": {},
   "source": [
    "In the low-dimensional case of single qubit, we can qualitatively observe the expressibility of quantum neural networks with the help of Bloch spheres. In general situations with multiple qubits, we have to analyze the expressibility quantitatively via statistical mathematical tools. Next, we will introduce the K-L divergence of the fidelity distribution among quantum states to quantify the expressibility of a quantum neural network and calculate the expressibility of a commonly used ansatz."
   ]
  },
  {
   "cell_type": "markdown",
   "id": "5638c30a",
   "metadata": {},
   "source": [
    "## Quantitative analysis of expressibility by the K-L divergence"
   ]
  },
  {
   "cell_type": "markdown",
   "id": "f35faa47",
   "metadata": {},
   "source": [
    "### Fidelity distribution and the K-L divergence"
   ]
  },
  {
   "cell_type": "markdown",
   "id": "c681b230",
   "metadata": {},
   "source": [
    "In [2], the authors proposed a method for quantifying the expressive power based on the probability distribution of fidelity between the output states of a quantum neural network. For any quantum neural network $U(\\vec{\\theta})$, sampling the neural network parameters twice (let them be $\\vec{\\phi}$ and $\\vec{\\psi}$), the fidelity $F=|\\langle0|U(\\vec{\\phi})^\\dagger U(\\vec{\\psi}) |0\\rangle|^2$ subjects to some probability distribution\n",
    "$$\n",
    "F\\sim{P}(f).\\tag{4}\n",
    "$$\n",
    "According to [2], when a quantum neural network $U$ can uniformly represent unitaries (now we call that $U$ subjects to the Haar measure), the probability distribution of fidelity $P_\\text{Haar}(f)$ satisfies\n",
    "$$\n",
    "P_\\text{Haar}(f)=(2^{n}-1)(1-f)^{2^n-2}.\\tag{5}\n",
    "$$\n",
    "\n",
    "Paddle Quantum provides functions that sample unitaries from the Haar measure. We evaluate the probability distribution that the fidelity of the outputs of the Haar random unitaries subjects to:"
   ]
  },
  {
   "cell_type": "code",
   "execution_count": 4,
   "id": "409b2dc8",
   "metadata": {},
   "outputs": [
    {
     "data": {
      "image/png": "[encoded data removed]",
      "text/plain": [
       "<Figure size 432x288 with 1 Axes>"
      ]
     },
     "metadata": {
      "needs_background": "light"
     },
     "output_type": "display_data"
    },
    {
     "data": {
      "image/png": "[encoded data removed]",
      "text/plain": [
       "<Figure size 432x288 with 1 Axes>"
      ]
     },
     "metadata": {
      "needs_background": "light"
     },
     "output_type": "display_data"
    }
   ],
   "source": [
    "from paddle_quantum.linalg import haar_unitary\n",
    "from paddle_quantum.qinfo import state_fidelity\n",
    "from paddle_quantum.state.common import to_state\n",
    "import matplotlib.pyplot as plt\n",
    "from matplotlib.ticker import FuncFormatter\n",
    "from scipy import integrate\n",
    "\n",
    "# plot histgram\n",
    "def plot_hist(data, num_bin, title_str):\n",
    "    def to_percent(y, position):\n",
    "        return str(np.around(y*100, decimals=2)) + '%'\n",
    "    plt.hist(data, weights=[1./len(data)]*len(data), bins=np.linspace(0, 1, num=num_bin), facecolor=\"blue\", edgecolor=\"black\", alpha=0.7)\n",
    "    plt.xlabel(\"Fidelity\")\n",
    "    plt.ylabel(\"frequency\")\n",
    "    plt.title(title_str)\n",
    "    formatter = FuncFormatter(to_percent)\n",
    "    plt.gca().yaxis.set_major_formatter(formatter)\n",
    "    plt.show()\n",
    "    \n",
    "    \n",
    "# evaluate the probability distribution of F generated by a Haar random unitary\n",
    "def p_F_haar(n, s, b=50, draw=False):\n",
    "    f_list = list()\n",
    "    # sampling\n",
    "    for i in range(s):\n",
    "        # sample a unitary\n",
    "        u1 = haar_unitary(n)\n",
    "        # the output of u1\n",
    "        phi1 = u1[:,0]\n",
    "        rho1 = to_state(np.outer(phi1, phi1.conj()))\n",
    "        # sample a unitary\n",
    "        u2 = haar_unitary(n)\n",
    "        phi2 = u2[:,0]\n",
    "        # the output of u2\n",
    "        rho2 = to_state(np.outer(phi2, phi2.conj()))\n",
    "        # compute fidality\n",
    "        f_list.append(state_fidelity(rho1, rho2)**2)\n",
    "    f_list = np.array(f_list)\n",
    "    # plot histgram\n",
    "    if draw:\n",
    "        title_str = \"haar, %d qubit(s)\" % num_qubit\n",
    "        plot_hist(f_list, b, title_str)\n",
    "    sample_distribution, _ = np.histogram(f_list, bins=np.linspace(0, 1, num=b), density=True)\n",
    "    # compute a theoretical distribution\n",
    "    theory_distribution = np.zeros_like(sample_distribution)\n",
    "    for index in range(len(theory_distribution)):\n",
    "        def p_continues(f):\n",
    "            return (2 ** n - 1) * (1 - f) ** (2 ** n - 2)\n",
    "        lower = 1/b*index\n",
    "        upper = lower + 1/b\n",
    "        theory_distribution[index], _ = integrate.quad(p_continues,lower,upper)\n",
    "    return sample_distribution, theory_distribution\n",
    "\n",
    "\n",
    "num_qubit = 1\n",
    "p_haar_1qubit, theory_haar_1qubit = p_F_haar(num_qubit, num_sample, draw=True)\n",
    "num_qubit = 2\n",
    "p_haar_2qubit, theory_haar_2qubit = p_F_haar(num_qubit, num_sample, draw=True)"
   ]
  },
  {
   "cell_type": "markdown",
   "id": "581fe296",
   "metadata": {},
   "source": [
    "It can be seen that the fidelity distribution roughly obeys $P_\\text{Haar}$. Similarly, we can compute the probability distributions of the fidelity of the outputs of the previously defined single-qubit quantum neural networks $R_Y(\\theta)$, $R_Y(\\theta_1)R_Z(\\theta_2)$ and $R_Y(\\theta_1)R_Z(\\theta_2)R_Y(\\theta_3)$."
   ]
  },
  {
   "cell_type": "code",
   "execution_count": 5,
   "id": "eeb57c55",
   "metadata": {
    "scrolled": false
   },
   "outputs": [
    {
     "data": {
      "image/png": "[encoded data removed]",
      "text/plain": [
       "<Figure size 432x288 with 1 Axes>"
      ]
     },
     "metadata": {
      "needs_background": "light"
     },
     "output_type": "display_data"
    },
    {
     "data": {
      "image/png": "[encoded data removed]",
      "text/plain": [
       "<Figure size 432x288 with 1 Axes>"
      ]
     },
     "metadata": {
      "needs_background": "light"
     },
     "output_type": "display_data"
    },
    {
     "data": {
      "image/png": "[encoded data removed]",
      "text/plain": [
       "<Figure size 432x288 with 1 Axes>"
      ]
     },
     "metadata": {
      "needs_background": "light"
     },
     "output_type": "display_data"
    }
   ],
   "source": [
    "# evaluate the probability distribution of F generated by QNNs\n",
    "def p_F_qnn(n, s, g, b=50, draw=False):\n",
    "    f_list = list()\n",
    "    rho_sample = outputs_y\n",
    "    title_str = \"Ry\"\n",
    "    if g == 2:\n",
    "        rho_sample = outputs_yz\n",
    "        title_str = \"Ry-Rz\"\n",
    "    elif g == 3:\n",
    "        rho_sample = outputs_yzy\n",
    "        title_str = \"Ry-Rz-Ry\"\n",
    "    # use previously collected data to compute fidelity\n",
    "    for index in range(int(s / 2)):\n",
    "        rho1 = rho_sample[index]\n",
    "        rho2 = rho_sample[index+int(num_sample / 2)]\n",
    "        f_list.append(state_fidelity(rho1, rho2)**2)\n",
    "    f_list = np.array(f_list)\n",
    "    # plot histgram\n",
    "    if draw:\n",
    "        plot_hist(f_list, b, title_str)\n",
    "    distribution, _ = np.histogram(f_list, bins=np.linspace(0, 1, num=b), density=True)\n",
    "    return distribution\n",
    "    \n",
    "    \n",
    "num_qubit = 1\n",
    "p_y = p_F_qnn(num_qubit, num_sample, 1, draw=True)\n",
    "p_yz = p_F_qnn(num_qubit, num_sample, 2, draw=True)\n",
    "p_yzy = p_F_qnn(num_qubit, num_sample, 3, draw=True)"
   ]
  },
  {
   "cell_type": "markdown",
   "id": "d204622b",
   "metadata": {},
   "source": [
    "Evidently, the fidelity distribution of the outputs of the neural network composed of $R_Y-R_Z-R_Y$ gates is closest to that of the Haar random unitary. The K-L divergence (also called relative entropy) in statistical mathematics can measure the difference between two probability distributions. The K-L divergence between two discrete probability distributions $P,Q$ is defined as\n",
    "$$\n",
    "D_{KL}(P||Q)=\\sum_jP(j)\\ln\\frac{P(j)}{Q(j)}.\\tag{6}\n",
    "$$\n",
    "If the fidelity distribution of the outputs of a quantum neural network is denoted as $P_\\text{QNN}(f)$, the expressibility of the quantum neural network is defined as the K-L divergence between $P_\\text{QNN}(f)$ and $P_\\text{Haar}(f)$ [2]\n",
    "$$\n",
    "\\text{Expr}_\\text{QNN}=D_{KL}(P_\\text{QNN}(f)||P_\\text{Haar}(f)).\\tag{7}\n",
    "$$\n",
    "Therefore, the closer $P_\\text{QNN}(f)$ is to $P_\\text{Haar}(f)$, the smaller the $\\text{Expr}$ will be (more close to 0), and the more expressive the quantum neural network will be; conversely, the larger the $\\text{Expr}$ is, the less expressive the quantum neural network will be.\n",
    "\n",
    "We can directly calculate the expressibility of single-qubit quantum neural networks $R_Y(\\theta)$, $R_Y(\\theta_1)R_Z(\\theta_2)$ and $R_Y(\\theta_1)R_Z(\\theta_2)R_Y(\\theta_3)$ according to this definition."
   ]
  },
  {
   "cell_type": "code",
   "execution_count": 6,
   "id": "cc1bb1b3",
   "metadata": {},
   "outputs": [
    {
     "name": "stdout",
     "output_type": "stream",
     "text": [
      "The expressiblity of Ry, Ry-Rz, and Ry-Rz-Rz are 0.21, 0.03, and 0.02, respectively.\n"
     ]
    }
   ],
   "source": [
    "from scipy.stats import entropy\n",
    "# calcutale relative entropy (K-L divergence)\n",
    "expr_y = entropy(p_y, theory_haar_1qubit)\n",
    "expr_yz = entropy(p_yz, theory_haar_1qubit)\n",
    "expr_yzy = entropy(p_yzy, theory_haar_1qubit)\n",
    "print(\"The expressiblity of Ry, Ry-Rz, and Ry-Rz-Rz are %.2f, %.2f, and %.2f, respectively.\" %(expr_y, expr_yz, expr_yzy))"
   ]
  },
  {
   "cell_type": "markdown",
   "id": "6c781089",
   "metadata": {},
   "source": [
    "###   Evaluate the expressibility of QNNs"
   ]
  },
  {
   "cell_type": "markdown",
   "id": "c35a6791",
   "metadata": {},
   "source": [
    "We now have our tool, the K-L divergence, to quantitatively study the expressibility of any quantum neural network ansatz. As a practical application, let us explore the variation of the expressibility of a Paddle Quantum QNN tamplate with different circuit depth. Here we set the width of the circuit to 4-qubit."
   ]
  },
  {
   "cell_type": "code",
   "execution_count": 7,
   "id": "17d5b27b",
   "metadata": {
    "scrolled": false
   },
   "outputs": [
    {
     "name": "stdout",
     "output_type": "stream",
     "text": [
      "F generated by a Haar random unitaty：\n"
     ]
    },
    {
     "data": {
      "image/png": "[encoded data removed]",
      "text/plain": [
       "<Figure size 432x288 with 1 Axes>"
      ]
     },
     "metadata": {
      "needs_background": "light"
     },
     "output_type": "display_data"
    },
    {
     "name": "stdout",
     "output_type": "stream",
     "text": [
      "sampling QNNs with depth 1...\n",
      "   sampling 0-th sample...\n",
      "   sampling 400-th sample...\n",
      "   sampling 800-th sample...\n",
      "   sampling 1200-th sample...\n",
      "   sampling 1600-th sample...\n",
      "   sample finished\n"
     ]
    },
    {
     "data": {
      "image/png": "[encoded data removed]",
      "text/plain": [
       "<Figure size 432x288 with 1 Axes>"
      ]
     },
     "metadata": {
      "needs_background": "light"
     },
     "output_type": "display_data"
    },
    {
     "name": "stdout",
     "output_type": "stream",
     "text": [
      "sampling QNNs with depth 2...\n",
      "   sampling 0-th sample...\n",
      "   sampling 400-th sample...\n",
      "   sampling 800-th sample...\n",
      "   sampling 1200-th sample...\n",
      "   sampling 1600-th sample...\n",
      "   sample finished\n"
     ]
    },
    {
     "data": {
      "image/png": "[encoded data removed]",
      "text/plain": [
       "<Figure size 432x288 with 1 Axes>"
      ]
     },
     "metadata": {
      "needs_background": "light"
     },
     "output_type": "display_data"
    },
    {
     "name": "stdout",
     "output_type": "stream",
     "text": [
      "sampling QNNs with depth 3...\n",
      "   sampling 0-th sample...\n",
      "   sampling 400-th sample...\n",
      "   sampling 800-th sample...\n",
      "   sampling 1200-th sample...\n",
      "   sampling 1600-th sample...\n",
      "   sample finished\n"
     ]
    },
    {
     "data": {
      "image/png": "[encoded data removed]",
      "text/plain": [
       "<Figure size 432x288 with 1 Axes>"
      ]
     },
     "metadata": {
      "needs_background": "light"
     },
     "output_type": "display_data"
    },
    {
     "name": "stdout",
     "output_type": "stream",
     "text": [
      "The expressibility of depth 1, 2 and 3 is [0.3136 0.0122 0.0097]\n"
     ]
    },
    {
     "data": {
      "image/png": "[encoded data removed]",
      "text/plain": [
       "<Figure size 432x288 with 1 Axes>"
      ]
     },
     "metadata": {
      "needs_background": "light"
     },
     "output_type": "display_data"
    }
   ],
   "source": [
    "# evaluate the probability distribution of F generated by the complex entangled QNN\n",
    "def p_F_cel(n, d, s, b=50, draw=False):\n",
    "    pq.set_backend('state_vector')\n",
    "    f_list = list()\n",
    "    for index in range(int(s / 2)):\n",
    "        if 2 * index % 400 == 0:\n",
    "            print(\"   sampling %d-th sample...\" % (2 * index))\n",
    "        cir1 = Circuit(n)\n",
    "        # add complex entangled layers\n",
    "        cir1.complex_entangled_layer('full', d)\n",
    "        # output a state vector\n",
    "        rho1 = cir1(pq.state.zero_state(n))\n",
    "        \n",
    "        cir2 = Circuit(n)\n",
    "        # add complex entangled layers\n",
    "        cir2.complex_entangled_layer('full', d)\n",
    "        # output another state vector\n",
    "        rho2 = cir2(pq.state.zero_state(n))\n",
    "        \n",
    "        # calculate fidelity\n",
    "        f_list.append(abs(np.inner(rho1.data.numpy(), rho2.data.numpy().conj()))**2)\n",
    "        \n",
    "    print(\"   sample finished\")\n",
    "    f_list = np.array(f_list)\n",
    "    # plot histgram\n",
    "    if draw:\n",
    "        title_str = \"complex entangled layer, %d layer(s)\" % d\n",
    "        plot_hist(f_list, b, title_str)\n",
    "    distribution, _ = np.histogram(f_list, bins=np.linspace(0, 1, num=b), density=True)\n",
    "    return distribution\n",
    "\n",
    "\n",
    "# set the width and maximal depth \n",
    "num_qubit = 4\n",
    "max_depth = 3\n",
    "# evaluate the probability distribution of F generated by a Haar random unitaty\n",
    "print(\"F generated by a Haar random unitaty：\")\n",
    "p_haar_4qubit, theory_haar_4qubit = p_F_haar(num_qubit, num_sample, draw=True)\n",
    "Expr_cel = list()\n",
    "# evaluate the expressibility of QNNs with different depth\n",
    "for DEPTH in range(1, max_depth + 1):\n",
    "    print(\"sampling QNNs with depth %d...\" % DEPTH)\n",
    "    p_cel = p_F_cel(num_qubit, DEPTH, num_sample, draw=True)\n",
    "    expr = entropy(p_cel, theory_haar_4qubit)\n",
    "    Expr_cel.append(expr)\n",
    "# compare the expressibility\n",
    "print(\"The expressibility of depth 1, 2 and 3 is\", np.around(Expr_cel, decimals=4))\n",
    "plt.plot(range(1, max_depth + 1), Expr_cel, marker='>')\n",
    "plt.xlabel(\"depth\")\n",
    "plt.yscale('log')\n",
    "plt.ylabel(\"Expr.\")\n",
    "plt.xticks(range(1, max_depth + 1))\n",
    "plt.title(\"Expressibility vs Circuit Depth\")\n",
    "plt.show()"
   ]
  },
  {
   "cell_type": "markdown",
   "id": "3548ed5c",
   "metadata": {},
   "source": [
    "As we would observe, the expressibility of the quantum neural network is gradually enhanced with the increase of circuit depth. Interested readers are welcome to try to evaluate the expressibility of other Paddle Quantum QNN templates, and compare the difference in expressibility between different templates."
   ]
  },
  {
   "cell_type": "markdown",
   "id": "699d3925",
   "metadata": {},
   "source": [
    "_______\n",
    "\n",
    "## References\n",
    "\n",
    "[1] Nielsen, Michael A., and Isaac L. Chuang. \"Quantum Computation and Quantum Information.\" Cambridge University Press, 2010.\n",
    "\n",
    "[2] Sim, Sukin, Peter D. Johnson, and Alán Aspuru‐Guzik. \"Expressibility and entangling capability of parameterized quantum circuits for hybrid quantum‐classical algorithms.\" [Advanced Quantum Technologies 2.12 (2019): 1900070](https://onlinelibrary.wiley.com/doi/abs/10.1002/qute.201900070)."
   ]
  }
 ],
 "metadata": {
  "kernelspec": {
   "display_name": "Python 3 (ipykernel)",
   "language": "python",
   "name": "python3"
  },
  "language_info": {
   "codemirror_mode": {
    "name": "ipython",
    "version": 3
   },
   "file_extension": ".py",
   "mimetype": "text/x-python",
   "name": "python",
   "nbconvert_exporter": "python",
   "pygments_lexer": "ipython3",
   "version": "3.8.13"
  }
 },
 "nbformat": 4,
 "nbformat_minor": 5
}
