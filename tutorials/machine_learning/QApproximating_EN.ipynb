{
 "cells": [
  {
   "cell_type": "markdown",
   "metadata": {},
   "source": [
    "# Quantum Neural Network Approximating Functions\n",
    "\n",
    "*Copyright (c) 2022 Institute for Quantum Computing, Baidu Inc. All Rights Reserved.*"
   ]
  },
  {
   "cell_type": "markdown",
   "metadata": {},
   "source": [
    "# Overview\n",
    "Quantum neural network (QNN) is a common quantum machine learning model that consists of parameterized quantum circuits. By tuning parameters of quantum circuits, a QNN is able to minimize an objective function of interest. Similar to the Neural Network (NN) model in machine learning, the expressivity of QNN is characterized by the function classes that it can approximate. The Universal Approximation Theorem (UAT) in machine learning theory describes the ability of multi-layer NNs to approximate any function. In recent times, the universal approximation property (UAP) of multi-qubit QNN models has been investigated by correlating QNN to Fourier series [1]. However, the expressivity of single-qubit QNNs remains an open problem. In our recent paper [2], we prove that single-qubit QNNs can approximate any univariate function, by exploring connections to quantum signal processing, which solve this open problem. In this tutorial, we demonstrate how to use single-qubit QNNs to approximate any target function."
   ]
  },
  {
   "cell_type": "markdown",
   "metadata": {},
   "source": [
    "# Single-qubit QNN approximating any even function\n",
    "We use data re-uploading single-qubit QNNs that consist of interleaved data encoding gates and trainable gates. Both the data encoding gates and trainable gates are selected from the Pauli rotation gates $\\{ R_X,R_Y,R_Z \\}$. Let the initial state be $|0\\rangle$，we define the output of the QNN be the measurement results of some observables $M$,\n",
    "\n",
    "$$\n",
    "f_U(x) = \\langle 0| U^\\dagger M U |0\\rangle, \\tag{1}\n",
    "$$\n",
    "\n",
    "where $x$ is the input data and $U$ denotes the QNN.\n",
    "\n",
    "First, let us consider the simplest case, i.e. choosing $R_Z$ as the data encoding gates and $R_Y$ as the trainable gate. We define the single-qubit QNN as follow,\n",
    "\n",
    "$$\n",
    "U^{\\mathit{YZY}}_{\\mathbf{\\theta}, L}(x) = R_Y(\\theta_0) \\sum_{j=1}^LR_Z(x)R_Y(\\theta_j), \\tag{2}\n",
    "$$\n",
    "\n",
    "where $\\mathbf{\\theta} := (\\theta_0, \\ldots, \\theta_L)$ is the set of trainable parameters and $L$ denotes the number of layers.\n",
    "\n",
    "We prove that a single-qubit QNN $U^{\\mathit{YZY}}_{\\mathbf{\\theta}, L}(x)$ can represent Fourier series\n",
    "\n",
    "$$\n",
    "\\langle 0|U^{\\mathit{YZY}}_{\\mathbf{\\theta}, L}(x) |0\\rangle = a_0 + \\sum_{j=1}^{L}a_j\\cos(nx). \\tag{3}\n",
    "$$\n",
    "When choosing the observable as the Pauli operator $Z$，the output of this QNN can approximate any square-integrable even function $f: [-\\pi, \\pi] \\to [-1, 1]$.\n",
    "\n",
    "Now we numerically simulate the single-qubit QNN approximation on Paddle Quantum to verify the results. First we import the required packages."
   ]
  },
  {
   "cell_type": "code",
   "execution_count": 15,
   "metadata": {},
   "outputs": [],
   "source": [
    "import paddle\n",
    "import numpy as np\n",
    "import paddle_quantum\n",
    "from paddle_quantum.ansatz import Circuit\n",
    "from paddle_quantum.hamiltonian import Hamiltonian\n",
    "from paddle_quantum.loss import ExpecVal\n",
    "import matplotlib.pyplot as plt\n",
    "import brewer2mpl\n",
    "import matplotlib\n",
    "# set the backend to state vector mode\n",
    "paddle_quantum.set_backend(\"state_vector\")"
   ]
  },
  {
   "cell_type": "markdown",
   "metadata": {},
   "source": [
    "We define a function to construct the corresponding QNN, consisting of interleaved data encoding gates $R_Z$ and trainable gates $R_Y$."
   ]
  },
  {
   "cell_type": "code",
   "execution_count": 16,
   "metadata": {},
   "outputs": [],
   "source": [
    "# Construct the parameterized quantum circuit in YZY structure.\n",
    "def U_YZY(train_block, w_theta, x):\n",
    "    cir = Circuit(1)\n",
    "    for i in range(train_block):\n",
    "        cir.ry(0, param=w_theta[i])\n",
    "        cir.rz(0, param=x)  # input data\n",
    "    cir.ry(0, param=w_theta[-1])\n",
    "    return cir"
   ]
  },
  {
   "cell_type": "markdown",
   "metadata": {},
   "source": [
    "Let a damping function $f(x) = \\sin(5x)/5x$ be the target function, and we need to sample data points used for training."
   ]
  },
  {
   "cell_type": "code",
   "execution_count": 17,
   "metadata": {},
   "outputs": [
    {
     "name": "stderr",
     "output_type": "stream",
     "text": [
      "C:\\Users\\yuzhan01\\AppData\\Local\\Temp\\ipykernel_26936\\3212922392.py:8: RuntimeWarning: invalid value encountered in true_divide\n",
      "  y_plot = np.sin(5*x_plot) / (5*x_plot)\n"
     ]
    }
   ],
   "source": [
    "# Define the target function\n",
    "def target_func(x):\n",
    "    return np.sin(5 * x) / (5 * x)\n",
    "\n",
    "# Randomly sample data points from the target function.\n",
    "def get_data():\n",
    "    x_plot = np.arange(0, np.pi, np.pi/1000)\n",
    "    y_plot = target_func(x_plot)\n",
    "    \n",
    "    np.random.seed(0)\n",
    "    x_all = np.random.uniform(0, np.pi, 300)\n",
    "    \n",
    "    y_all = np.sin(5*x_all) / (5*x_all)\n",
    "\n",
    "    x_train, y_train = x_all[:200], y_all[:200]\n",
    "    x_test, y_test = x_all[200:], y_all[200:]\n",
    "\n",
    "    return x_train, y_train, x_test, y_test, x_plot, y_plot\n",
    "    \n",
    "# Get the training set and test set\n",
    "x_train, y_train, x_test, y_test, x_plot, y_plot = get_data()"
   ]
  },
  {
   "cell_type": "markdown",
   "metadata": {},
   "source": [
    "Next we define the QNN training model and a training function."
   ]
  },
  {
   "cell_type": "code",
   "execution_count": 18,
   "metadata": {},
   "outputs": [],
   "source": [
    "class QNN(paddle.nn.Layer):\n",
    "    def __init__(self, \n",
    "                 train_block,           # L layer\n",
    "                 SEED=0,\n",
    "                 dtype='float64'):\n",
    "        super(QNN, self).__init__()\n",
    "        self.train_block = train_block\n",
    "        paddle.seed(SEED)\n",
    "        # initiate trainable parameter \n",
    "        self.w_theta = self.create_parameter(\n",
    "            shape=[(train_block+1)],\n",
    "            default_initializer=paddle.nn.initializer.Uniform(0.0, 2 * np.pi),\n",
    "            dtype=dtype,\n",
    "            is_bias=False)\n",
    "\n",
    "\n",
    "    def forward(self, x):\n",
    "        \"\"\"\n",
    "        Forward propagation\n",
    "        \"\"\"\n",
    "        predict = []\n",
    "        H = Hamiltonian([(1.0, \"z0\")])\n",
    "        out_func = ExpecVal(H)\n",
    "        x = paddle.to_tensor(x, dtype='float64')\n",
    "        if len(x.shape) == 1:  # 1-dimension data\n",
    "            x = x.reshape((-1, 1))\n",
    "        for i in range(x.shape[0]):\n",
    "            cir = U_YZY(self.train_block, self.w_theta, x[i])\n",
    "            # Run the quantum circuit\n",
    "            out_state = cir()\n",
    "            predict.append(out_func(out_state))\n",
    "        return paddle.concat(predict).reshape((-1,)), cir\n",
    "\n",
    "\n",
    "# Training\n",
    "def train_qnn(x, y, train_block, LR, ITR, SEED, BATCHSIZE=20):\n",
    "    model = QNN(train_block, SEED)\n",
    "    opt = paddle.optimizer.Adam(learning_rate=LR, parameters=model.parameters())\n",
    "    loss_list = []\n",
    "    x = paddle.to_tensor(x, dtype='float64')\n",
    "    y = paddle.to_tensor(y, dtype='float64')\n",
    "    for ep in range(1, ITR + 1):\n",
    "        # Select batch of data\n",
    "        for itr in range(len(x) // BATCHSIZE):\n",
    "            x_batch = x[itr * BATCHSIZE:(itr + 1) * BATCHSIZE]\n",
    "            y_batch = y[itr * BATCHSIZE:(itr + 1) * BATCHSIZE]\n",
    "            # Run the network defined above\n",
    "            predict, cir = model(x_batch)\n",
    "            avg_loss = paddle.mean((predict - y_batch) ** 2)\n",
    "            loss_list.append(avg_loss.numpy())\n",
    "            # Calculate the gradient and optimize\n",
    "            avg_loss.backward()\n",
    "            opt.minimize(avg_loss)\n",
    "            opt.clear_grad()\n",
    "            if (itr+1) % 5 == 0:\n",
    "                print(\"qnn:epoch:\", ep,\"qnn:iter:\", (itr+1), \" train  loss:\", \"%.8f\" % avg_loss.numpy())\n",
    "\n",
    "    return model, loss_list"
   ]
  },
  {
   "cell_type": "markdown",
   "metadata": {},
   "source": [
    "We use a 10-layer QNN to approximate the target function. Before training, we need to set some hyper-parameters for the optimizer."
   ]
  },
  {
   "cell_type": "code",
   "execution_count": 19,
   "metadata": {},
   "outputs": [
    {
     "name": "stderr",
     "output_type": "stream",
     "text": [
      "c:\\Users\\yuzhan01\\Miniconda3\\envs\\pq_new\\lib\\site-packages\\paddle\\tensor\\creation.py:125: DeprecationWarning: `np.object` is a deprecated alias for the builtin `object`. To silence this warning, use `object` by itself. Doing this will not modify any behavior and is safe. \n",
      "Deprecated in NumPy 1.20; for more details and guidance: https://numpy.org/devdocs/release/1.20.0-notes.html#deprecations\n",
      "  if data.dtype == np.object:\n",
      "c:\\Users\\yuzhan01\\Miniconda3\\envs\\pq_new\\lib\\site-packages\\paddle\\fluid\\framework.py:1104: DeprecationWarning: `np.bool` is a deprecated alias for the builtin `bool`. To silence this warning, use `bool` by itself. Doing this will not modify any behavior and is safe. If you specifically wanted the numpy scalar type, use `np.bool_` here.\n",
      "Deprecated in NumPy 1.20; for more details and guidance: https://numpy.org/devdocs/release/1.20.0-notes.html#deprecations\n",
      "  elif dtype == np.bool:\n",
      "c:\\Users\\yuzhan01\\Miniconda3\\envs\\pq_new\\lib\\site-packages\\paddle\\fluid\\dygraph\\math_op_patch.py:276: UserWarning: The dtype of left and right variables are not the same, left dtype is paddle.float32, but right dtype is paddle.float64, the right dtype will convert to paddle.float32\n",
      "  warnings.warn(\n"
     ]
    },
    {
     "name": "stdout",
     "output_type": "stream",
     "text": [
      "qnn:epoch: 1 qnn:iter: 5  train  loss: 0.12315345\n",
      "qnn:epoch: 1 qnn:iter: 10  train  loss: 0.06922857\n",
      "qnn:epoch: 2 qnn:iter: 5  train  loss: 0.02042443\n",
      "qnn:epoch: 2 qnn:iter: 10  train  loss: 0.04707706\n",
      "qnn:epoch: 3 qnn:iter: 5  train  loss: 0.01874223\n",
      "qnn:epoch: 3 qnn:iter: 10  train  loss: 0.01295448\n",
      "qnn:epoch: 4 qnn:iter: 5  train  loss: 0.00991240\n",
      "qnn:epoch: 4 qnn:iter: 10  train  loss: 0.00303511\n",
      "qnn:epoch: 5 qnn:iter: 5  train  loss: 0.00157935\n",
      "qnn:epoch: 5 qnn:iter: 10  train  loss: 0.00089821\n",
      "qnn:epoch: 6 qnn:iter: 5  train  loss: 0.00046386\n",
      "qnn:epoch: 6 qnn:iter: 10  train  loss: 0.00054655\n",
      "qnn:epoch: 7 qnn:iter: 5  train  loss: 0.00059435\n",
      "qnn:epoch: 7 qnn:iter: 10  train  loss: 0.00022313\n",
      "qnn:epoch: 8 qnn:iter: 5  train  loss: 0.00028409\n",
      "qnn:epoch: 8 qnn:iter: 10  train  loss: 0.00017835\n",
      "qnn:epoch: 9 qnn:iter: 5  train  loss: 0.00017996\n",
      "qnn:epoch: 9 qnn:iter: 10  train  loss: 0.00018871\n",
      "qnn:epoch: 10 qnn:iter: 5  train  loss: 0.00016455\n",
      "qnn:epoch: 10 qnn:iter: 10  train  loss: 0.00012700\n"
     ]
    }
   ],
   "source": [
    "SEED = 4096\n",
    "QITR = 10\n",
    "QLR = 0.1\n",
    "train_block = 10\n",
    "modelL10, loss_listL10 = train_qnn(x_train, y_train, train_block=train_block, LR=QLR, ITR=QITR, SEED=SEED)\n",
    "predictL10 = modelL10(x_test)"
   ]
  },
  {
   "cell_type": "markdown",
   "metadata": {},
   "source": [
    "After training, we plot the approximation result."
   ]
  },
  {
   "cell_type": "code",
   "execution_count": 21,
   "metadata": {},
   "outputs": [
    {
     "data": {
      "image/png": "[encoded data removed]",
      "text/plain": [
       "<Figure size 432x288 with 1 Axes>"
      ]
     },
     "metadata": {
      "needs_background": "light"
     },
     "output_type": "display_data"
    }
   ],
   "source": [
    "matplotlib.rcParams[\"font.family\"] = \"serif\"\n",
    "matplotlib.rcParams[\"mathtext.fontset\"] = \"cm\"\n",
    "bmap = brewer2mpl.get_map(\"Set1\", \"qualitative\", 7)\n",
    "colors = bmap.mpl_colors\n",
    "\n",
    "plt.plot(x_plot, y_plot, color=\"#304860\", ls=\"--\", lw=2.5, label=\"Target function\")\n",
    "\n",
    "plt.scatter(\n",
    "        x_test,\n",
    "        predictL10[0].numpy(),\n",
    "        s=40,\n",
    "        marker=\"^\",\n",
    "        facecolor=\"white\",\n",
    "        color=\"#D1193E\",\n",
    "        label=\"QNN L=10\",\n",
    "    )\n",
    "plt.xlabel(r\"$x$\", fontdict={\"size\": 22})\n",
    "plt.ylabel(r\"$f(x)$\", fontdict={\"size\": 22})\n",
    "plt.xticks(fontsize=10)\n",
    "plt.yticks(fontsize=10)\n",
    "plt.legend(prop={\"size\": 12})\n",
    "plt.text(0, -0.2, r\"(a)\", fontsize=16)\n",
    "plt.tick_params(labelsize=16)\n",
    "plt.show()"
   ]
  },
  {
   "cell_type": "markdown",
   "metadata": {},
   "source": [
    "From the result, we can see that using a 10-layer QNN with YZY structure is able to approximate the target function in a high precision, which verifies the theoretical result on the expressivity of QNNs."
   ]
  },
  {
   "cell_type": "markdown",
   "metadata": {},
   "source": [
    "# Single-qubit QNN approximating any function\n",
    "\n",
    "Now that $U^{\\mathit{YZY}}_{\\mathbf{\\theta}, L}$ can approximate any even function, can we make some changes so that it can approximate any function?\n",
    "Actually, we just need to introduce $\\sin$ terms to complete the Fourier series, by adding an extra trainable gate $R_Z$ in each layer. We define a new QNN as follow:\n",
    "\n",
    "$$\n",
    "U^{\\mathit{WZW}}_{\\mathbf{\\theta},\\mathbf{\\phi}, L}(x) = R_Y(\\theta_0)R_Z(\\phi_0) \\sum_{j=1}^L R_Z(x) R_Y(\\theta_j)R_Z(\\phi_j), \\tag{4}\n",
    "$$\n",
    "\n",
    "where $\\mathbf{\\theta} := (\\theta_0, \\ldots, \\theta_L)$ and $\\mathbf{\\phi} := (\\phi_0, \\ldots, \\phi_L)$ are trainable parameters，$L$ denotes the number of layers. We proved that this QNN can represent the Fourier series,\n",
    "\n",
    "$$\n",
    "\\langle 0|U^{\\mathit{WZW}}_{\\mathbf{\\theta},\\mathbf{\\phi}, L}(x) |0\\rangle = a_0 + \\sum_{j=1}^{L}(a_j\\cos(nx)+ b_j\\sin(nx)), \\tag{5}\n",
    "$$\n",
    "\n",
    "and it can approximate any square-integrable function $f: [-\\pi, \\pi] \\to [-1, 1]$.\n",
    "\n",
    "Then we use the single-qubit QNN to approximate a square-wave function on Paddle Quantum to verify the results. First define a function to construct the corresponding QNN $U^{\\mathit{WZW}}_{\\mathbf{\\theta},\\mathbf{\\phi}, L}$."
   ]
  },
  {
   "cell_type": "code",
   "execution_count": 8,
   "metadata": {},
   "outputs": [],
   "source": [
    "def U_WZW(train_block, w_theta, x):\n",
    "    cir = Circuit(1)\n",
    "    for i in range(train_block):\n",
    "        cir.rz(0, param=w_theta[i][1])\n",
    "        cir.ry(0, param=w_theta[i][0])\n",
    "        cir.rz(0, param=x)  # input data\n",
    "    cir.rz(0, param=w_theta[-1][1])\n",
    "    cir.ry(0, param=w_theta[-1][0])\n",
    "    return cir"
   ]
  },
  {
   "cell_type": "markdown",
   "metadata": {},
   "source": [
    "Same as in previous section, we need to define the target function and sample data points used for training."
   ]
  },
  {
   "cell_type": "code",
   "execution_count": 9,
   "metadata": {},
   "outputs": [],
   "source": [
    "def square_wave(trunk):\n",
    "    x_train = np.linspace(0, 20, 400)\n",
    "    x_test = np.linspace(0.02, 30, 150)\n",
    "\n",
    "    def func(x):\n",
    "        cof = 0\n",
    "        for i in range(1, trunk+1, 2):\n",
    "            cof = cof + 4*np.sin(i*x)/(i*np.pi)\n",
    "        y_max = max(cof)\n",
    "        cof /= y_max\n",
    "        return cof\n",
    "    \n",
    "    y_train = func(x_train)\n",
    "    y_test = func(x_test)\n",
    "\n",
    "    return x_train, y_train, x_test, y_test\n",
    "\n",
    "x_train, y_train, x_test, y_test = square_wave(10000)"
   ]
  },
  {
   "cell_type": "markdown",
   "metadata": {},
   "source": [
    "Next we define the QNN training model and a training function."
   ]
  },
  {
   "cell_type": "code",
   "execution_count": 10,
   "metadata": {},
   "outputs": [],
   "source": [
    "class QNN(paddle.nn.Layer):\n",
    "    def __init__(self, \n",
    "                 train_block,           # L layer\n",
    "                 SEED=0,\n",
    "                 dtype='float64'):\n",
    "        super(QNN, self).__init__()\n",
    "        self.train_block = train_block\n",
    "        paddle.seed(SEED)\n",
    "        # initiate trainable parameter \n",
    "        self.w_theta = self.create_parameter(\n",
    "            shape=[(train_block+1), 2],\n",
    "            default_initializer=paddle.nn.initializer.Uniform(0.0, 2*np.pi),\n",
    "            dtype=dtype,\n",
    "            is_bias=False)\n",
    "\n",
    "\n",
    "    def forward(self, x):\n",
    "        \"\"\"\n",
    "        Forward propagation\n",
    "        \"\"\"\n",
    "        predict = []\n",
    "        H = Hamiltonian([(1.0, \"z0\")])\n",
    "        out_func = ExpecVal(H)\n",
    "        x = paddle.to_tensor(x, dtype='float64')\n",
    "        if len(x.shape) == 1:  # 1-dimension data\n",
    "            x = x.reshape((-1, 1))\n",
    "        for i in range(x.shape[0]):\n",
    "            cir = U_WZW(self.train_block, self.w_theta, x[i])\n",
    "            # Run the quantum circuit\n",
    "            out_state = cir()\n",
    "            predict.append(out_func(out_state))\n",
    "        return paddle.concat(predict).reshape((-1,)), cir\n",
    "\n",
    "\n",
    "# Training\n",
    "def train_qnn(x, y, train_block, LR, ITR, SEED, BATCHSIZE=40):\n",
    "    model = QNN(train_block, SEED)\n",
    "    opt = paddle.optimizer.Adam(learning_rate=LR, parameters=model.parameters())\n",
    "    loss_list = []\n",
    "    x = paddle.to_tensor(x, dtype='float64')\n",
    "    y = paddle.to_tensor(y, dtype='float64')\n",
    "    for ep in range(1, ITR + 1):\n",
    "        # Select batch of data\n",
    "        for itr in range(len(x) // BATCHSIZE):\n",
    "            x_batch = x[itr * BATCHSIZE:(itr + 1) * BATCHSIZE]\n",
    "            y_batch = y[itr * BATCHSIZE:(itr + 1) * BATCHSIZE]\n",
    "            # Run the network defined above\n",
    "            predict, cir = model(x_batch)\n",
    "            avg_loss = paddle.mean((predict - y_batch) ** 2)\n",
    "            loss_list.append(avg_loss.numpy())\n",
    "            # Calculate the gradient and optimize\n",
    "            avg_loss.backward()\n",
    "            opt.minimize(avg_loss)\n",
    "            opt.clear_grad()\n",
    "            if (itr+1) % 5 == 0:\n",
    "                print(\"qnn:epoch:\", ep,\"qnn:iter:\", (itr+1), \" train  loss:\", \"%.8f\" % avg_loss.numpy())\n",
    "\n",
    "    return model, loss_list"
   ]
  },
  {
   "cell_type": "markdown",
   "metadata": {},
   "source": [
    "We use a 45-layer QNN to approximate the square-wave function. Note that the number of layers required for precise approximate is related to the truncation error for Fourier series. Usually more layers leads to better approximation results."
   ]
  },
  {
   "cell_type": "code",
   "execution_count": 11,
   "metadata": {},
   "outputs": [
    {
     "name": "stderr",
     "output_type": "stream",
     "text": [
      "c:\\Users\\yuzhan01\\Miniconda3\\envs\\pq_new\\lib\\site-packages\\paddle\\tensor\\creation.py:125: DeprecationWarning: `np.object` is a deprecated alias for the builtin `object`. To silence this warning, use `object` by itself. Doing this will not modify any behavior and is safe. \n",
      "Deprecated in NumPy 1.20; for more details and guidance: https://numpy.org/devdocs/release/1.20.0-notes.html#deprecations\n",
      "  if data.dtype == np.object:\n",
      "c:\\Users\\yuzhan01\\Miniconda3\\envs\\pq_new\\lib\\site-packages\\paddle\\fluid\\framework.py:1104: DeprecationWarning: `np.bool` is a deprecated alias for the builtin `bool`. To silence this warning, use `bool` by itself. Doing this will not modify any behavior and is safe. If you specifically wanted the numpy scalar type, use `np.bool_` here.\n",
      "Deprecated in NumPy 1.20; for more details and guidance: https://numpy.org/devdocs/release/1.20.0-notes.html#deprecations\n",
      "  elif dtype == np.bool:\n",
      "c:\\Users\\yuzhan01\\Miniconda3\\envs\\pq_new\\lib\\site-packages\\paddle\\fluid\\dygraph\\math_op_patch.py:276: UserWarning: The dtype of left and right variables are not the same, left dtype is paddle.float32, but right dtype is paddle.float64, the right dtype will convert to paddle.float32\n",
      "  warnings.warn(\n"
     ]
    },
    {
     "name": "stdout",
     "output_type": "stream",
     "text": [
      "qnn:epoch: 1 qnn:iter: 5  train  loss: 1.35621011\n",
      "qnn:epoch: 1 qnn:iter: 10  train  loss: 1.06700826\n",
      "qnn:epoch: 2 qnn:iter: 5  train  loss: 1.59428942\n",
      "qnn:epoch: 2 qnn:iter: 10  train  loss: 0.32698074\n",
      "qnn:epoch: 3 qnn:iter: 5  train  loss: 0.30190033\n",
      "qnn:epoch: 3 qnn:iter: 10  train  loss: 0.09284516\n",
      "qnn:epoch: 4 qnn:iter: 5  train  loss: 0.11605076\n",
      "qnn:epoch: 4 qnn:iter: 10  train  loss: 0.06084419\n",
      "qnn:epoch: 5 qnn:iter: 5  train  loss: 0.10283329\n",
      "qnn:epoch: 5 qnn:iter: 10  train  loss: 0.07899086\n",
      "qnn:epoch: 6 qnn:iter: 5  train  loss: 0.06403162\n",
      "qnn:epoch: 6 qnn:iter: 10  train  loss: 0.05624062\n",
      "qnn:epoch: 7 qnn:iter: 5  train  loss: 0.05701165\n",
      "qnn:epoch: 7 qnn:iter: 10  train  loss: 0.05501990\n",
      "qnn:epoch: 8 qnn:iter: 5  train  loss: 0.05415571\n",
      "qnn:epoch: 8 qnn:iter: 10  train  loss: 0.05919911\n",
      "qnn:epoch: 9 qnn:iter: 5  train  loss: 0.05508716\n",
      "qnn:epoch: 9 qnn:iter: 10  train  loss: 0.05666707\n",
      "qnn:epoch: 10 qnn:iter: 5  train  loss: 0.05592950\n",
      "qnn:epoch: 10 qnn:iter: 10  train  loss: 0.05661748\n"
     ]
    }
   ],
   "source": [
    "SEED = 2\n",
    "QITR = 10\n",
    "QLR = 0.1\n",
    "train_block = 45\n",
    "modelL45, loss_listL45 = train_qnn(x_train, y_train, train_block=train_block, LR=QLR, ITR=QITR, SEED=SEED)\n",
    "predictL45 = modelL45(x_test)"
   ]
  },
  {
   "cell_type": "markdown",
   "metadata": {},
   "source": [
    "Then we plot to show the approximation results."
   ]
  },
  {
   "cell_type": "code",
   "execution_count": 13,
   "metadata": {},
   "outputs": [
    {
     "data": {
      "image/png": "[encoded data removed]",
      "text/plain": [
       "<Figure size 720x432 with 1 Axes>"
      ]
     },
     "metadata": {
      "needs_background": "light"
     },
     "output_type": "display_data"
    },
    {
     "data": {
      "text/plain": [
       "<Figure size 432x288 with 0 Axes>"
      ]
     },
     "metadata": {},
     "output_type": "display_data"
    }
   ],
   "source": [
    "fig, ax1 = plt.subplots(1, 1,figsize=(10,6))\n",
    "ax1.plot(x_train, y_train, label='Target function', color='#000181', lw=2, linestyle='--')\n",
    "ax1.plot(x_test, predictL45[0].numpy(), label='QNN L=45', color='#AE2D68', lw=2,linestyle='-')\n",
    "ax1.axvline(20, alpha=0.7,ls='--',c='#280659')\n",
    "ax1.set_xlabel(r'$x$', fontdict={'size':22})\n",
    "ax1.set_ylabel(r'$f(x)$', fontdict={'size':22})\n",
    "plt.tick_params(labelsize=16)\n",
    "ax1.legend(prop={'size': 12})\n",
    "plt.show()"
   ]
  },
  {
   "cell_type": "markdown",
   "metadata": {},
   "source": [
    "The single qubit QNN can approximate the target square-wave function that is arguably hard to approximate by classical NNs, which verifies the theoretical results."
   ]
  },
  {
   "cell_type": "markdown",
   "metadata": {},
   "source": [
    "---\n",
    "## Reference\n",
    "\n",
    "[1] Schuld, Maria, Ryan Sweke, and Johannes Jakob Meyer. \"Effect of data encoding on the expressive power of variational quantum-machine-learning models.\" [Physical Review A 103.3 (2021): 032430.](https://doi.org/10.1103/PhysRevA.103.032430)\n",
    "\n",
    "[2] Yu, Zhan, et al. \"Power and limitations of single-qubit native quantum neural networks.\" [arXiv preprint arXiv:2205.07848 (2022).](https://doi.org/10.48550/arXiv.2205.07848)"
   ]
  }
 ],
 "metadata": {
  "kernelspec": {
   "display_name": "Python 3.8.13 ('pq')",
   "language": "python",
   "name": "python3"
  },
  "language_info": {
   "codemirror_mode": {
    "name": "ipython",
    "version": 3
   },
   "file_extension": ".py",
   "mimetype": "text/x-python",
   "name": "python",
   "nbconvert_exporter": "python",
   "pygments_lexer": "ipython3",
   "version": "3.8.13"
  },
  "vscode": {
   "interpreter": {
    "hash": "08942b1340a5932ff3a93f52933a99b0e263568f3aace1d262ffa4d9a0f2da31"
   }
  }
 },
 "nbformat": 4,
 "nbformat_minor": 2
}
