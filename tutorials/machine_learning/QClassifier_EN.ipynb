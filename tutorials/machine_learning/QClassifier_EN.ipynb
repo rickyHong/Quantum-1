{
 "cells": [
  {
   "cell_type": "markdown",
   "metadata": {},
   "source": [
    "# Quantum Classifier\n",
    "\n",
    "<em> Copyright (c) 2021 Institute for Quantum Computing, Baidu Inc. All Rights Reserved. </em>"
   ]
  },
  {
   "cell_type": "markdown",
   "metadata": {},
   "source": [
    "## Overview\n",
    "\n",
    "In this tutorial, we will discuss the workflow of Variational Quantum Classifiers (VQC) and how to use quantum neural networks (QNN) to accomplish a **binary classification** task. The main representatives of this approach include the [Quantum Circuit Learning (QCL)](https://arxiv.org/abs/1803.00745) [1] by Mitarai et al. (2018), Farhi & Neven (2018) [2] and [Circuit-Centric Quantum Classifiers](https://arxiv.org/abs/1804.00633) [3] by Schuld et al. (2018). Here, we mainly talk about classification in the language of supervised learning. Unlike classical methods, quantum classifiers require pre-processing to encode classical data into quantum data, and then train the parameters in the quantum neural network. Using different encoding methods, we can benchmark the optimal classification performance through test data. Finally, we demonstrate how to use built-in quantum datasets to accomplish quantum classification.\n",
    "\n",
    "### Background\n",
    "\n",
    "In the language of supervised learning, we need to enter a data set composed of $N$ pairs of labeled data points $D = \\{(x^k,y^k)\\}_{k=1}^{N}$ , Where $x^k\\in \\mathbb{R}^{m}$ is the data point, and $y^k \\in\\{0,1\\}$ is the label associated with the data point $x^k$. **The classification process is essentially a decision-making process, which determines the label attribution of a given data point**. For the quantum classifier framework, the realization of the classifier $\\mathcal{F}$ is a combination of a quantum neural network (or parameterized quantum circuit) with parameters $\\theta$, measurement, and data processing. An excellent classifier $\\mathcal{F}_\\theta$ should correctly map the data points in each data set to the corresponding labels as accurate as possible $\\mathcal{F}_\\theta(x^k ) \\rightarrow y^k$. Therefore, we use the cumulative distance between the predicted label $\\tilde{y}^{k} = \\mathcal{F}_\\theta(x^k)$ and the actual label $y^k$ as the loss function $\\mathcal {L}(\\theta)$ to be optimized. For binary classification tasks, we can choose the following loss function,\n",
    "\n",
    "$$\n",
    "\\mathcal{L}(\\theta) = \\sum_{k=1}^N 1/N \\cdot |\\tilde{y}^{k}-y^k|^2. \\tag{1}\n",
    "$$\n",
    "\n",
    "### Pipeline\n",
    "\n",
    "Here we give the whole pipeline to implement a quantum classifier under the framework of quantum circuit learning (QCL).\n",
    "\n",
    "1. Encode the classical data $x^k$ to quantum data $\\lvert \\psi_{\\rm in}\\rangle^k$. In this tutorial, we use Angle Encoding, see [encoding methods](./DataEncoding_EN.ipynb) for details. Readers can also try other encoding methods, e.g., Amplitude Encoding, and see the performance.\n",
    "2. Construct the parameterized quantum circuit (PQC), corresponds to the unitary gate $U(\\theta)$.\n",
    "3. Apply the parameterized circuit $U(\\theta)$ with the parameter $\\theta$ on input states $\\lvert \\psi_{\\rm in} \\rangle^k$, thereby obtaining the output state $\\lvert \\psi_{\\rm out} \\rangle^k = U(\\theta)\\lvert \\psi_{\\rm in} \\rangle^k$.\n",
    "4. Measure the quantum state $\\lvert \\psi_{\\rm out}\\rangle^k$ processed by the quantum neural network to get the estimated label $\\tilde{y}^{k}$.\n",
    "5. Repeat steps 3-4 until all data points in the data set have been processed. Then calculate the loss function $\\mathcal{L}(\\theta)$.\n",
    "6. Continuously adjust the parameter $\\theta$ through optimization methods such as gradient descent to minimize the loss function. Record the optimal parameters after optimization $\\theta^* $, and then we obtain the optimal classifier $\\mathcal{F}_{\\theta^*}$.\n",
    "\n",
    "<img src=\"./figures/qclassifier-fig-pipeline.png\" width=\"700px\" /> \n",
    "<center> Figure 1: Flow chart of quantum classifier training </center>"
   ]
  },
  {
   "cell_type": "markdown",
   "metadata": {},
   "source": [
    "## Paddle Quantum Implementation\n",
    "\n",
    "Here, we first import the required packages:"
   ]
  },
  {
   "cell_type": "code",
   "execution_count": 13,
   "metadata": {},
   "outputs": [],
   "source": [
    "# Import numpy,paddle and paddle_quantum\n",
    "import numpy as np\n",
    "import paddle\n",
    "import paddle_quantum\n",
    "\n",
    "# To construct quantum circuit\n",
    "from paddle_quantum.ansatz import Circuit\n",
    "from paddle_quantum.state import zero_state\n",
    "\n",
    "# Some functions\n",
    "from numpy import pi as PI\n",
    "from paddle import matmul, transpose, reshape  # paddle matrix multiplication and transpose\n",
    "from paddle_quantum.qinfo import pauli_str_to_matrix # N qubits Pauli matrix\n",
    "from paddle_quantum.linalg import dagger  # complex conjugate\n",
    "\n",
    "# Plot figures, calculate the run time\n",
    "from matplotlib import pyplot as plt\n",
    "import time"
   ]
  },
  {
   "cell_type": "markdown",
   "metadata": {},
   "source": [
    "Parameters used for classification"
   ]
  },
  {
   "cell_type": "code",
   "execution_count": 14,
   "metadata": {},
   "outputs": [],
   "source": [
    "# Parameters for generating the data set\n",
    "Ntrain = 200        # Specify the training set size\n",
    "Ntest = 100         # Specify the test set size\n",
    "boundary_gap = 0.5  # Set the width of the decision boundary\n",
    "seed_data = 2       # Fixed random seed required to generate the data set\n",
    "# Parameters for training\n",
    "N = 4               # Number of qubits required\n",
    "DEPTH = 1           # Circuit depth\n",
    "BATCH = 20          # Batch size during training\n",
    "EPOCH = int(200 * BATCH / Ntrain)\n",
    "                    # Number of training epochs, the total iteration number \"EPOCH * (Ntrain / BATCH)\" is chosen to be about 200\n",
    "LR = 0.01           # Set the learning rate\n",
    "seed_paras = 19     # Set random seed to initialize various parameters"
   ]
  },
  {
   "cell_type": "markdown",
   "metadata": {},
   "source": [
    "### Data set generation\n",
    "\n",
    "One of the key parts in supervised learning is what data set to use? In this tutorial, we follow the exact approach introduced in QCL paper to generate a simple binary data set $\\{(x^{k}, y^{k})\\}$ with circular decision boundary, where the data point $x^{k}\\in \\mathbb{R}^{2}$, and the label $y^{k} \\in \\{0,1\\}$. The figure below provides us a concrete example.\n",
    "\n",
    "<img src=\"./figures/qclassifier-fig-data.png\" width=\"400px\" /> \n",
    "<center> Figure 2: Generated data set and the corresponding decision boundary </center>\n",
    "\n",
    "For the generation method and visualization, please see the following code:"
   ]
  },
  {
   "cell_type": "markdown",
   "metadata": {},
   "source": [
    "Generate a binary classification data set"
   ]
  },
  {
   "cell_type": "code",
   "execution_count": 15,
   "metadata": {
    "ExecuteTime": {
     "end_time": "2021-03-09T04:03:35.707224Z",
     "start_time": "2021-03-09T04:03:35.691351Z"
    }
   },
   "outputs": [],
   "source": [
    "# Generate a binary classification data set with circular decision boundary\n",
    "def circle_data_point_generator(Ntrain, Ntest, boundary_gap, seed_data):\n",
    "    \"\"\"\n",
    "    :param Ntrain: number of training samples\n",
    "    :param Ntest: number of test samples\n",
    "    :param boundary_gap: value in (0, 0.5), means the gap between two labels\n",
    "    :param seed_data: random seed\n",
    "    :return: 'Ntrain' samples for training and\n",
    "             'Ntest' samples for testing\n",
    "    \"\"\"\n",
    "    # Generate \"Ntrain + Ntest\" pairs of data, x for 2-dim data points, y for labels.\n",
    "    # The first \"Ntrain\" pairs are used as training set, the last \"Ntest\" pairs are used as testing set\n",
    "    train_x, train_y = [], []\n",
    "    num_samples, seed_para = 0, 0\n",
    "    while num_samples < Ntrain + Ntest:\n",
    "        np.random.seed((seed_data + 10) * 1000 + seed_para + num_samples)\n",
    "        data_point = np.random.rand(2) * 2 - 1  # 2-dim vector in range [-1, 1]\n",
    "\n",
    "        # If the modulus of the data point is less than (0.7 - gap), mark it as 0\n",
    "        if np.linalg.norm(data_point) < 0.7-boundary_gap / 2:\n",
    "            train_x.append(data_point)\n",
    "            train_y.append(0.)\n",
    "            num_samples += 1\n",
    "\n",
    "        # If the modulus of the data point is greater than (0.7 + gap), mark it as 1\n",
    "        elif np.linalg.norm(data_point) > 0.7 + boundary_gap / 2:\n",
    "            train_x.append(data_point)\n",
    "            train_y.append(1.)\n",
    "            num_samples += 1\n",
    "        else:\n",
    "            seed_para += 1\n",
    "\n",
    "    train_x = np.array(train_x).astype(\"float64\")\n",
    "    train_y = np.array([train_y]).astype(\"float64\").T\n",
    "\n",
    "    print(\"The dimensions of the training set x {} and y {}\".format(np.shape(train_x[0:Ntrain]), np.shape(train_y[0:Ntrain])))\n",
    "    print(\"The dimensions of the test set x {} and y {}\".format(np.shape(train_x[Ntrain:]), np.shape(train_y[Ntrain:])), \"\\n\")\n",
    "\n",
    "    return train_x[0:Ntrain], train_y[0:Ntrain], train_x[Ntrain:], train_y[Ntrain:]"
   ]
  },
  {
   "cell_type": "markdown",
   "metadata": {},
   "source": [
    "Visualize the generated data set"
   ]
  },
  {
   "cell_type": "code",
   "execution_count": 16,
   "metadata": {},
   "outputs": [],
   "source": [
    "def data_point_plot(data, label):\n",
    "    \"\"\"\n",
    "    :param data: shape [M, 2], means M 2-D data points\n",
    "    :param label: value 0 or 1\n",
    "    :return: plot these data points\n",
    "    \"\"\"\n",
    "    dim_samples, dim_useless = np.shape(data)\n",
    "    plt.figure(1)\n",
    "    for i in range(dim_samples):\n",
    "        if label[i] == 0:\n",
    "            plt.plot(data[i][0], data[i][1], color=\"r\", marker=\"o\")\n",
    "        elif label[i] == 1:\n",
    "            plt.plot(data[i][0], data[i][1], color=\"b\", marker=\"o\")\n",
    "    plt.show()"
   ]
  },
  {
   "cell_type": "markdown",
   "metadata": {},
   "source": [
    "In this tutorial, we use a training set with 200 elements, a testing set with 100 elements. The boundary gap is 0.5."
   ]
  },
  {
   "cell_type": "code",
   "execution_count": 17,
   "metadata": {
    "ExecuteTime": {
     "end_time": "2021-03-09T04:03:37.244233Z",
     "start_time": "2021-03-09T04:03:35.719425Z"
    }
   },
   "outputs": [
    {
     "name": "stdout",
     "output_type": "stream",
     "text": [
      "The dimensions of the training set x (200, 2) and y (200, 1)\n",
      "The dimensions of the test set x (100, 2) and y (100, 1) \n",
      "\n",
      "Visualization of 200 data points in the training set: \n"
     ]
    },
    {
     "data": {
      "image/png": "[encoded data removed]",
      "text/plain": [
       "<Figure size 432x288 with 1 Axes>"
      ]
     },
     "metadata": {
      "needs_background": "light"
     },
     "output_type": "display_data"
    },
    {
     "name": "stdout",
     "output_type": "stream",
     "text": [
      "Visualization of 100 data points in the test set: \n"
     ]
    },
    {
     "data": {
      "image/png": "[encoded data removed]",
      "text/plain": [
       "<Figure size 432x288 with 1 Axes>"
      ]
     },
     "metadata": {
      "needs_background": "light"
     },
     "output_type": "display_data"
    },
    {
     "name": "stdout",
     "output_type": "stream",
     "text": [
      "\n",
      " You may wish to adjust the parameter settings to generate your own data set!\n"
     ]
    }
   ],
   "source": [
    "# Generate data set\n",
    "train_x, train_y, test_x, test_y = circle_data_point_generator(\n",
    "        Ntrain, Ntest, boundary_gap, seed_data)\n",
    "\n",
    "# Visualization\n",
    "print(\"Visualization of {} data points in the training set: \".format(Ntrain))\n",
    "data_point_plot(train_x, train_y)\n",
    "print(\"Visualization of {} data points in the test set: \".format(Ntest))\n",
    "data_point_plot(test_x, test_y)\n",
    "print(\"\\n You may wish to adjust the parameter settings to generate your own data set!\")"
   ]
  },
  {
   "cell_type": "markdown",
   "metadata": {},
   "source": [
    "### Data preprocessing\n",
    "Different from classical machine learning, quantum classifiers need to consider data preprocessing heavily. We need one more step to convert classical data into quantum information before running on a quantum computer. In this tutorial we use \"Angle Encoding\" to get quantum data.\n",
    "\n",
    "First, we determine the number of qubits that need to be used. Because our data $\\{x^{k} = (x^{k}_0, x^{k}_1)\\}$ is two-dimensional, according to the paper by Mitarai (2018) we need at least 2 qubits for encoding. Then prepare a group of initial quantum states $|00\\rangle$. Encode the classical information $\\{x^{k}\\}$ into a group of quantum gates $U(x^{k})$ and act them on the initial quantum states. Finally we get a group of quantum states $|\\psi_{\\rm in}\\rangle^k = U(x^{k})|00\\rangle$. In this way, we have completed the encoding from classical information into quantum information! Given $m$ qubits to encode a two-dimensional classical data point, the quantum gate is:\n",
    "\n",
    "$$\n",
    "U(x^{k}) = \\otimes_{j=0}^{m-1} R_j^z\\big[\\arccos(x^{k}_{j \\, \\text{mod} \\, 2}\\cdot x^{k}_{j \\, \\text{mod} \\, 2})\\big] R_j^y\\big[\\arcsin(x^{k}_{j \\, \\text{mod} \\, 2}) \\big],\n",
    "\\tag{2}\n",
    "$$\n",
    "\n",
    "**Note:** In this representation, we count the first qubit as $j = 0$. For more encoding methods, see [Robust data encodings for quantum classifiers](https://arxiv.org/pdf/2003.01695.pdf). We also provide several built-in [encoding methods](./DataEncoding_EN.ipynb) in Paddle Quantum. Here we also encourage readers to try new encoding methods by themselves!\n",
    "\n",
    "Since this encoding method looks quite complicated, we might as well give a simple example. Suppose we are given a data point $x = (x_0, x_1)= (1,0)$. The label of this data point should be 1, corresponding to the **blue** point in the figure above. At the same time, the 2-qubit quantum gate $U(x)$ corresponding to the data point is,\n",
    "\n",
    "$$\n",
    "U(x) =\n",
    "\\bigg( R_0^z\\big[\\arccos(x_{0}\\cdot x_{0})\\big] R_0^y\\big[\\arcsin(x_{0}) \\big] \\bigg)\n",
    "\\otimes\n",
    "\\bigg( R_1^z\\big[\\arccos(x_{1}\\cdot x_{1})\\big] R_1^y\\big[\\arcsin(x_{1}) \\big] \\bigg),\n",
    "\\tag{3}\n",
    "$$\n",
    "\n",
    "Substituting in specific values, we get:\n",
    "\n",
    "$$\n",
    "U(x) =\n",
    "\\bigg( R_0^z\\big[0\\big] R_0^y\\big[\\pi/2 \\big] \\bigg)\n",
    "\\otimes\n",
    "\\bigg( R_1^z\\big[\\pi/2\\big] R_1^y\\big[0 \\big] \\bigg),\n",
    "\\tag{4}\n",
    "$$\n",
    "\n",
    "Recall the matrix form of rotation gates:\n",
    "\n",
    "$$\n",
    "R_x(\\theta) :=\n",
    "\\begin{bmatrix}\n",
    "\\cos \\frac{\\theta}{2} &-i\\sin \\frac{\\theta}{2} \\\\\n",
    "-i\\sin \\frac{\\theta}{2} &\\cos \\frac{\\theta}{2}\n",
    "\\end{bmatrix}\n",
    ",\\quad\n",
    "R_y(\\theta) :=\n",
    "\\begin{bmatrix}\n",
    "\\cos \\frac{\\theta}{2} &-\\sin \\frac{\\theta}{2} \\\\\n",
    "\\sin \\frac{\\theta}{2} &\\cos \\frac{\\theta}{2}\n",
    "\\end{bmatrix}\n",
    ",\\quad\n",
    "R_z(\\theta) :=\n",
    "\\begin{bmatrix}\n",
    "e^{-i\\frac{\\theta}{2}} & 0 \\\\\n",
    "0 & e^{i\\frac{\\theta}{2}}\n",
    "\\end{bmatrix}.\n",
    "\\tag{5}\n",
    "$$\n",
    "\n",
    "Then the matrix form of the two-qubit quantum gate $U(x)$ can be written as\n",
    "\n",
    "$$\n",
    "U(x) = \n",
    "\\bigg(\n",
    "\\begin{bmatrix}\n",
    "1 & 0 \\\\ \n",
    "0 & 1\n",
    "\\end{bmatrix}\n",
    "\\begin{bmatrix}\n",
    "\\cos \\frac{\\pi}{4} &-\\sin \\frac{\\pi}{4} \\\\ \n",
    "\\sin \\frac{\\pi}{4} &\\cos \\frac{\\pi}{4} \n",
    "\\end{bmatrix}\n",
    "\\bigg)\n",
    "\\otimes \n",
    "\\bigg(\n",
    "\\begin{bmatrix}\n",
    "e^{-i\\frac{\\pi}{4}} & 0 \\\\ \n",
    "0 & e^{i\\frac{\\pi}{4}}\n",
    "\\end{bmatrix}\n",
    "\\begin{bmatrix}\n",
    "1 &0 \\\\ \n",
    "0 &1\n",
    "\\end{bmatrix}\n",
    "\\bigg) \\, .\n",
    "\\tag{6}\n",
    "$$\n",
    "\n",
    "After simplification, we can get the encoded quantum state $|\\psi_{\\rm in}\\rangle$ by acting the quantum gate on the initialized quantum state $|00\\rangle$,\n",
    "\n",
    "$$\n",
    "|\\psi_{\\rm in}\\rangle =\n",
    "U(x)|00\\rangle = \\frac{1}{2}\n",
    "\\begin{bmatrix}\n",
    "1-i &0 &-1+i &0 \\\\\n",
    "0 &1+i &0 &-1-i \\\\\n",
    "1-i &0 &1-i &0 \\\\\n",
    "0 &1+i &0 &1+i\n",
    "\\end{bmatrix}\n",
    "\\begin{bmatrix}\n",
    "1 \\\\\n",
    "0 \\\\\n",
    "0 \\\\\n",
    "0\n",
    "\\end{bmatrix}\n",
    "= \\frac{1}{2}\n",
    "\\begin{bmatrix}\n",
    "1-i \\\\\n",
    "0 \\\\\n",
    "1-i \\\\\n",
    "0\n",
    "\\end{bmatrix}.\n",
    "\\tag{7}\n",
    "$$\n",
    "\n",
    "Then let us take a look at how to implement this encoding method in Paddle Quantum. Note that in the code, we use the following trick: \n",
    "\n",
    "$$\n",
    "(U_1 |0\\rangle)\\otimes (U_2 |0\\rangle) = (U_1 \\otimes U_2) |0\\rangle\\otimes|0\\rangle\n",
    "= (U_1 \\otimes U_2) |00\\rangle.\n",
    "\\tag{8}\n",
    "$$"
   ]
  },
  {
   "cell_type": "code",
   "execution_count": 18,
   "metadata": {
    "ExecuteTime": {
     "end_time": "2021-03-09T04:03:37.354267Z",
     "start_time": "2021-03-09T04:03:37.258314Z"
    }
   },
   "outputs": [],
   "source": [
    "# Construct quantum circuit for data encoding\n",
    "def encoding_circuit(data, n_qubits):\n",
    "    cir = Circuit(n_qubits)\n",
    "    for i in range(n_qubits):\n",
    "        param = data[0] if i % 2 == 0 else data[1]\n",
    "        cir.ry(qubits_idx=i, param=np.arcsin(param))\n",
    "        cir.rz(qubits_idx=i, param=np.arccos(param**2))\n",
    "    return cir\n",
    "\n",
    "\n",
    "# Encode the data points to quantum states\n",
    "def datapoints_transform_to_state(data, n_qubits):\n",
    "    \"\"\"\n",
    "    :param data: shape [BATCHSIZE, 2]\n",
    "    :param n_qubits: the number of qubits to which\n",
    "    the data transformed\n",
    "    :return: shape [BATCHSIZE, 1, 2 ^ n_qubits]\n",
    "    \"\"\"\n",
    "\n",
    "    batchsize, _ = data.shape\n",
    "    res = []\n",
    "    init_state = zero_state(n_qubits)\n",
    "    for i in range(batchsize):\n",
    "        cir = encoding_circuit(data[i], n_qubits)\n",
    "        out_state = cir(init_state)\n",
    "        res.append(out_state.numpy().reshape(1, -1))\n",
    "    res = np.array(res, dtype=paddle_quantum.get_dtype())\n",
    "    return res"
   ]
  },
  {
   "cell_type": "markdown",
   "metadata": {},
   "source": [
    "quantum data after angle encoding"
   ]
  },
  {
   "cell_type": "code",
   "execution_count": 19,
   "metadata": {},
   "outputs": [
    {
     "name": "stdout",
     "output_type": "stream",
     "text": [
      "As a test, we enter the classical information:\n",
      "(x_0, x_1) = (1, 0)\n",
      "The 2-qubit quantum state output after encoding is:\n",
      "[[[0.49999997-0.49999997j 0.        +0.j         0.49999997-0.49999997j\n",
      "   0.        +0.j        ]]]\n"
     ]
    }
   ],
   "source": [
    "print(\"As a test, we enter the classical information:\")\n",
    "print(\"(x_0, x_1) = (1, 0)\")\n",
    "print(\"The 2-qubit quantum state output after encoding is:\")\n",
    "print(datapoints_transform_to_state(np.array([[1, 0]]), n_qubits=2))"
   ]
  },
  {
   "cell_type": "markdown",
   "metadata": {},
   "source": [
    "### Building Quantum Neural Network \n",
    "After completing the encoding from classical data to quantum data, we can now input these quantum states into the quantum computer. Before that, we also need to design the quantum neural network.\n",
    "\n",
    "<img src=\"./figures/qclassifier-fig-circuit.png\" width=\"600px\" /> \n",
    "<center> Figure 3: Parameterized Quantum Circuit </center>\n",
    "\n",
    "\n",
    "For convenience, we call the parameterized quantum neural network as $U(\\boldsymbol{\\theta})$. $U(\\boldsymbol{\\theta})$ is a key component of our classifier, and it needs a certain complex structure to fit our decision boundary. Similar to traditional neural networks, the structure of a quantum neural network is not unique. The structure shown above is just one case. You could design your own structure. Let's take the previously mentioned data point $x = (x_0, x_1)= (1,0)$ as an example. After encoding, we have obtained a quantum state $|\\psi_{\\rm in}\\rangle$,\n",
    "\n",
    "$$\n",
    "|\\psi_{\\rm in}\\rangle =\n",
    "\\frac{1}{2}\n",
    "\\begin{bmatrix}\n",
    "1-i \\\\\n",
    "0 \\\\\n",
    "1-i \\\\\n",
    "0\n",
    "\\end{bmatrix}.\n",
    "\\tag{9}\n",
    "$$\n",
    "\n",
    "Then we input this quantum state into our quantum neural network (QNN). That is, multiply a unitary matrix by a vector to get the processed quantum state $|\\varphi\\rangle$\n",
    "\n",
    "$$\n",
    "|\\psi_{\\rm out}\\rangle = U(\\boldsymbol{\\theta})|\\psi_{\\rm in}\\rangle.\n",
    "\\tag{10}\n",
    "$$\n",
    "\n",
    "If we set all the QNN parameters to be $\\theta = \\pi$, then we can write down the resulting state:\n",
    "\n",
    "$$\n",
    "|\\psi_{\\rm out}\\rangle =\n",
    "U(\\boldsymbol{\\theta} =\\pi)|\\psi_{\\rm in}\\rangle =\n",
    "\\begin{bmatrix}\n",
    "0 &0 &-1 &0 \\\\\n",
    "-1 &0 &0 &0 \\\\\n",
    "0 &1 &0 &0 \\\\\n",
    "0 &0 &0 &1\n",
    "\\end{bmatrix}\n",
    "\\cdot\n",
    "\\frac{1}{2}\n",
    "\\begin{bmatrix}\n",
    "1-i \\\\\n",
    "0 \\\\\n",
    "1-i \\\\\n",
    "0\n",
    "\\end{bmatrix}\n",
    "= \\frac{1}{2}\n",
    "\\begin{bmatrix}\n",
    "-1+i \\\\\n",
    "-1+i \\\\\n",
    "0 \\\\\n",
    "0\n",
    "\\end{bmatrix}.\n",
    "\\tag{11}\n",
    "$$"
   ]
  },
  {
   "cell_type": "markdown",
   "metadata": {},
   "source": [
    "### Measurement\n",
    "After passing through the PQC $U(\\theta)$, the quantum data becomes $\\lvert \\psi_{\\rm out}\\rangle^k = U(\\theta)\\lvert \\psi_{\\rm in} \\rangle^k$. To get its label, we need to measure this new quantum state to obtain the classical information. These processed classical information will then be used to calculate the loss function $\\mathcal{L}(\\boldsymbol{\\theta})$. Finally, based on the gradient descent algorithm, we continuously update the PQC parameters $\\boldsymbol{\\theta}$ and optimize the loss function. \n",
    "\n",
    "Here we measure the expected value of the Pauli $Z$ operator on the first qubit. Specifically,\n",
    "\n",
    "$$\n",
    "\\langle Z \\rangle =\n",
    "\\langle \\psi_{\\rm out} |Z\\otimes I\\cdots \\otimes I| \\psi_{\\rm out}\\rangle.\n",
    "\\tag{12}\n",
    "$$\n",
    "\n",
    "Recall that the matrix of the Pauli $Z$ operator is defined as:\n",
    "\n",
    "$$\n",
    "Z := \\begin{bmatrix} 1 &0 \\\\ 0 &-1 \\end{bmatrix}.\n",
    "\\tag{13}\n",
    "$$\n",
    "\n",
    "Continuing our previous 2-qubit example, the expected value we get after the measurement is\n",
    "\n",
    "$$\n",
    "\\langle Z \\rangle =\n",
    "\\langle \\psi_{\\rm out} |Z\\otimes I| \\psi_{\\rm out}\\rangle =\n",
    "\\frac{1}{2}\n",
    "\\begin{bmatrix}\n",
    "-1-i \\quad\n",
    "-1-i \\quad\n",
    "0 \\quad\n",
    "0\n",
    "\\end{bmatrix}\n",
    "\\begin{bmatrix}\n",
    "1 &0 &0 &0 \\\\\n",
    "0 &1 &0 &0 \\\\\n",
    "0 &0 &-1 &0 \\\\\n",
    "0 &0 &0 &-1\n",
    "\\end{bmatrix}\n",
    "\\cdot\n",
    "\\frac{1}{2}\n",
    "\\begin{bmatrix}\n",
    "-1+i \\\\\n",
    "-1+i \\\\\n",
    "0 \\\\\n",
    "0\n",
    "\\end{bmatrix}\n",
    "= 1. \\tag{14}\n",
    "$$\n",
    "\n",
    "This measurement result seems to be our original label 1. Does this mean that we have successfully classified this data point? This is not the case because the range of $\\langle Z \\rangle$ is usually between $[-1,1]$. \n",
    "To match it to our label range $y^{k} \\in \\{0,1\\}$, we need to map the upper and lower limits. The simplest mapping is \n",
    "\n",
    "$$\n",
    "\\tilde{y}^{k} = \\frac{\\langle Z \\rangle}{2} + \\frac{1}{2} + bias \\quad \\in [0, 1].\n",
    "\\tag{15}\n",
    "$$\n",
    "\n",
    "Using bias is a trick in machine learning. The purpose is to make the decision boundary not restricted by the origin or some hyperplane. Generally, the default bias is initialized to be 0, and the optimizer will continuously update it like all the other parameters $\\theta$ in the iterative process to ensure $\\tilde{y}^{k} \\in [0, 1]$. Of course, you can also choose other complex mappings (activation functions), such as the sigmoid function. After mapping, we can regard $\\tilde{y}^{k}$ as the label we estimated. $\\tilde{y}^{k}< 0.5$ corresponds to label 0, and $\\tilde{y}^{k}> 0.5$ corresponds to label 1. It's time to quickly review the whole process before we finish discussion,\n",
    "\n",
    "$$\n",
    "x^{k} \\rightarrow |\\psi_{\\rm in}\\rangle^{k} \\rightarrow U(\\boldsymbol{\\theta})|\\psi_{\\rm in}\\rangle^{k} \\rightarrow\n",
    "|\\psi_{\\rm out}\\rangle^{k} \\rightarrow ^{k}\\langle \\psi_{\\rm out} |Z\\otimes I\\cdots \\otimes I| \\psi_{\\rm out} \\rangle^{k}\n",
    "\\rightarrow \\langle Z \\rangle  \\rightarrow \\tilde{y}^{k}.\\tag{16}\n",
    "$$\n",
    "\n",
    "\n"
   ]
  },
  {
   "cell_type": "markdown",
   "metadata": {},
   "source": [
    "###  Loss function\n",
    "\n",
    "To calculate the loss function in Eq. (1), we need to measure all training data in each iteration. In real practice, we devide the training data into \"Ntrain/BATCH\" groups, where each group contains \"BATCH\" data pairs.\n",
    "\n",
    "The loss function for the i-th group is \n",
    "$$\n",
    "\\mathcal{L}_{i} = \\sum_{k=1}^{BATCH} \\frac{1}{BATCH} |y^{i,k} - \\tilde{y}^{i,k}|^2,\\tag{17}\n",
    "$$\n",
    "and we train the PQC with $\\mathcal{L}_{i}$ for \"EPOCH\" times. \n",
    "\n",
    "If you set \"BATCH = Ntrain\", there will be only one group, and Eq. (17) becomes Eq. (1)."
   ]
  },
  {
   "cell_type": "code",
   "execution_count": 20,
   "metadata": {
    "ExecuteTime": {
     "end_time": "2021-03-09T04:03:37.439183Z",
     "start_time": "2021-03-09T04:03:37.432202Z"
    }
   },
   "outputs": [],
   "source": [
    "# Generate Pauli Z operator that only acts on the first qubit\n",
    "# Act the identity matrix on rest of the qubits\n",
    "def Observable(n):\n",
    "    r\"\"\"\n",
    "    :param n: number of qubits\n",
    "    :return: local observable: Z \\otimes I \\otimes ...\\otimes I\n",
    "    \"\"\"\n",
    "    Ob = pauli_str_to_matrix([[1.0, 'z0']], n)\n",
    "\n",
    "    return Ob"
   ]
  },
  {
   "cell_type": "code",
   "execution_count": 21,
   "metadata": {
    "ExecuteTime": {
     "end_time": "2021-03-09T04:03:37.503213Z",
     "start_time": "2021-03-09T04:03:37.473028Z"
    }
   },
   "outputs": [],
   "source": [
    "# Build the computational graph\n",
    "class Opt_Classifier(paddle_quantum.Operator):\n",
    "    \"\"\"\n",
    "    Construct the model net\n",
    "    \"\"\"\n",
    "    def __init__(self, n, depth, seed_paras=1):\n",
    "        # Initialization, use n, depth give the initial PQC\n",
    "        super(Opt_Classifier, self).__init__()\n",
    "        self.n = n\n",
    "        self.depth = depth\n",
    "        paddle.seed(seed_paras)\n",
    "        # Initialize bias\n",
    "        self.bias = self.create_parameter(\n",
    "            shape=[1],\n",
    "            default_initializer=paddle.nn.initializer.Normal(std=0.01),\n",
    "            dtype='float32',\n",
    "            is_bias=False)\n",
    "        \n",
    "        self.circuit = Circuit(n)\n",
    "        # Build a generalized rotation layer\n",
    "        self.circuit.rz()\n",
    "        self.circuit.ry()\n",
    "        self.circuit.rz()\n",
    "\n",
    "        # Build the entangled layer and Ry rotation layer\n",
    "        for _ in range(depth):\n",
    "            # The entanglement layer\n",
    "            self.circuit.cnot()\n",
    "            # Add Ry to each qubit\n",
    "            self.circuit.ry()\n",
    "\n",
    "    # Define forward propagation mechanism, and then calculate loss function and cross-validation accuracy\n",
    "    def forward(self, state_in, label):\n",
    "        \"\"\"\n",
    "        Args:\n",
    "            state_in: The input quantum state, shape [BATCH, 1, 2^n]\n",
    "            label: label for the input state, shape [BATCH, 1]\n",
    "        Returns:\n",
    "            The loss:\n",
    "                L = 1/BATCH * ((<Z> + 1)/2 + bias - label)^2\n",
    "        \"\"\"\n",
    "        # Convert Numpy array to tensor\n",
    "        Ob = paddle.to_tensor(Observable(self.n))\n",
    "        label_pp = reshape(paddle.to_tensor(label), [-1, 1])\n",
    "\n",
    "        # Build the quantum circuit\n",
    "        Utheta = self.circuit.unitary_matrix()\n",
    "\n",
    "        # Because Utheta is achieved by learning, we compute with row vectors to speed up without affecting the training effect\n",
    "        state_out = matmul(state_in, Utheta)  # shape:[-1, 1, 2 ** n], the first parameter is BATCH in this tutorial\n",
    "\n",
    "        # Measure the expectation value of Pauli Z operator <Z> -- shape [-1,1,1]\n",
    "        E_Z = matmul(matmul(state_out, Ob), transpose(paddle.conj(state_out), perm=[0, 2, 1]))\n",
    "\n",
    "        # Mapping <Z> to the estimated value of the label\n",
    "        state_predict = paddle.real(E_Z)[:, 0] * 0.5 + 0.5 + self.bias  # |y^{i,k} - \\tilde{y}^{i,k}|^2\n",
    "        loss = paddle.mean((state_predict - label_pp) ** 2)  # Get average for \"BATCH\" |y^{i,k} - \\tilde{y}^{i,k}|^2: L_i：shape:[1,1]\n",
    "\n",
    "        # Calculate the accuracy of cross-validation\n",
    "        is_correct = (paddle.abs(state_predict - label_pp) < 0.5).nonzero().shape[0]\n",
    "        acc = is_correct / label.shape[0]\n",
    "\n",
    "        return loss, acc, state_predict.numpy(), self.circuit"
   ]
  },
  {
   "cell_type": "markdown",
   "metadata": {},
   "source": [
    "### Training process\n",
    "\n",
    "After defining all the concepts above, we might take a look at the actual training process."
   ]
  },
  {
   "cell_type": "code",
   "execution_count": 22,
   "metadata": {},
   "outputs": [],
   "source": [
    "# Draw the figure of the final training classifier\n",
    "def heatmap_plot(Opt_Classifier, N):\n",
    "    # generate data points x_y_\n",
    "    Num_points = 30\n",
    "    x_y_ = []\n",
    "    for row_y in np.linspace(0.9, -0.9, Num_points):\n",
    "        row = []\n",
    "        for row_x in np.linspace(-0.9, 0.9, Num_points):\n",
    "            row.append([row_x, row_y])\n",
    "        x_y_.append(row)\n",
    "    x_y_ = np.array(x_y_).reshape(-1, 2).astype(\"float64\")\n",
    "\n",
    "    # make prediction: heat_data\n",
    "    input_state_test = paddle.to_tensor(\n",
    "        datapoints_transform_to_state(x_y_, N))\n",
    "    loss_useless, acc_useless, state_predict, cir = Opt_Classifier(state_in=input_state_test, label=x_y_[:, 0])\n",
    "    heat_data = state_predict.reshape(Num_points, Num_points)\n",
    "\n",
    "    # plot\n",
    "    fig = plt.figure(1)\n",
    "    ax = fig.add_subplot(111)\n",
    "    x_label = np.linspace(-0.9, 0.9, 3)\n",
    "    y_label = np.linspace(0.9, -0.9, 3)\n",
    "    ax.set_xticks([0, Num_points // 2, Num_points - 1])\n",
    "    ax.set_xticklabels(x_label)\n",
    "    ax.set_yticks([0, Num_points // 2, Num_points - 1])\n",
    "    ax.set_yticklabels(y_label)\n",
    "    im = ax.imshow(heat_data, cmap=plt.cm.RdBu)\n",
    "    plt.colorbar(im)\n",
    "    plt.show()"
   ]
  },
  {
   "cell_type": "markdown",
   "metadata": {},
   "source": [
    "Learn the PQC via Adam"
   ]
  },
  {
   "cell_type": "code",
   "execution_count": 23,
   "metadata": {
    "ExecuteTime": {
     "end_time": "2021-03-09T04:03:38.325454Z",
     "start_time": "2021-03-09T04:03:38.299975Z"
    }
   },
   "outputs": [],
   "source": [
    "def QClassifier(Ntrain, Ntest, gap, N, DEPTH, EPOCH, LR, BATCH, seed_paras, seed_data):\n",
    "    \"\"\"\n",
    "    Quantum Binary Classifier\n",
    "    Input:\n",
    "        Ntrain         # Specify the training set size\n",
    "        Ntest          # Specify the test set size\n",
    "        gap            # Set the width of the decision boundary\n",
    "        N              # Number of qubits required\n",
    "        DEPTH          # Circuit depth\n",
    "        BATCH          # Batch size during training\n",
    "        EPOCH          # Number of training epochs, the total iteration number \"EPOCH * (Ntrain / BATCH)\" is chosen to be about 200\n",
    "        LR             # Set the learning rate\n",
    "        seed_paras     # Set random seed to initialize various parameters\n",
    "        seed_data      # Fixed random seed required to generate the data set\n",
    "        plot_heat_map  # Whether to plot heat map, default True\n",
    "    \"\"\"\n",
    "    # Generate data set\n",
    "    train_x, train_y, test_x, test_y = circle_data_point_generator(Ntrain=Ntrain, Ntest=Ntest, boundary_gap=gap, seed_data=seed_data)\n",
    "    # Read the dimension of the training set\n",
    "    N_train = train_x.shape[0]\n",
    "    \n",
    "    # Initialize the registers to store the accuracy rate and other information\n",
    "    summary_iter, summary_test_acc = [], []\n",
    "\n",
    "    # Generally, we use Adam optimizer to get relatively good convergence\n",
    "    # Of course, it can be changed to SGD or RMSprop\n",
    "    myLayer = Opt_Classifier(n=N, depth=DEPTH, seed_paras=seed_paras)  # Initial PQC\n",
    "    opt = paddle.optimizer.Adam(learning_rate=LR, parameters=myLayer.parameters())\n",
    "\n",
    "\n",
    "    # Optimize iteration\n",
    "    # We divide the training set into \"Ntrain/BATCH\" groups\n",
    "    # For each group the final circuit will be used as the initial circuit for the next group\n",
    "    # Use cir to record the final circuit after learning.\n",
    "    i = 0  # Record the iteration number\n",
    "    for ep in range(EPOCH):\n",
    "        # Learn for each group\n",
    "        for itr in range(N_train // BATCH):\n",
    "            i += 1  # Record the iteration number\n",
    "            # Encode classical data into a quantum state |psi>, dimension [BATCH, 2 ** N]\n",
    "            input_state = paddle.to_tensor(datapoints_transform_to_state(train_x[itr * BATCH:(itr + 1) * BATCH], N))\n",
    "\n",
    "            # Run forward propagation to calculate loss function\n",
    "            loss, train_acc, state_predict_useless, cir \\\n",
    "                = myLayer(state_in=input_state, label=train_y[itr * BATCH:(itr + 1) * BATCH])  # optimize the given PQC\n",
    "            # Print the performance in iteration\n",
    "            if i % 30 == 5:\n",
    "                # Calculate the correct rate on the test set test_acc\n",
    "                input_state_test = paddle.to_tensor(datapoints_transform_to_state(test_x, N))\n",
    "                loss_useless, test_acc, state_predict_useless, t_cir \\\n",
    "                    = myLayer(state_in=input_state_test,label=test_y)\n",
    "                print(\"epoch:\", ep, \"iter:\", itr,\n",
    "                      \"loss: %.4f\" % loss.numpy(),\n",
    "                      \"train acc: %.4f\" % train_acc,\n",
    "                      \"test acc: %.4f\" % test_acc)\n",
    "                # Store accuracy rate and other information\n",
    "                summary_iter.append(itr + ep * N_train)\n",
    "                summary_test_acc.append(test_acc) \n",
    "\n",
    "            # Run back propagation to minimize the loss function\n",
    "            loss.backward()\n",
    "            opt.minimize(loss)\n",
    "            opt.clear_grad()\n",
    "            \n",
    "    # Print the final circuit\n",
    "    print(\"The trained circuit:\")\n",
    "    print(cir)\n",
    "    # Draw the decision boundary represented by heatmap\n",
    "    heatmap_plot(myLayer, N=N)\n",
    "\n",
    "    return summary_test_acc"
   ]
  },
  {
   "cell_type": "code",
   "execution_count": 24,
   "metadata": {
    "ExecuteTime": {
     "end_time": "2021-03-09T04:04:19.852356Z",
     "start_time": "2021-03-09T04:03:38.709491Z"
    }
   },
   "outputs": [
    {
     "name": "stdout",
     "output_type": "stream",
     "text": [
      "The dimensions of the training set x (200, 2) and y (200, 1)\n",
      "The dimensions of the test set x (100, 2) and y (100, 1) \n",
      "\n",
      "epoch: 0 iter: 4 loss: 0.2157 train acc: 0.9000 test acc: 0.6900\n",
      "epoch: 3 iter: 4 loss: 0.2033 train acc: 0.4000 test acc: 0.5500\n",
      "epoch: 6 iter: 4 loss: 0.1467 train acc: 1.0000 test acc: 0.9700\n",
      "epoch: 9 iter: 4 loss: 0.1287 train acc: 1.0000 test acc: 1.0000\n",
      "epoch: 12 iter: 4 loss: 0.1215 train acc: 1.0000 test acc: 1.0000\n",
      "epoch: 15 iter: 4 loss: 0.1202 train acc: 1.0000 test acc: 1.0000\n",
      "epoch: 18 iter: 4 loss: 0.1197 train acc: 1.0000 test acc: 1.0000\n",
      "The trained circuit:\n",
      "--Rz(5.489)----Ry(4.294)----Rz(3.063)----*--------------x----Ry(2.788)--\n",
      "                                         |              |               \n",
      "--Rz(2.359)----Ry(4.117)----Rz(2.727)----x----*---------|----Ry(1.439)--\n",
      "                                              |         |               \n",
      "--Rz(2.349)----Ry(3.474)----Rz(5.971)---------x----*----|----Ry(1.512)--\n",
      "                                                   |    |               \n",
      "--Rz(1.973)----Ry(-0.04)----Rz(-0.01)--------------x----*----Ry(2.075)--\n",
      "                                                                        \n"
     ]
    },
    {
     "data": {
      "image/png": "[encoded data removed]",
      "text/plain": [
       "<Figure size 432x288 with 2 Axes>"
      ]
     },
     "metadata": {
      "needs_background": "light"
     },
     "output_type": "display_data"
    },
    {
     "name": "stdout",
     "output_type": "stream",
     "text": [
      "The main program finished running in  44.9472119808197 seconds.\n"
     ]
    }
   ],
   "source": [
    "def main():\n",
    "    \"\"\"\n",
    "    main\n",
    "    \"\"\"\n",
    "    time_start = time.time()\n",
    "    acc = QClassifier(\n",
    "        Ntrain = 200,    # Specify the training set size\n",
    "        Ntest = 100,     # Specify the test set size\n",
    "        gap = 0.5,       # Set the width of the decision boundary\n",
    "        N = 4,           # Number of qubits required\n",
    "        DEPTH = 1,       # Circuit depth\n",
    "        BATCH = 20,      # Batch size during training\n",
    "        EPOCH = int(200 * BATCH / Ntrain),\n",
    "                        # Number of training epochs, the total iteration number \"EPOCH * (Ntrain / BATCH)\" is chosen to be about 200\n",
    "        LR = 0.01,       # Set the learning rate\n",
    "        seed_paras = 10, # Set random seed to initialize various parameters\n",
    "        seed_data = 2,   # Fixed random seed required to generate the data set\n",
    "    )\n",
    "    \n",
    "    time_span = time.time()-time_start\n",
    "    print('The main program finished running in ', time_span, 'seconds.')\n",
    "\n",
    "if __name__ == '__main__':\n",
    "    main()"
   ]
  },
  {
   "cell_type": "markdown",
   "metadata": {},
   "source": [
    "By printing out the training results, you can see that the classification accuracy in both the test set and the training set after continuous optimization has reached $100\\%$."
   ]
  },
  {
   "cell_type": "markdown",
   "metadata": {},
   "source": [
    "## Benchmarking Different Encoding Methods\n",
    "\n",
    "Encoding methods are fundemental in supervised quantum machine learning [4]. In paddle quantum, commonly used encoding methods such as amplitude encoding, angle encoding, IQP encoding, etc., are integrated. Simple classification data of users (without reducing dimensions) can be encoded by an instance of the ``SimpleDataset`` class and image data can be encoded by an instance of the ``VisionDataset`` class both using the method ``encode``."
   ]
  },
  {
   "cell_type": "code",
   "execution_count": 25,
   "metadata": {},
   "outputs": [
    {
     "name": "stdout",
     "output_type": "stream",
     "text": [
      "<class 'numpy.ndarray'>\n",
      "(100, 4)\n"
     ]
    }
   ],
   "source": [
    "# Use circle data above to accomplish classification\n",
    "from paddle_quantum.dataset import *\n",
    "\n",
    "# The data are two-dimensional and are encoded by two qubits\n",
    "quantum_train_x = SimpleDataset(2).encode(train_x, 'angle_encoding', 2)\n",
    "quantum_test_x = SimpleDataset(2).encode(test_x, 'angle_encoding', 2)\n",
    "\n",
    "print(type(quantum_test_x)) # ndarray\n",
    "print(quantum_test_x.shape) # (100, 4)"
   ]
  },
  {
   "cell_type": "markdown",
   "metadata": {},
   "source": [
    "Here we define an ordinary classifier, and it will be used by different data afterwards."
   ]
  },
  {
   "cell_type": "code",
   "execution_count": 26,
   "metadata": {},
   "outputs": [],
   "source": [
    "# A simpler classifier\n",
    "def QClassifier2(quantum_train_x, train_y,quantum_test_x,test_y, N, DEPTH, EPOCH, LR, BATCH):\n",
    "    \"\"\"\n",
    "    Quantum Binary Classifier\n",
    "    Input：\n",
    "        quantum_train_x     # training x\n",
    "        train_y             # training y\n",
    "        quantum_test_x      # testing x\n",
    "        test_y              # testing y\n",
    "        N                   # Number of qubits required\n",
    "        DEPTH               # Circuit depth\n",
    "        EPOCH               # Number of training epochs\n",
    "        LR                  # Set the learning rate\n",
    "        BATCH               # Batch size during training\n",
    "    \"\"\"\n",
    "    Ntrain = len(quantum_train_x)\n",
    "    \n",
    "    paddle.seed(1)\n",
    "\n",
    "    net = Opt_Classifier(n=N, depth=DEPTH)\n",
    "\n",
    "    # Test accuracy list\n",
    "    summary_iter, summary_test_acc = [], []\n",
    "\n",
    "    # Adam can also be replaced by SGD or RMSprop\n",
    "    opt = paddle.optimizer.Adam(learning_rate=LR, parameters=net.parameters())\n",
    "\n",
    "    # Optimize\n",
    "    for ep in range(EPOCH):\n",
    "        for itr in range(Ntrain // BATCH):\n",
    "            # Import data\n",
    "            input_state = quantum_train_x[itr * BATCH:(itr + 1) * BATCH]  # paddle.tensor\n",
    "            input_state = reshape(input_state, [-1, 1, 2 ** N])\n",
    "            label = train_y[itr * BATCH:(itr + 1) * BATCH]\n",
    "            test_input_state = reshape(quantum_test_x, [-1, 1, 2 ** N])\n",
    "\n",
    "            loss, train_acc, state_predict_useless, cir = net(state_in=input_state, label=label)\n",
    "\n",
    "            if itr % 5 == 0:\n",
    "                # get accuracy on test dataset (test_acc)\n",
    "                loss_useless, test_acc, state_predict_useless, t_cir = net(state_in=test_input_state, label=test_y)\n",
    "                print(\"epoch:\", ep, \"iter:\", itr,\n",
    "                      \"loss: %.4f\" % loss.numpy(),\n",
    "                      \"train acc: %.4f\" % train_acc,\n",
    "                      \"test acc: %.4f\" % test_acc)\n",
    "                summary_test_acc.append(test_acc)\n",
    "\n",
    "            loss.backward()\n",
    "            opt.minimize(loss)\n",
    "            opt.clear_grad()\n",
    "\n",
    "    return summary_test_acc"
   ]
  },
  {
   "cell_type": "markdown",
   "metadata": {},
   "source": [
    "Now we can test different encoding methods on the circle data generated above. Here we choose five encoding methods: amplitude encoding, angle encoding, pauli rotation encoding, IQP encoding, and complex entangled encoding. Then the curves of the testing accuracy are shown below."
   ]
  },
  {
   "cell_type": "code",
   "execution_count": 27,
   "metadata": {},
   "outputs": [
    {
     "name": "stdout",
     "output_type": "stream",
     "text": [
      "Encoding method: amplitude_encoding\n",
      "epoch: 0 iter: 0 loss: 0.2448 train acc: 0.7000 test acc: 0.5500\n",
      "epoch: 0 iter: 5 loss: 0.4895 train acc: 0.3000 test acc: 0.6100\n",
      "epoch: 0 iter: 10 loss: 0.1318 train acc: 0.8000 test acc: 0.5800\n",
      "epoch: 0 iter: 15 loss: 0.2297 train acc: 0.6000 test acc: 0.6500\n",
      "Encoding method: angle_encoding\n",
      "epoch: 0 iter: 0 loss: 0.2437 train acc: 0.6000 test acc: 0.3900\n",
      "epoch: 0 iter: 5 loss: 0.1325 train acc: 0.8000 test acc: 0.7100\n",
      "epoch: 0 iter: 10 loss: 0.1397 train acc: 0.8000 test acc: 0.6600\n",
      "epoch: 0 iter: 15 loss: 0.1851 train acc: 0.6000 test acc: 0.6300\n",
      "Encoding method: pauli_rotation_encoding\n",
      "epoch: 0 iter: 0 loss: 0.3170 train acc: 0.6000 test acc: 0.7000\n",
      "epoch: 0 iter: 5 loss: 0.2119 train acc: 0.7000 test acc: 0.7000\n",
      "epoch: 0 iter: 10 loss: 0.2736 train acc: 0.7000 test acc: 0.7000\n",
      "epoch: 0 iter: 15 loss: 0.2186 train acc: 0.7000 test acc: 0.7000\n",
      "Encoding method: IQP_encoding\n",
      "epoch: 0 iter: 0 loss: 0.3279 train acc: 0.3000 test acc: 0.6200\n",
      "epoch: 0 iter: 5 loss: 0.1772 train acc: 0.7000 test acc: 0.7200\n",
      "epoch: 0 iter: 10 loss: 0.2051 train acc: 0.8000 test acc: 0.6500\n",
      "epoch: 0 iter: 15 loss: 0.1951 train acc: 0.7000 test acc: 0.6700\n",
      "Encoding method: complex_entangled_encoding\n",
      "epoch: 0 iter: 0 loss: 0.5466 train acc: 0.4000 test acc: 0.2900\n",
      "epoch: 0 iter: 5 loss: 0.2075 train acc: 0.7000 test acc: 0.7000\n",
      "epoch: 0 iter: 10 loss: 0.2951 train acc: 0.7000 test acc: 0.7000\n",
      "epoch: 0 iter: 15 loss: 0.2614 train acc: 0.7000 test acc: 0.7000\n"
     ]
    }
   ],
   "source": [
    "# Testing different encoding methods\n",
    "encoding_list = ['amplitude_encoding', 'angle_encoding', 'pauli_rotation_encoding', 'IQP_encoding', 'complex_entangled_encoding']\n",
    "num_qubit = 2 # If qubit number is 1, CNOT gate in cir_classifier can not be used\n",
    "dimension = 2\n",
    "acc_list = []\n",
    "\n",
    "for i in range(len(encoding_list)):\n",
    "    encoding = encoding_list[i]\n",
    "    print(\"Encoding method:\", encoding)\n",
    "    # Use SimpleDataset to encode the data\n",
    "    quantum_train_x= SimpleDataset(dimension).encode(train_x, encoding, num_qubit)\n",
    "    quantum_test_x= SimpleDataset(dimension).encode(test_x, encoding, num_qubit)\n",
    "    quantum_train_x = paddle.to_tensor(quantum_train_x)\n",
    "    quantum_test_x = paddle.to_tensor(quantum_test_x)\n",
    "    \n",
    "    acc = QClassifier2(\n",
    "            quantum_train_x, # Training x\n",
    "            train_y,         # Training y\n",
    "            quantum_test_x,  # Testing x\n",
    "            test_y,          # Testing y\n",
    "            N = num_qubit,   # Number of qubits required\n",
    "            DEPTH = 1,       # Circuit depth\n",
    "            EPOCH = 1,       # Number of training epochs\n",
    "            LR = 0.1,        # Set the learning rate\n",
    "            BATCH = 10,      # Batch size during training\n",
    "          )\n",
    "    acc_list.append(acc)"
   ]
  },
  {
   "cell_type": "code",
   "execution_count": 28,
   "metadata": {},
   "outputs": [
    {
     "data": {
      "image/png": "[encoded data removed]",
      "text/plain": [
       "<Figure size 432x288 with 1 Axes>"
      ]
     },
     "metadata": {
      "needs_background": "light"
     },
     "output_type": "display_data"
    }
   ],
   "source": [
    "# Benchmarking different encoding methods\n",
    "x=[2*i for i in range(len(acc_list[0]))]\n",
    "for i in range(len(encoding_list)):\n",
    "    plt.plot(x,acc_list[i])\n",
    "plt.legend(encoding_list)\n",
    "plt.title(\"Benchmarking different encoding methods\")\n",
    "plt.xlabel(\"Iteration\")\n",
    "plt.ylabel(\"Test accuracy\")\n",
    "plt.show()"
   ]
  },
  {
   "cell_type": "markdown",
   "metadata": {},
   "source": [
    "## Quantum Classification on Built-In MNIST and Iris Datasets\n",
    "\n",
    "Paddle Quantum provides datasets commonly used in quantum classification tasks, and users can use the `paddle_quantum.dataset` module to get the encoding circuits or encoded states. There are four built-in datasets in Paddle Quantum at present, including MNIST, FashionMNIST, Iris and BreastCancer. We can easily accomplishing quantum classification using these quantum datasets.\n",
    "\n",
    "The first case is Iris. It has three types of labels and 50 samples of each type. There are only four features in Iris data, and it is very easy to fulfill its classification."
   ]
  },
  {
   "cell_type": "code",
   "execution_count": 29,
   "metadata": {},
   "outputs": [
    {
     "name": "stderr",
     "output_type": "stream",
     "text": [
      "/usr/local/Caskroom/miniconda/base/envs/pq_new/lib/python3.8/site-packages/paddle/fluid/dygraph/math_op_patch.py:276: UserWarning: The dtype of left and right variables are not the same, left dtype is paddle.float32, but right dtype is paddle.int64, the right dtype will convert to paddle.float32\n",
      "  warnings.warn(\n"
     ]
    },
    {
     "name": "stdout",
     "output_type": "stream",
     "text": [
      "epoch: 0 iter: 0 loss: 0.1864 train acc: 0.7500 test acc: 0.9000\n",
      "epoch: 0 iter: 5 loss: 0.0841 train acc: 1.0000 test acc: 1.0000\n",
      "epoch: 0 iter: 10 loss: 0.0490 train acc: 1.0000 test acc: 1.0000\n",
      "epoch: 0 iter: 15 loss: 0.0562 train acc: 1.0000 test acc: 1.0000\n",
      "epoch: 1 iter: 0 loss: 0.0800 train acc: 1.0000 test acc: 1.0000\n",
      "epoch: 1 iter: 5 loss: 0.0554 train acc: 1.0000 test acc: 1.0000\n",
      "epoch: 1 iter: 10 loss: 0.0421 train acc: 1.0000 test acc: 1.0000\n",
      "epoch: 1 iter: 15 loss: 0.0454 train acc: 1.0000 test acc: 1.0000\n",
      "epoch: 2 iter: 0 loss: 0.0752 train acc: 1.0000 test acc: 1.0000\n",
      "epoch: 2 iter: 5 loss: 0.0569 train acc: 1.0000 test acc: 1.0000\n",
      "epoch: 2 iter: 10 loss: 0.0413 train acc: 1.0000 test acc: 1.0000\n",
      "epoch: 2 iter: 15 loss: 0.0436 train acc: 1.0000 test acc: 1.0000\n",
      "epoch: 3 iter: 0 loss: 0.0775 train acc: 1.0000 test acc: 1.0000\n",
      "epoch: 3 iter: 5 loss: 0.0597 train acc: 1.0000 test acc: 1.0000\n",
      "epoch: 3 iter: 10 loss: 0.0419 train acc: 1.0000 test acc: 1.0000\n",
      "epoch: 3 iter: 15 loss: 0.0425 train acc: 1.0000 test acc: 1.0000\n"
     ]
    },
    {
     "data": {
      "image/png": "[encoded data removed]",
      "text/plain": [
       "<Figure size 432x288 with 1 Axes>"
      ]
     },
     "metadata": {
      "needs_background": "light"
     },
     "output_type": "display_data"
    }
   ],
   "source": [
    "# Using Iris\n",
    "test_rate = 0.2\n",
    "num_qubit = 4\n",
    "\n",
    "# acquire Iris data as quantum states\n",
    "iris =Iris (encoding='angle_encoding', num_qubits=num_qubit, test_rate=test_rate,classes=[0, 1], return_state=True)\n",
    "\n",
    "quantum_train_x, train_y = iris.train_x, iris.train_y\n",
    "quantum_test_x, test_y = iris.test_x, iris.test_y\n",
    "testing_data_num = len(test_y)\n",
    "training_data_num = len(train_y)\n",
    "\n",
    "acc = QClassifier2(\n",
    "        quantum_train_x, # training x\n",
    "        train_y,         # training y\n",
    "        quantum_test_x,  # testing x\n",
    "        test_y,          # testing y\n",
    "        N = num_qubit,   # Number of qubits required\n",
    "        DEPTH = 1,       # Circuit depth\n",
    "        EPOCH = 4,       # Number of training epochs, the total iteration number \"EPOCH * (Ntrain / BATCH)\" is chosen to be about 200\n",
    "        LR = 0.1,        # Set the learning rate\n",
    "        BATCH = 4,       # Batch size during training\n",
    "      )\n",
    "plt.plot(acc)\n",
    "plt.title(\"Classify Iris 0&1 using angle encoding\")\n",
    "plt.xlabel(\"Iteration\")\n",
    "plt.ylabel(\"Testing accuracy\")\n",
    "plt.show()"
   ]
  },
  {
   "cell_type": "markdown",
   "metadata": {},
   "source": [
    "The second case is MNIST. It is a handwritten digit dataset and has 10 classes. Each figure has $28\\times28$ pixels, and downscaling methods such as ``resize`` and ``PCA`` should be used to transform it into the target dimension."
   ]
  },
  {
   "cell_type": "code",
   "execution_count": 30,
   "metadata": {},
   "outputs": [
    {
     "name": "stdout",
     "output_type": "stream",
     "text": [
      "epoch: 0 iter: 0 loss: 0.3369 train acc: 0.4500 test acc: 0.4700\n",
      "epoch: 0 iter: 5 loss: 0.2124 train acc: 0.6250 test acc: 0.5750\n",
      "epoch: 0 iter: 10 loss: 0.2885 train acc: 0.4500 test acc: 0.5550\n",
      "epoch: 1 iter: 0 loss: 0.2455 train acc: 0.4750 test acc: 0.6300\n",
      "epoch: 1 iter: 5 loss: 0.1831 train acc: 0.7750 test acc: 0.7550\n",
      "epoch: 1 iter: 10 loss: 0.1584 train acc: 0.8000 test acc: 0.8000\n",
      "epoch: 2 iter: 0 loss: 0.2106 train acc: 0.7000 test acc: 0.7800\n",
      "epoch: 2 iter: 5 loss: 0.1612 train acc: 0.8250 test acc: 0.7600\n",
      "epoch: 2 iter: 10 loss: 0.1550 train acc: 0.8250 test acc: 0.8300\n",
      "epoch: 3 iter: 0 loss: 0.1663 train acc: 0.8000 test acc: 0.8400\n",
      "epoch: 3 iter: 5 loss: 0.1485 train acc: 0.8500 test acc: 0.8450\n",
      "epoch: 3 iter: 10 loss: 0.1655 train acc: 0.8000 test acc: 0.8350\n",
      "epoch: 4 iter: 0 loss: 0.1625 train acc: 0.8000 test acc: 0.8700\n",
      "epoch: 4 iter: 5 loss: 0.1297 train acc: 0.8500 test acc: 0.8400\n",
      "epoch: 4 iter: 10 loss: 0.1646 train acc: 0.7750 test acc: 0.8850\n"
     ]
    },
    {
     "data": {
      "image/png": "[encoded data removed]",
      "text/plain": [
       "<Figure size 432x288 with 1 Axes>"
      ]
     },
     "metadata": {
      "needs_background": "light"
     },
     "output_type": "display_data"
    }
   ],
   "source": [
    "# using MNIST\n",
    "\n",
    "# main parameters\n",
    "training_data_num = 500\n",
    "testing_data_num = 200\n",
    "num_qubit = 4\n",
    "\n",
    "# MNIST data with amplitude encoding, resized to 4*4\n",
    "train_dataset = MNIST(mode='train', encoding='amplitude_encoding', num_qubits=num_qubit, classes=[3, 6],\n",
    "                      data_num=training_data_num, need_cropping=True,\n",
    "                      downscaling_method='resize', target_dimension=16, return_state=True)\n",
    "\n",
    "val_dataset = MNIST(mode='test', encoding='amplitude_encoding', num_qubits=num_qubit, classes=[3, 6],\n",
    "                    data_num=testing_data_num, need_cropping=True,\n",
    "                    downscaling_method='resize', target_dimension=16,return_state=True)\n",
    "\n",
    "quantum_train_x, train_y = train_dataset.quantum_image_states, train_dataset.labels\n",
    "quantum_test_x, test_y = val_dataset.quantum_image_states, val_dataset.labels\n",
    "\n",
    "acc = QClassifier2(\n",
    "        quantum_train_x, # Training x\n",
    "        train_y,         # Training y\n",
    "        quantum_test_x,  # Testing x\n",
    "        test_y,          # Testing y\n",
    "        N = num_qubit,   # Number of qubits required\n",
    "        DEPTH = 3,       # Circuit depth\n",
    "        EPOCH = 5,       # Number of training epochs, the total iteration number \"EPOCH * (Ntrain / BATCH)\" is chosen to be about 200\n",
    "        LR = 0.1,        # Set the learning rate\n",
    "        BATCH = 40,      # Batch size during training\n",
    "      )\n",
    "\n",
    "plt.plot(acc)\n",
    "plt.title(\"Classify MNIST 3&6 using amplitude encoding\")\n",
    "plt.xlabel(\"Iteration\")\n",
    "plt.ylabel(\"Testing accuracy\")\n",
    "plt.show()"
   ]
  },
  {
   "cell_type": "markdown",
   "metadata": {},
   "source": [
    "_______\n",
    "\n",
    "## References\n",
    "\n",
    "\n",
    "[1] Mitarai, Kosuke, et al. Quantum circuit learning. [Physical Review A 98.3 (2018): 032309.](https://arxiv.org/abs/1803.00745)\n",
    "\n",
    "[2] Farhi, Edward, and Hartmut Neven. Classification with quantum neural networks on near term processors. [arXiv preprint arXiv:1802.06002 (2018).](https://arxiv.org/abs/1802.06002)\n",
    "\n",
    "[3] Schuld, Maria, et al. Circuit-centric quantum classifiers. [Physical Review A 101.3 (2020): 032308.](https://arxiv.org/abs/1804.00633)\n",
    "\n",
    "[4] Schuld, Maria. Supervised quantum machine learning models are kernel methods. [arXiv preprint arXiv:2101.11020 (2021).](https://arxiv.org/pdf/2101.11020)"
   ]
  }
 ],
 "metadata": {
  "kernelspec": {
   "display_name": "Python 3 (ipykernel)",
   "language": "python",
   "name": "python3"
  },
  "language_info": {
   "codemirror_mode": {
    "name": "ipython",
    "version": 3
   },
   "file_extension": ".py",
   "mimetype": "text/x-python",
   "name": "python",
   "nbconvert_exporter": "python",
   "pygments_lexer": "ipython3",
   "version": "3.8.13"
  },
  "toc": {
   "base_numbering": 1,
   "nav_menu": {},
   "number_sections": true,
   "sideBar": true,
   "skip_h1_title": false,
   "title_cell": "Table of Contents",
   "title_sidebar": "Contents",
   "toc_cell": false,
   "toc_position": {},
   "toc_section_display": true,
   "toc_window_display": true
  }
 },
 "nbformat": 4,
 "nbformat_minor": 4
}
