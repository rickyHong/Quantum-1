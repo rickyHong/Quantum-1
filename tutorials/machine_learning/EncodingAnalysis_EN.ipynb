{
 "cells": [
  {
   "cell_type": "markdown",
   "metadata": {},
   "source": [
    "# Data Encoding Analysis\n",
    "\n",
    "*Copyright (c) 2022 Institute for Quantum Computing, Baidu Inc. All Rights Reserved.*"
   ]
  },
  {
   "cell_type": "markdown",
   "metadata": {},
   "source": [
    "## Overview\n",
    "\n",
    "Many studies are now exhibiting the promise of Variational Quantum Algorithms (VQA) in demonstrating quantum advantages on near-term quantum devices, with particular emphasis on using them to solve supervised learning tasks. VQA is also known as a Parameterized Quantum Circuit (PQC), which is divided into two main parts in this tutorial: the data encoding circuit and the quantum neural network. The data encoding circuit converts classical data into quantum states, and the quality of the quantum states has a direct impact on the classification results. When data encoding is analyzed through the perspective of kernel functions, different encoding methods correspond to different kernel functions, which play a critical role in the classification of quantum states [1,2]. It often determines the expressiveness and generalization ability of the method by analyzing data encoding from the standpoint of statistical learning theory [3,4]. Therefore, it is necessary to conduct a systematic analysis of data encoding. From the standpoint of quantum information, literature [5] critically analyzes the effect of the width and depth of the data encoding circuit on the quantum state.\n",
    "\n",
    "The next part of the tutorial is organized around the literature [5] and is divided into two parts: theory and Paddle Quantum implementation. The fundamental concepts and main conclusions are introduced first, followed by specific implementation solutions."
   ]
  },
  {
   "cell_type": "markdown",
   "metadata": {},
   "source": [
    "## Theory"
   ]
  },
  {
   "cell_type": "markdown",
   "metadata": {},
   "source": [
    "### Fundamental Concepts\n",
    "\n",
    "Figure 1 shows the flowchart for encoding classical data into quantum states. Assume that the classical data are independent identically distributed samples of distribution $D$, each classical data is $\\pmb x$, which becomes a quantum state $\\rho(\\pmb x)$ after passing through the data encoding circuit. Here the concept of **average quantum state** over the distribution $D$ is introduced, i.e. \n",
    "\n",
    "$$\n",
    "\\bar{\\rho}:=\\mathbf{E}[\\rho(\\pmb x)]. \\tag{1}\n",
    "$$\n",
    "\n",
    "Given a classical data set $S$ consisting of $M$ data, we usually use the average value to approximate the average quantum state of $S$\n",
    "\n",
    "$$\n",
    "\\bar{\\rho}:=\\frac{1}{M}\\sum_{j=1}^M\\rho(\\pmb x_j). \\tag{2}\n",
    "$$\n",
    "\n",
    "\n",
    "![illustration](figures/EncodingAnalysis-fig-illustration.png  \"Figure 1: Flowchart for encoding classical data into quantum states.\")\n",
    "\n",
    "There are various methods for measuring the distance between quantum states, including trace distance, fidelity, **Petz-Rényi divergence**, and others. In this tutorial, the Petz-Rényi divergence is used as a measure of the distance between different quantum states. Specifically, the Petz-Rényi divergence of the quantum states $\\rho_0$ and $\\rho_1$ is defined as\n",
    "\n",
    "$$\n",
    "D_2(\\rho_0||\\rho_1)=logTr[\\rho_0^2\\rho_1^{-1}], \\tag{3}\n",
    "$$\n",
    "\n",
    "the closer the two quantum states are, the smaller the value of $D_2$."
   ]
  },
  {
   "cell_type": "markdown",
   "metadata": {},
   "source": [
    "### Main Result\n",
    "\n",
    "The Petz-Rényi divergence metric is then used to calculate the distance between the encoding average quantum state and the maximum mixed state. It is not difficult to believe that this distance is related to the property of the classical dataset and how the data are encoded. Assume that each feature dimension of the classical dataset satisfies certain independence and has a standard deviation of at least $\\sigma$. The following inequality then holds for the encoding circuit depicted in figure 2 (with width and depth $n$ and $D$, respectively)\n",
    "\n",
    "$$\n",
    "D_2(\\bar{\\rho}||I/2^n)\\leq log(1+(2^n-1)2^{-D\\sigma^2}), \\tag{4}\n",
    "$$\n",
    "\n",
    "where $I/2^n$ is the maximum mixed state of $n$ bits and $I$ is the unit matrix.\n",
    "\n",
    "![encoding-u3](figures/EncodingAnalysis-fig-u3_circuit.png \" Figure 2: General data encoding circuits. Etg denotes any combination of control non-gates and CZ gates.\")\n",
    "\n",
    "A more rigorous description and proof of the theorem can be found in [5], and the focus of this tutorial will be on what this conclusion implies and illuminates.\n",
    "\n",
    "* This means that the average quantum state converges to the maximum mixed state at an exponential rate as the circuit depth increases. For example, if the average quantum states of both classes 0 and 1 eventually converge to the maximum mixed state, it will be impossible to distinguish the average quantum states of these two classes from the standpoint of quantum information, i.e., it will be impossible to distinguish classical data features in an average sense.\n",
    "\n",
    "* When the classical data features have a high dimensionality (e.g., picture data), angle encoding may not be the best option. This is due to the fact that it can easily lead to very deep encoding circuits, and widening circuits may run into the barren plateau problem, which severely limits VQA's capability. As a result, some dimensionality reduction operations must be performed on the traditional data before it is fed into the circuit."
   ]
  },
  {
   "cell_type": "markdown",
   "metadata": {},
   "source": [
    "## Paddle Quantum Implementation\n",
    "\n",
    "This section focuses on two experiments using Paddle Quantum on the MNIST dataset: \n",
    "- Exploring the trend of the Petz-Rényi divergence between the average quantum state and the maximum mixed state with the depth of the data encoding circuit\n",
    "- Investigate changes in classification accuracy as the data encoding circuit becomes deeper."
   ]
  },
  {
   "cell_type": "markdown",
   "metadata": {},
   "source": [
    "### First import the relevant packages"
   ]
  },
  {
   "cell_type": "code",
   "execution_count": 2,
   "metadata": {},
   "outputs": [],
   "source": [
    "# import numpy, paddle, and paddle_quantum\n",
    "import numpy as np\n",
    "import paddle\n",
    "import paddle_quantum\n",
    "\n",
    "# import circuit module\n",
    "from paddle_quantum.ansatz import Circuit\n",
    "\n",
    "# import some function\n",
    "from numpy import pi as PI\n",
    "from paddle import matmul, transpose, reshape, real, argmax, cast, mean, concat, real\n",
    "from paddle_quantum.qinfo import pauli_str_to_matrix \n",
    "from paddle_quantum.linalg import dagger\n",
    "import paddle.nn.functional as F\n",
    "\n",
    "# dataset tool\n",
    "from paddle_quantum.dataset import MNIST\n",
    "\n",
    "# plot and time module\n",
    "from matplotlib import pyplot as plt\n",
    "from pylab import axes\n",
    "import time"
   ]
  },
  {
   "cell_type": "markdown",
   "metadata": {},
   "source": [
    "### Parameterized Quantum Circuit\n",
    "\n",
    "![encoding-ry](figures/EncodingAnalysis-fig-ry_circuit.png \"Figure 3: Parameterized quantum circuit.\")\n",
    "\n",
    "The red box on the left in Figure 3 is the data encoding circuit, a special case of Figure 2, and the blue box on the right is the quantum neural network. The data encoding circuit here is made up of $R_y$ and CNOT, and the specific circuit depth $D$ is determined by the data feature dimension. The MNIST dataset will be used in this tutorial and the images are downscaled to 16-dimensional feature vectors. The number of quantum bits is chosen to be 8, 6, 4, 3, 2, and the corresponding circuit depths are 2, 3, 4, 6, 8. The positions larger than 16 dimensions will be filled with 0, i.e., $R_y(0)$. The quantum neural network part consists of the single-bit universal gate $U3$ and CNOT.\n",
    "The specific circuit depth $L$ can be set freely."
   ]
  },
  {
   "cell_type": "markdown",
   "metadata": {},
   "source": [
    "### Encoding classical Data into quantum states\n",
    "\n",
    "Here you need the dataset tool `dataset` provided by Paddle Quantum. The MNIST data are encoded into quantum states using the data encoding circuit shown in Figure 2 before being fed into the quantum neural network for training."
   ]
  },
  {
   "cell_type": "code",
   "execution_count": 4,
   "metadata": {},
   "outputs": [],
   "source": [
    "train_data, test_data = [], []\n",
    "\n",
    "# Binary classification task \n",
    "classes = [3,6]\n",
    "\n",
    "training_data_num = 1000\n",
    "testing_data_num = 200\n",
    "qubit_num_list = [8, 6, 4, 3, 2]\n",
    "\n",
    "# Encode classical data using circuits of different widths and depths and save them\n",
    "for qubit_num in qubit_num_list:\n",
    "    \n",
    "    # training dataset\n",
    "    train_dataset = MNIST(mode='train', encoding='real_entangled_encoding', num_qubits=qubit_num,\n",
    "                          classes=classes,\n",
    "                          data_num=training_data_num,\n",
    "                          downscaling_method='resize', target_dimension=16,\n",
    "                          need_relabel=True, return_state=True)\n",
    "\n",
    "    # validation dataset\n",
    "    val_dataset = MNIST(mode='test', encoding='real_entangled_encoding', num_qubits=qubit_num,\n",
    "                        classes=classes,\n",
    "                        data_num=testing_data_num,\n",
    "                        downscaling_method='resize', target_dimension=16,\n",
    "                        need_relabel=True, return_state=True)\n",
    "\n",
    "    # x and y\n",
    "    train_x, train_y = train_dataset.quantum_image_states, train_dataset.labels\n",
    "    test_x, test_y = val_dataset.quantum_image_states, val_dataset.labels\n",
    "    train_data.append((train_x, train_y))\n",
    "    test_data.append((test_x, test_y))"
   ]
  },
  {
   "cell_type": "code",
   "execution_count": 5,
   "metadata": {},
   "outputs": [
    {
     "name": "stdout",
     "output_type": "stream",
     "text": [
      "[1000, 256]\n",
      "(1000,)\n",
      "[200, 256]\n",
      "(200,)\n"
     ]
    }
   ],
   "source": [
    "print(train_data[0][0].shape)\n",
    "print(train_data[0][1].shape)\n",
    "print(test_data[0][0].shape)\n",
    "print(test_data[0][1].shape)"
   ]
  },
  {
   "cell_type": "markdown",
   "metadata": {},
   "source": [
    "### Building Quantum Neural Network"
   ]
  },
  {
   "cell_type": "code",
   "execution_count": 6,
   "metadata": {},
   "outputs": [],
   "source": [
    "# Construct model\n",
    "class Net(paddle.nn.Layer):\n",
    "    \"\"\"\n",
    "    construct network\n",
    "    \"\"\"\n",
    "    def __init__(self, n, depth):\n",
    "        # Initialize the circuit: n, depth\n",
    "        super(Net, self).__init__()\n",
    "        self.n = n\n",
    "        self.depth = depth\n",
    "        \n",
    "        self.circuit = Circuit(n)\n",
    "        # Add layers of rotation gates\n",
    "        for i in range(n):\n",
    "            self.circuit.rz(qubits_idx=i)\n",
    "            self.circuit.ry(qubits_idx=i)\n",
    "            self.circuit.rz(qubits_idx=i)\n",
    "\n",
    "        # default depth = 1\n",
    "        # Add layers of entanglement\n",
    "        for d in range(3, depth + 3):\n",
    "            for i in range(n-1):\n",
    "                self.circuit.cnot(qubits_idx=[i, i + 1])\n",
    "            self.circuit.cnot(qubits_idx=[n-1, 0])\n",
    "            for i in range(n):\n",
    "                self.circuit.ry(qubits_idx=i)\n",
    "\n",
    "    # Define forward propagation mechanism, and then calculate loss function and cross-validation accuracy\n",
    "    def forward(self, state_in, label):\n",
    "        \"\"\"\n",
    "        Input: \n",
    "            state_in: input quantum state, shape: [-1, 1, 2^n] -- Here is [BATCH, 1, 2^n]\n",
    "            label: labels of input quantum state, shape: [-1, 1]\n",
    "        Loss function:\n",
    "            The cross entropy loss \n",
    "        \"\"\"\n",
    "        # Initialize theta \n",
    "        Utheta = self.circuit.unitary_matrix()\n",
    "\n",
    "        # row vector operations here to speed up \n",
    "        state_out = matmul(state_in, Utheta)  # shape [-1, 1, 2 ** n]\n",
    "\n",
    "        # Measure the expected value of the pauli Z operator <Z>\n",
    "        Ob1 = paddle.to_tensor(pauli_str_to_matrix([[1.0, 'z0']], self.n))\n",
    "        E_Ob1 = matmul(matmul(state_out, Ob1), transpose(paddle.conj(state_out), perm=[0, 2, 1]))\n",
    "        E_Ob1_re = reshape(real(E_Ob1), [-1, 1])\n",
    "\n",
    "        Ob2 = paddle.to_tensor(pauli_str_to_matrix([[1.0, 'x0']], self.n))\n",
    "        E_Ob2 = matmul(matmul(state_out, Ob2), transpose(paddle.conj(state_out), perm=[0, 2, 1]))\n",
    "        E_Ob2_re = reshape(real(E_Ob2), [-1, 1])\n",
    "\n",
    "        outputs = concat([E_Ob1_re, E_Ob2_re], axis=-1)\n",
    "    \n",
    "        # Calculate loss and accuracy\n",
    "        loss = F.cross_entropy(outputs, label)\n",
    "        acc = mean(cast(argmax(outputs, axis=-1) == label, \"float32\"))\n",
    "        \n",
    "        return loss, acc"
   ]
  },
  {
   "cell_type": "code",
   "execution_count": 7,
   "metadata": {},
   "outputs": [],
   "source": [
    "# Define a classifier\n",
    "def QClassifier(train_x, train_y, test_x, test_y, N, D, EPOCH, LR, BATCH, seed=0):\n",
    "    \"\"\"\n",
    "    Quantum binary classifier\n",
    "    \"\"\"\n",
    "    train_y = paddle.to_tensor(train_y, dtype=\"int64\")\n",
    "    test_y = paddle.to_tensor(test_y, dtype=\"int64\")\n",
    "\n",
    "    N_train, in_dim = train_x.shape\n",
    "    \n",
    "    # Initialize the neural network\n",
    "    paddle.seed(0)\n",
    "    net = Net(n=N, depth=D)\n",
    "\n",
    "    # Generally speaking, we use Adam optimizer to obtain relatively good convergence,\n",
    "    # You can change it to SGD or RMS prop.\n",
    "    opt = paddle.optimizer.Adam(learning_rate=LR, parameters=net.parameters())\n",
    "\n",
    "    # Optimization loop\n",
    "    for ep in range(EPOCH):\n",
    "        for itr in range(N_train // BATCH):\n",
    "            input_state = train_x[itr * BATCH:(itr + 1) * BATCH]\n",
    "            input_state = reshape(input_state, [-1, 1, 2 ** N])\n",
    "            label = train_y[itr * BATCH:(itr + 1) * BATCH]\n",
    "\n",
    "            test_input_state = reshape(test_x, [-1, 1, 2 ** N])\n",
    "\n",
    "            # Forward propagation to calculate loss and accuracy\n",
    "            train_loss, train_acc = net(state_in=input_state, label=label)\n",
    "\n",
    "            if itr % 3 == 0:\n",
    "                # Compute test accuracy and loss\n",
    "                loss_useless, test_acc = net(state_in=test_input_state, label=test_y)\n",
    "                print(\"epoch:\", ep, \"iter:\", itr,\n",
    "                      \"train loss: %.4f\" % train_loss.numpy(),\n",
    "                      \"train acc: %.4f\" % train_acc,\n",
    "                      \"test acc: %.4f\" % test_acc)\n",
    "\n",
    "            # Use back propagation to minimize the loss function\n",
    "            train_loss.backward()\n",
    "            opt.minimize(train_loss)\n",
    "            opt.clear_grad()\n",
    "    \n",
    "    # Compute test accuracy and loss\n",
    "    _, test_acc = net(state_in=test_input_state, label=test_y) \n",
    "    \n",
    "    return test_acc.numpy()"
   ]
  },
  {
   "cell_type": "code",
   "execution_count": 8,
   "metadata": {},
   "outputs": [
    {
     "name": "stdout",
     "output_type": "stream",
     "text": [
      "***************************** qubit num : 8 *****************************\n",
      "epoch: 0 iter: 0 train loss: 0.6913 train acc: 0.5200 test acc: 0.4250\n",
      "epoch: 0 iter: 3 train loss: 0.6836 train acc: 0.6500 test acc: 0.5200\n",
      "epoch: 1 iter: 0 train loss: 0.6759 train acc: 0.6850 test acc: 0.5550\n",
      "epoch: 1 iter: 3 train loss: 0.6709 train acc: 0.6950 test acc: 0.5650\n",
      "epoch: 2 iter: 0 train loss: 0.6651 train acc: 0.6650 test acc: 0.5700\n",
      "epoch: 2 iter: 3 train loss: 0.6621 train acc: 0.7050 test acc: 0.6050\n",
      "epoch: 3 iter: 0 train loss: 0.6589 train acc: 0.6900 test acc: 0.6000\n",
      "epoch: 3 iter: 3 train loss: 0.6597 train acc: 0.7050 test acc: 0.6250\n",
      "epoch: 4 iter: 0 train loss: 0.6563 train acc: 0.7150 test acc: 0.6550\n",
      "epoch: 4 iter: 3 train loss: 0.6566 train acc: 0.7250 test acc: 0.6700\n",
      "***************************** qubit num : 6 *****************************\n",
      "epoch: 0 iter: 0 train loss: 0.6966 train acc: 0.4900 test acc: 0.5250\n",
      "epoch: 0 iter: 3 train loss: 0.6938 train acc: 0.4850 test acc: 0.5450\n",
      "epoch: 1 iter: 0 train loss: 0.6884 train acc: 0.5350 test acc: 0.5450\n",
      "epoch: 1 iter: 3 train loss: 0.6862 train acc: 0.5400 test acc: 0.5700\n",
      "epoch: 2 iter: 0 train loss: 0.6775 train acc: 0.5750 test acc: 0.5850\n",
      "epoch: 2 iter: 3 train loss: 0.6744 train acc: 0.6100 test acc: 0.6000\n",
      "epoch: 3 iter: 0 train loss: 0.6642 train acc: 0.6350 test acc: 0.5950\n",
      "epoch: 3 iter: 3 train loss: 0.6615 train acc: 0.6450 test acc: 0.6200\n",
      "epoch: 4 iter: 0 train loss: 0.6526 train acc: 0.6900 test acc: 0.6300\n",
      "epoch: 4 iter: 3 train loss: 0.6560 train acc: 0.6250 test acc: 0.6350\n",
      "***************************** qubit num : 4 *****************************\n",
      "epoch: 0 iter: 0 train loss: 0.7081 train acc: 0.4650 test acc: 0.5350\n",
      "epoch: 0 iter: 3 train loss: 0.6994 train acc: 0.4950 test acc: 0.5900\n",
      "epoch: 1 iter: 0 train loss: 0.6902 train acc: 0.5450 test acc: 0.5750\n",
      "epoch: 1 iter: 3 train loss: 0.6942 train acc: 0.5150 test acc: 0.5800\n",
      "epoch: 2 iter: 0 train loss: 0.6869 train acc: 0.6100 test acc: 0.5850\n",
      "epoch: 2 iter: 3 train loss: 0.6923 train acc: 0.5150 test acc: 0.6000\n",
      "epoch: 3 iter: 0 train loss: 0.6825 train acc: 0.5700 test acc: 0.6050\n",
      "epoch: 3 iter: 3 train loss: 0.6917 train acc: 0.5200 test acc: 0.5950\n",
      "epoch: 4 iter: 0 train loss: 0.6776 train acc: 0.5850 test acc: 0.5800\n",
      "epoch: 4 iter: 3 train loss: 0.6901 train acc: 0.5450 test acc: 0.6050\n",
      "***************************** qubit num : 3 *****************************\n",
      "epoch: 0 iter: 0 train loss: 0.7104 train acc: 0.4550 test acc: 0.5000\n",
      "epoch: 0 iter: 3 train loss: 0.6931 train acc: 0.4950 test acc: 0.4900\n",
      "epoch: 1 iter: 0 train loss: 0.6928 train acc: 0.4600 test acc: 0.4700\n",
      "epoch: 1 iter: 3 train loss: 0.6968 train acc: 0.4800 test acc: 0.4800\n",
      "epoch: 2 iter: 0 train loss: 0.6964 train acc: 0.5100 test acc: 0.4750\n",
      "epoch: 2 iter: 3 train loss: 0.7004 train acc: 0.5150 test acc: 0.4600\n",
      "epoch: 3 iter: 0 train loss: 0.6961 train acc: 0.5050 test acc: 0.4800\n",
      "epoch: 3 iter: 3 train loss: 0.6957 train acc: 0.5300 test acc: 0.4850\n",
      "epoch: 4 iter: 0 train loss: 0.6938 train acc: 0.5250 test acc: 0.5150\n",
      "epoch: 4 iter: 3 train loss: 0.6919 train acc: 0.5150 test acc: 0.5250\n",
      "***************************** qubit num : 2 *****************************\n",
      "epoch: 0 iter: 0 train loss: 0.7031 train acc: 0.5450 test acc: 0.4800\n",
      "epoch: 0 iter: 3 train loss: 0.6960 train acc: 0.5350 test acc: 0.4550\n",
      "epoch: 1 iter: 0 train loss: 0.6932 train acc: 0.5100 test acc: 0.5100\n",
      "epoch: 1 iter: 3 train loss: 0.6930 train acc: 0.5250 test acc: 0.5200\n",
      "epoch: 2 iter: 0 train loss: 0.6930 train acc: 0.5150 test acc: 0.4750\n",
      "epoch: 2 iter: 3 train loss: 0.6933 train acc: 0.5050 test acc: 0.4600\n",
      "epoch: 3 iter: 0 train loss: 0.6925 train acc: 0.5400 test acc: 0.4600\n",
      "epoch: 3 iter: 3 train loss: 0.6909 train acc: 0.5350 test acc: 0.4700\n",
      "epoch: 4 iter: 0 train loss: 0.6939 train acc: 0.5450 test acc: 0.4750\n",
      "epoch: 4 iter: 3 train loss: 0.6853 train acc: 0.5600 test acc: 0.4750\n",
      "time used: 184.6011986732483 s\n"
     ]
    }
   ],
   "source": [
    "time_start = time.time()\n",
    "\n",
    "acc_list = []\n",
    "\n",
    "for i in range(5):\n",
    "    print('***************************** qubit num : %s *****************************'%qubit_num_list[i])\n",
    "    train_x, train_y = train_data[i]\n",
    "    test_x, test_y = test_data[i]\n",
    "\n",
    "    acc = QClassifier(\n",
    "        train_x,                  # training data x\n",
    "        train_y,                  # training data label\n",
    "        test_x,                   # test data x\n",
    "        test_y,                   # test data label\n",
    "        N=qubit_num_list[i],      # Number of qubits\n",
    "        D=qubit_num_list[i] + 2,  # Circuit depth\n",
    "        EPOCH=5,                  # Number of training epochs\n",
    "        LR=0.05,                  # Learning rate\n",
    "        BATCH=200,                # Batch size\n",
    "        seed=0\n",
    "    )\n",
    "    acc_list.append(acc)      \n",
    "\n",
    "time_span = time.time() - time_start\n",
    "print('time used:', time_span, 's')"
   ]
  },
  {
   "cell_type": "markdown",
   "metadata": {},
   "source": [
    "### The Petz-Rényi divergence of the average quantum state and the maximum mixed state"
   ]
  },
  {
   "cell_type": "code",
   "execution_count": 9,
   "metadata": {},
   "outputs": [
    {
     "name": "stdout",
     "output_type": "stream",
     "text": [
      "[1.9842463368536747, 0.5256437464833253, 0.1964853652901484, 0.05162865627740749, 0.022790754263846934]\n",
      "[1.8628793706046225, 0.6064395532199834, 0.1529884926031612, 0.04173701231534178, 0.009023512622560221]\n"
     ]
    },
    {
     "data": {
      "image/png": "[encoded data removed]",
      "text/plain": [
       "<Figure size 432x288 with 1 Axes>"
      ]
     },
     "metadata": {
      "needs_background": "light"
     },
     "output_type": "display_data"
    }
   ],
   "source": [
    "fig = plt.figure(1)\n",
    "ax = axes([0.15, 0.15, 0.8, 0.8])\n",
    "\n",
    "\n",
    "def average_encode_state(train_x):\n",
    "    d1, d2 = train_x.shape\n",
    "    density_matrices = np.reshape(train_x, [d1, d2, 1]) @ np.reshape(np.conj(train_x), [d1, 1, d2])\n",
    "    return np.mean(density_matrices, axis=0)\n",
    "\n",
    "\n",
    "depth_list = [2, 3, 4, 6, 8]\n",
    "\n",
    "Q_2Renyi_D3_list = []\n",
    "Q_2Renyi_D6_list = []\n",
    "\n",
    "for i,q in enumerate(qubit_num_list):\n",
    "    train_x, train_y = train_data[i]\n",
    "    train_x = train_x.numpy()\n",
    "    \n",
    "    train_x0 = train_x[train_y == 0]\n",
    "    train_x1 = train_x[train_y == 1]\n",
    "    average_state0 = average_encode_state(train_x0.real)\n",
    "    average_state1 = average_encode_state(train_x1.real)\n",
    "#     print(average_state)\n",
    "    Q_2Renyi_D3 = np.log2(np.trace(average_state0 @ average_state0) * 2 ** q)\n",
    "    Q_2Renyi_D6 = np.log2(np.trace(average_state1 @ average_state1) * 2 ** q)\n",
    "#     bound = np.sum(np.sqrt(S0)) ** 2 / 2 ** num_qubits\n",
    "    Q_2Renyi_D3_list.append(Q_2Renyi_D3)\n",
    "    Q_2Renyi_D6_list.append(Q_2Renyi_D6)\n",
    "\n",
    "print(Q_2Renyi_D3_list)\n",
    "print(Q_2Renyi_D6_list)\n",
    "\n",
    "\n",
    "func3, = ax.plot(depth_list, Q_2Renyi_D3_list, linewidth=1.5,\n",
    "                 marker=\"<\",\n",
    "                 linestyle=\":\",\n",
    "                 color=\"r\"\n",
    "                 )\n",
    "\n",
    "func6, = ax.plot(depth_list, Q_2Renyi_D6_list, linewidth=1.5,\n",
    "                 marker=\"o\",\n",
    "                 linestyle=\"-.\",\n",
    "                 color=\"g\"\n",
    "                 )\n",
    "\n",
    "plt.xticks(fontsize=22)\n",
    "plt.yticks(fontsize=22)\n",
    "\n",
    "plt.xlabel(\"Depth\", fontsize=22)\n",
    "plt.ylabel(r\"$D_2(\\overline{\\rho} || I/2^n)$\", fontsize=22)\n",
    "ax.semilogy()\n",
    "ax.legend(handles=[func3, func6],\n",
    "          labels=[\"Digit 3\", \"Digit 6\"],\n",
    "          loc=\"best\",\n",
    "          fontsize=18)\n",
    "ax.grid(axis=\"y\")\n",
    "plt.show()"
   ]
  },
  {
   "cell_type": "markdown",
   "metadata": {},
   "source": [
    "### Investigating the effect on classification accuracy"
   ]
  },
  {
   "cell_type": "code",
   "execution_count": 10,
   "metadata": {},
   "outputs": [
    {
     "name": "stdout",
     "output_type": "stream",
     "text": [
      "[array([0.675], dtype=float32), array([0.61], dtype=float32), array([0.585], dtype=float32), array([0.535], dtype=float32), array([0.475], dtype=float32)]\n"
     ]
    },
    {
     "data": {
      "image/png": "[encoded data removed]",
      "text/plain": [
       "<Figure size 432x288 with 1 Axes>"
      ]
     },
     "metadata": {
      "needs_background": "light"
     },
     "output_type": "display_data"
    }
   ],
   "source": [
    "print(acc_list)\n",
    "\n",
    "fig = plt.figure(1)\n",
    "ax = axes([0.15, 0.15, 0.8, 0.8])\n",
    "\n",
    "func36_acc, = ax.plot(depth_list, acc_list, linewidth=1.5,\n",
    "                      marker=\"*\",\n",
    "                      linestyle=\"--\",\n",
    "                      color=\"b\"\n",
    "                      )\n",
    "\n",
    "plt.xticks(fontsize=22)\n",
    "plt.yticks(fontsize=22)\n",
    "plt.ylim(0.48, 0.75)\n",
    "plt.xlabel(\"Depth\", fontsize=22)\n",
    "plt.ylabel(r\"Test Accuracy\", fontsize=22)\n",
    "ax.legend(handles=[func36_acc,],\n",
    "          labels=[\"classifying 3 and 6\"],\n",
    "          loc=\"best\", fontsize=22)\n",
    "ax.grid(axis=\"y\")\n",
    "plt.show()"
   ]
  },
  {
   "cell_type": "markdown",
   "metadata": {},
   "source": [
    "## Conclusion\n",
    "\n",
    "According to the experimental results, the average quantum state of each category tends to the maximum mixed state at an exponential rate as the data encoding circuit deepens. As a result, the final quantum neural network's classification accuracy decreases. With the help of the literature [5], we have come to understand some of the limitations of angle coding. It is also acknowledged that designing a data coding strategy capable of solving real-world problems (often with high dimensionality of data features) is both urgent and difficult."
   ]
  },
  {
   "cell_type": "markdown",
   "metadata": {},
   "source": [
    "---\n",
    "## References\n",
    "\n",
    "[1] Schuld, M. \"Quantum machine learning models are kernel methods.\" [arXiv preprint arXiv:2101.11020.(2021)](https://arxiv.org/abs/2101.11020)\n",
    "\n",
    "[2] Lloyd, Seth, et al. \"Quantum embeddings for machine learning.\" [arXiv preprint arXiv:2001.03622 (2020).](https://arxiv.org/pdf/2001.03622.pdf)\n",
    "\n",
    "[3] Caro, Matthias C., et al. \"Encoding-dependent generalization bounds for parametrized quantum circuits.\" [Quantum 5 (2021): 582.](https://quantum-journal.org/papers/q-2021-11-17-582/)\n",
    "\n",
    "[4] Leonardo Banchi, et al. \"Generalization in quantum machine learning: A quantum information standpoint.\" [PRX Quantum 2.4 (2021): 040321.](https://journals.aps.org/prxquantum/abstract/10.1103/PRXQuantum.2.040321)\n",
    "\n",
    "[5] Li, Guangxi, et al. \"Concentration of Data Encoding in Parameterized Quantum Circuits.\" [arXiv preprint arXiv:2206.08273 (2022).](https://arxiv.org/pdf/2206.08273.pdf)\n"
   ]
  }
 ],
 "metadata": {
  "kernelspec": {
   "display_name": "Python 3.8.13 ('new_pq')",
   "language": "python",
   "name": "python3"
  },
  "language_info": {
   "codemirror_mode": {
    "name": "ipython",
    "version": 3
   },
   "file_extension": ".py",
   "mimetype": "text/x-python",
   "name": "python",
   "nbconvert_exporter": "python",
   "pygments_lexer": "ipython3",
   "version": "3.8.13"
  },
  "vscode": {
   "interpreter": {
    "hash": "58b83104798ee1b81625bc6249d4d66f2bacd4a7d411a9b7a27bac0b4765adf2"
   }
  }
 },
 "nbformat": 4,
 "nbformat_minor": 2
}
