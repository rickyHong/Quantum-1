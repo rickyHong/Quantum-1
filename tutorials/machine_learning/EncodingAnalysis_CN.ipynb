{
 "cells": [
  {
   "cell_type": "markdown",
   "metadata": {},
   "source": [
    "# 数据编码分析\n",
    "\n",
    "*Copyright (c) 2022 Institute for Quantum Computing, Baidu Inc. All Rights Reserved.*"
   ]
  },
  {
   "cell_type": "markdown",
   "metadata": {},
   "source": [
    "## 概览\n",
    "\n",
    "目前很多研究表明变分量子算法（Variational Quantum Algorithms, VQA）有望在近期量子设备上展现出量子优势，其中备受关注的是用其解决监督学习任务。VQA 通常也被称为参数化量子电路 （Parameterized Quantum Circuit, PQC），在本教程中将其分为数据编码电路和量子神经网络两部分。数据编码电路将经典信息编码为量子态。编码后量子态的质量直接影响了后续的分类效果。从核函数的角度分析数据编码，不同的编码方式就对应不同的核函数，其对量子态的分类起着决定性作用 [1,2]。从统计学习理论的角度考察数据编码，它通常决定了算法的表达能力和泛化能力 [3,4]。 因此，我们有必要对数据编码方式进行系统的分析。最近文献 [5] 得到了一些进展，从量子信息的角度严格的分析了数据编码电路的宽度和深度对编码后量子态的影响。\n",
    "\n",
    "接下来本教程围绕文献 [5] 展开，主要分为原理和 Paddle Quantum 实现两部分：先介绍基本概念与主要结论，然后给出具体的实现方案。"
   ]
  },
  {
   "cell_type": "markdown",
   "metadata": {},
   "source": [
    "## 原理"
   ]
  },
  {
   "cell_type": "markdown",
   "metadata": {},
   "source": [
    "### 基本概念\n",
    "\n",
    "图 1 是将经典数据编码为量子态的流程图。假设经典数据是分布 $D$ 的独立同分布采样，每个经典数据为 $\\pmb x$, 通过数据编码电路后变成了量子态 $\\rho(\\pmb x)$。这里引入分布 $D$ 上的**平均量子态**的概念，即 \n",
    "\n",
    "$$\n",
    "\\bar{\\rho}:=\\mathbf{E}[\\rho(\\pmb x)]. \\tag{1}\n",
    "$$\n",
    "\n",
    "在给定 $M$ 条数据组成的经典数据集 $S$ 时，我们通常使用平均值 \n",
    "\n",
    "$$\n",
    "\\bar{\\rho}:=\\frac{1}{M}\\sum_{j=1}^M\\rho(\\pmb x_j) \\tag{2}\n",
    "$$ \n",
    "\n",
    "近似 $S$ 的平均量子态。\n",
    "\n",
    "![illustration](figures/EncodingAnalysis-fig-illustration.png  \"图 1：经典数据编码为量子态的流程图。\")\n",
    "\n",
    "有很多方法可以衡量量子态之间的距离，常用的有迹距离、保真度、**Petz-Rényi 散度**等等。在本教程中使用 Petz-Rényi 散度作为不同量子态之间距离的度量。具体的，量子态 $\\rho_0$ 和 $\\rho_1$ 的Petz-Rényi 散度定义为\n",
    "\n",
    "$$\n",
    "D_2(\\rho_0||\\rho_1)=logTr[\\rho_0^2\\rho_1^{-1}]. \\tag{3}\n",
    "$$\n",
    "\n",
    "$D_2$ 的取值越小表示两个量子态越接近。"
   ]
  },
  {
   "cell_type": "markdown",
   "metadata": {},
   "source": [
    "### 主要结论\n",
    "\n",
    "接下来我们借助 Petz-Rényi 散度这一度量工具考察编码后的平均量子态与最大混合态之间的距离。不难想到这个距离应该与经典数据集本身的性质和数据编码方式有关。具体的，假设经典数据集的每个特征维度满足一定的独立性且标准差至少为 $\\sigma$, 那么对于如图 2 所示的编码电路（宽度和深度分别为 $n$ 和 $D$）有如下不等式成立\n",
    "\n",
    "$$\n",
    "D_2(\\bar{\\rho}||I/2^n)\\leq log(1+(2^n-1)2^{-D\\sigma^2}), \\tag{4}\n",
    "$$\n",
    "\n",
    "其中 $I/2^n$ 为 $n$ 比特的最大混合态，$I$ 为单位矩阵。\n",
    "\n",
    "![encoding-u3](figures/EncodingAnalysis-fig-u3_circuit.png  \"图 2：更一般的数据编码电路。其中 Etg 表示控制非门和 CZ 门的任意组合。\")\n",
    "\n",
    "更严格的定理描述和证明可以参考文献 [5]，在本教程中我们主要体会这一结论意味着什么以及有那些启发：\n",
    "\n",
    "* 上述结论意味着随着电路深度增加，编码后的平均量子态以指数的速度趋向于最大混合态。例如一个二分类的数据集，0类和1类的平均量子态最终都趋向于最大混合态，那么从量子信息的角度看将无法区分这两类的平均量子态，也即从平均意义下无法区分经典数据特征。\n",
    "\n",
    "* 当经典数据特征维度很高时（例如图片数据）使用角度编码可能不是一个合适的选择，因为这很容易导致很深的数据编码电路，而加宽电路又会遇到贫瘠高原问题，这严重限制了 VQA 的能力。因此经典数据在输入给电路之前需要对其做一些降维操作。"
   ]
  },
  {
   "cell_type": "markdown",
   "metadata": {},
   "source": [
    "## Paddle Quantum 实现 \n",
    "\n",
    "这一节中主要使用 Paddle Quantum 在 MNIST 数据集上完成两个实验：\n",
    "- 考察平均量子态和最大混合态之间的 Petz-Rényi 散度随着数据编码电路的深度的变化趋势；\n",
    "- 考察随着数据编码电路的加深分类准确率的变化。"
   ]
  },
  {
   "cell_type": "markdown",
   "metadata": {},
   "source": [
    "### 首先导入相关的包"
   ]
  },
  {
   "cell_type": "code",
   "execution_count": 2,
   "metadata": {},
   "outputs": [],
   "source": [
    "# 导入 numpy、paddle 和 paddle_quantum\n",
    "import numpy as np\n",
    "import paddle\n",
    "import paddle_quantum\n",
    "\n",
    "# 构建量子电路\n",
    "from paddle_quantum.ansatz import Circuit\n",
    "\n",
    "# 一些用到的函数\n",
    "from numpy import pi as PI\n",
    "from paddle import matmul, transpose, reshape, real, argmax, cast, mean, concat, real\n",
    "from paddle_quantum.qinfo import pauli_str_to_matrix \n",
    "from paddle_quantum.linalg import dagger\n",
    "import paddle.nn.functional as F\n",
    "\n",
    "# 数据集工具包\n",
    "from paddle_quantum.dataset import MNIST\n",
    "\n",
    "# 作图与计算时间\n",
    "from matplotlib import pyplot as plt\n",
    "from pylab import axes\n",
    "import time"
   ]
  },
  {
   "cell_type": "markdown",
   "metadata": {},
   "source": [
    "### 参数化量子电路\n",
    "\n",
    "![encoding-ry](figures/EncodingAnalysis-fig-ry_circuit.png \"图 3：参数化量子电路。\")\n",
    "\n",
    "图 3 中左侧红色框为数据编码电路，是图 2 的一个特例，右侧蓝色框为量子神经网络。其中数据编码电路由 $R_y$ 旋转门和控制非门组成，具体的电路深度 $D$ 由数据的特征维度决定。例如在本教程中将使用 MNIST 数据集，由于图片被降采样为 16 维的特征向量，因此在设计实验时选择量子比特数为 8、6、4、3、2 ，则默认情况下对应的电路深度为 2、3、4、6、8, 大于 16 维的位置用 0 填充，即作用 $R_y(0)$. 量子神经网络部分由单比特的通用门 $U3$ 和控制非门构成。具体的电路深度 $L$ 可以自由设置。"
   ]
  },
  {
   "cell_type": "markdown",
   "metadata": {},
   "source": [
    "### 将经典数据编码为量子态\n",
    "\n",
    "这里需要量桨提供的数据集处理工具 `dataset`。使用图 2 所示的数据编码电路将 MNIST 数据中的经典数据编码为量子态并保存起来，以便将其输入给量子神经网络进行训练。"
   ]
  },
  {
   "cell_type": "code",
   "execution_count": 4,
   "metadata": {},
   "outputs": [],
   "source": [
    "train_data, test_data = [], []\n",
    "\n",
    "# 二分类的手写数字类别\n",
    "classes = [3,6]\n",
    "\n",
    "training_data_num = 1000\n",
    "testing_data_num = 200\n",
    "qubit_num_list = [8, 6, 4, 3, 2]\n",
    "\n",
    "# 使用不同的宽度和深度的电路编码经典数据并保存下来\n",
    "for qubit_num in qubit_num_list:\n",
    "    \n",
    "    # 训练数据集\n",
    "    train_dataset = MNIST(mode='train', encoding='real_entangled_encoding', num_qubits=qubit_num,\n",
    "                          classes=classes,\n",
    "                          data_num=training_data_num,\n",
    "                          downscaling_method='resize', target_dimension=16,\n",
    "                          need_relabel=True, return_state=True)\n",
    "\n",
    "    # 验证数据集\n",
    "    val_dataset = MNIST(mode='test', encoding='real_entangled_encoding', num_qubits=qubit_num,\n",
    "                        classes=classes,\n",
    "                        data_num=testing_data_num,\n",
    "                        downscaling_method='resize', target_dimension=16,\n",
    "                        need_relabel=True, return_state=True)\n",
    "\n",
    "    # 获取数据集的输入和标签\n",
    "    train_x, train_y = train_dataset.quantum_image_states, train_dataset.labels\n",
    "    test_x, test_y = val_dataset.quantum_image_states, val_dataset.labels\n",
    "    train_data.append((train_x, train_y))\n",
    "    test_data.append((test_x, test_y))"
   ]
  },
  {
   "cell_type": "code",
   "execution_count": 5,
   "metadata": {},
   "outputs": [
    {
     "name": "stdout",
     "output_type": "stream",
     "text": [
      "[1000, 256]\n",
      "(1000,)\n",
      "[200, 256]\n",
      "(200,)\n"
     ]
    }
   ],
   "source": [
    "print(train_data[0][0].shape)\n",
    "print(train_data[0][1].shape)\n",
    "print(test_data[0][0].shape)\n",
    "print(test_data[0][1].shape)"
   ]
  },
  {
   "cell_type": "markdown",
   "metadata": {},
   "source": [
    "### 构建量子神经网络"
   ]
  },
  {
   "cell_type": "code",
   "execution_count": 6,
   "metadata": {},
   "outputs": [],
   "source": [
    "# 搭建整个优化流程图\n",
    "class Net(paddle.nn.Layer):\n",
    "    \"\"\"\n",
    "    创建模型训练网络\n",
    "    \"\"\"\n",
    "    def __init__(self, n, depth):\n",
    "        # 初始化部分，通过n, depth给出初始电路\n",
    "        super(Net, self).__init__()\n",
    "        self.n = n\n",
    "        self.depth = depth\n",
    "        \n",
    "        self.circuit = Circuit(n)\n",
    "        # 先搭建广义的旋转层\n",
    "        for i in range(n):\n",
    "            self.circuit.rz(qubits_idx=i)\n",
    "            self.circuit.ry(qubits_idx=i)\n",
    "            self.circuit.rz(qubits_idx=i)\n",
    "\n",
    "        # 默认深度为 depth = 1\n",
    "        # 对每一层搭建电路\n",
    "        for d in range(3, depth + 3):\n",
    "            # 搭建纠缠层\n",
    "            for i in range(n-1):\n",
    "                self.circuit.cnot(qubits_idx=[i, i + 1])\n",
    "            self.circuit.cnot(qubits_idx=[n-1, 0])\n",
    "            # 对每一个量子比特搭建Ry\n",
    "            for i in range(n):\n",
    "                self.circuit.ry(qubits_idx=i)\n",
    "\n",
    "    # 定义前向传播机制、计算损失函数 和交叉验证正确率\n",
    "    def forward(self, state_in, label):\n",
    "        \"\"\"\n",
    "        输入：state_in：输入量子态，shape: [-1, 1, 2^n] -- 此教程中为[BATCH, 1, 2^n]\n",
    "             label：输入量子态对应标签，shape: [-1, 1]\n",
    "        计算损失函数：交叉熵损失函数\n",
    "        \"\"\"\n",
    "        # 按照随机初始化的参数 theta \n",
    "        Utheta = self.circuit.unitary_matrix()\n",
    "\n",
    "        # 因为 Utheta是学习到的，我们这里用行向量运算来提速而不会影响训练效果\n",
    "        state_out = matmul(state_in, Utheta)  # 维度 [-1, 1, 2 ** n]\n",
    "\n",
    "        # 测量得到泡利 Z 算符的期望值 <Z>\n",
    "        Ob1 = paddle.to_tensor(pauli_str_to_matrix([[1.0, 'z0']], self.n))\n",
    "        E_Ob1 = matmul(matmul(state_out, Ob1), transpose(paddle.conj(state_out), perm=[0, 2, 1]))\n",
    "        E_Ob1_re = reshape(real(E_Ob1), [-1, 1])\n",
    "\n",
    "        Ob2 = paddle.to_tensor(pauli_str_to_matrix([[1.0, 'x0']], self.n))\n",
    "        E_Ob2 = matmul(matmul(state_out, Ob2), transpose(paddle.conj(state_out), perm=[0, 2, 1]))\n",
    "        E_Ob2_re = reshape(real(E_Ob2), [-1, 1])\n",
    "\n",
    "        outputs = concat([E_Ob1_re, E_Ob2_re], axis=-1)\n",
    "\n",
    "        # 计算损失函数和准确率\n",
    "        loss = F.cross_entropy(outputs, label)\n",
    "        # validation accuracy\n",
    "        acc = mean(cast(argmax(outputs, axis=-1) == label, \"float32\"))\n",
    "        \n",
    "        return loss, acc"
   ]
  },
  {
   "cell_type": "code",
   "execution_count": 7,
   "metadata": {},
   "outputs": [],
   "source": [
    "# 定义一个分类器\n",
    "def QClassifier(train_x, train_y, test_x, test_y, N, D, EPOCH, LR, BATCH, seed=0):\n",
    "    \"\"\"\n",
    "    量子二分类器\n",
    "    \"\"\"\n",
    "    train_y = paddle.to_tensor(train_y, dtype=\"int64\")\n",
    "    test_y = paddle.to_tensor(test_y, dtype=\"int64\")\n",
    "\n",
    "    N_train, in_dim = train_x.shape\n",
    "    \n",
    "    # 定义优化图,Net是用户定义的量子神经网络\n",
    "    paddle.seed(0)\n",
    "    net = Net(n=N, depth=D)\n",
    "\n",
    "    # 一般来说，我们利用Adam优化器来获得相对好的收敛\n",
    "    # 当然你可以改成SGD或者是RMSprop\n",
    "    opt = paddle.optimizer.Adam(learning_rate=LR, parameters=net.parameters())\n",
    "\n",
    "    # 优化循环\n",
    "    for ep in range(EPOCH):\n",
    "        for itr in range(N_train // BATCH):\n",
    "            input_state = train_x[itr * BATCH:(itr + 1) * BATCH]\n",
    "            input_state = reshape(input_state, [-1, 1, 2 ** N])\n",
    "            label = train_y[itr * BATCH:(itr + 1) * BATCH]\n",
    "\n",
    "            test_input_state = reshape(test_x, [-1, 1, 2 ** N])\n",
    "\n",
    "            # 前向传播计算损失函数\n",
    "            train_loss, train_acc = net(state_in=input_state, label=label)\n",
    "\n",
    "            if itr % 3 == 0:\n",
    "                # 计算测试集上的正确率\n",
    "                loss_useless, test_acc = net(state_in=test_input_state, label=test_y)\n",
    "                print(\"epoch:\", ep, \"iter:\", itr,\n",
    "                      \"train loss: %.4f\" % train_loss.numpy(),\n",
    "                      \"train acc: %.4f\" % train_acc,\n",
    "                      \"test acc: %.4f\" % test_acc)\n",
    "\n",
    "            # 反向传播极小化损失函数\n",
    "            train_loss.backward()\n",
    "            opt.minimize(train_loss)\n",
    "            opt.clear_grad()\n",
    "    \n",
    "    # 返回测试集的分类准确率\n",
    "    _, test_acc = net(state_in=test_input_state, label=test_y) \n",
    "    \n",
    "    return test_acc.numpy()"
   ]
  },
  {
   "cell_type": "code",
   "execution_count": 8,
   "metadata": {},
   "outputs": [
    {
     "name": "stdout",
     "output_type": "stream",
     "text": [
      "***************************** qubit num : 8 *****************************\n",
      "epoch: 0 iter: 0 train loss: 0.6913 train acc: 0.5200 test acc: 0.4250\n",
      "epoch: 0 iter: 3 train loss: 0.6836 train acc: 0.6500 test acc: 0.5200\n",
      "epoch: 1 iter: 0 train loss: 0.6759 train acc: 0.6850 test acc: 0.5550\n",
      "epoch: 1 iter: 3 train loss: 0.6709 train acc: 0.6950 test acc: 0.5650\n",
      "epoch: 2 iter: 0 train loss: 0.6651 train acc: 0.6650 test acc: 0.5700\n",
      "epoch: 2 iter: 3 train loss: 0.6621 train acc: 0.7050 test acc: 0.6050\n",
      "epoch: 3 iter: 0 train loss: 0.6589 train acc: 0.6900 test acc: 0.6000\n",
      "epoch: 3 iter: 3 train loss: 0.6597 train acc: 0.7050 test acc: 0.6250\n",
      "epoch: 4 iter: 0 train loss: 0.6563 train acc: 0.7150 test acc: 0.6550\n",
      "epoch: 4 iter: 3 train loss: 0.6566 train acc: 0.7250 test acc: 0.6700\n",
      "***************************** qubit num : 6 *****************************\n",
      "epoch: 0 iter: 0 train loss: 0.6966 train acc: 0.4900 test acc: 0.5250\n",
      "epoch: 0 iter: 3 train loss: 0.6938 train acc: 0.4850 test acc: 0.5450\n",
      "epoch: 1 iter: 0 train loss: 0.6884 train acc: 0.5350 test acc: 0.5450\n",
      "epoch: 1 iter: 3 train loss: 0.6862 train acc: 0.5400 test acc: 0.5700\n",
      "epoch: 2 iter: 0 train loss: 0.6775 train acc: 0.5750 test acc: 0.5850\n",
      "epoch: 2 iter: 3 train loss: 0.6744 train acc: 0.6100 test acc: 0.6000\n",
      "epoch: 3 iter: 0 train loss: 0.6642 train acc: 0.6350 test acc: 0.5950\n",
      "epoch: 3 iter: 3 train loss: 0.6615 train acc: 0.6450 test acc: 0.6200\n",
      "epoch: 4 iter: 0 train loss: 0.6526 train acc: 0.6900 test acc: 0.6300\n",
      "epoch: 4 iter: 3 train loss: 0.6560 train acc: 0.6250 test acc: 0.6350\n",
      "***************************** qubit num : 4 *****************************\n",
      "epoch: 0 iter: 0 train loss: 0.7081 train acc: 0.4650 test acc: 0.5350\n",
      "epoch: 0 iter: 3 train loss: 0.6994 train acc: 0.4950 test acc: 0.5900\n",
      "epoch: 1 iter: 0 train loss: 0.6902 train acc: 0.5450 test acc: 0.5750\n",
      "epoch: 1 iter: 3 train loss: 0.6942 train acc: 0.5150 test acc: 0.5800\n",
      "epoch: 2 iter: 0 train loss: 0.6869 train acc: 0.6100 test acc: 0.5850\n",
      "epoch: 2 iter: 3 train loss: 0.6923 train acc: 0.5150 test acc: 0.6000\n",
      "epoch: 3 iter: 0 train loss: 0.6825 train acc: 0.5700 test acc: 0.6050\n",
      "epoch: 3 iter: 3 train loss: 0.6917 train acc: 0.5200 test acc: 0.5950\n",
      "epoch: 4 iter: 0 train loss: 0.6776 train acc: 0.5850 test acc: 0.5800\n",
      "epoch: 4 iter: 3 train loss: 0.6901 train acc: 0.5450 test acc: 0.6050\n",
      "***************************** qubit num : 3 *****************************\n",
      "epoch: 0 iter: 0 train loss: 0.7104 train acc: 0.4550 test acc: 0.5000\n",
      "epoch: 0 iter: 3 train loss: 0.6931 train acc: 0.4950 test acc: 0.4900\n",
      "epoch: 1 iter: 0 train loss: 0.6928 train acc: 0.4600 test acc: 0.4700\n",
      "epoch: 1 iter: 3 train loss: 0.6968 train acc: 0.4800 test acc: 0.4800\n",
      "epoch: 2 iter: 0 train loss: 0.6964 train acc: 0.5100 test acc: 0.4750\n",
      "epoch: 2 iter: 3 train loss: 0.7004 train acc: 0.5150 test acc: 0.4600\n",
      "epoch: 3 iter: 0 train loss: 0.6961 train acc: 0.5050 test acc: 0.4800\n",
      "epoch: 3 iter: 3 train loss: 0.6957 train acc: 0.5300 test acc: 0.4850\n",
      "epoch: 4 iter: 0 train loss: 0.6938 train acc: 0.5250 test acc: 0.5150\n",
      "epoch: 4 iter: 3 train loss: 0.6919 train acc: 0.5150 test acc: 0.5250\n",
      "***************************** qubit num : 2 *****************************\n",
      "epoch: 0 iter: 0 train loss: 0.7031 train acc: 0.5450 test acc: 0.4800\n",
      "epoch: 0 iter: 3 train loss: 0.6960 train acc: 0.5350 test acc: 0.4550\n",
      "epoch: 1 iter: 0 train loss: 0.6932 train acc: 0.5100 test acc: 0.5100\n",
      "epoch: 1 iter: 3 train loss: 0.6930 train acc: 0.5250 test acc: 0.5200\n",
      "epoch: 2 iter: 0 train loss: 0.6930 train acc: 0.5150 test acc: 0.4750\n",
      "epoch: 2 iter: 3 train loss: 0.6933 train acc: 0.5050 test acc: 0.4600\n",
      "epoch: 3 iter: 0 train loss: 0.6925 train acc: 0.5400 test acc: 0.4600\n",
      "epoch: 3 iter: 3 train loss: 0.6909 train acc: 0.5350 test acc: 0.4700\n",
      "epoch: 4 iter: 0 train loss: 0.6939 train acc: 0.5450 test acc: 0.4750\n",
      "epoch: 4 iter: 3 train loss: 0.6853 train acc: 0.5600 test acc: 0.4750\n",
      "主程序段总共运行了 125.62448906898499 秒\n"
     ]
    }
   ],
   "source": [
    "time_start = time.time()\n",
    "\n",
    "acc_list = []\n",
    "\n",
    "for i in range(5):\n",
    "    print('***************************** qubit num : %s *****************************'%qubit_num_list[i])\n",
    "    train_x, train_y = train_data[i]\n",
    "    test_x, test_y = test_data[i]\n",
    "\n",
    "    acc = QClassifier(\n",
    "        train_x,\n",
    "        train_y,\n",
    "        test_x,\n",
    "        test_y,\n",
    "        N=qubit_num_list[i],      # 所需的量子比特数量\n",
    "        D=qubit_num_list[i] + 2,  # 采用的电路深度\n",
    "        EPOCH=5,                  # 训练 epoch 轮数\n",
    "        LR=0.05,                  # 设置学习速率\n",
    "        BATCH=200,                # 训练时 batch 的大小\n",
    "        seed=0\n",
    "    )\n",
    "    acc_list.append(acc)      \n",
    "\n",
    "time_span = time.time() - time_start\n",
    "print('主程序段总共运行了', time_span, '秒')"
   ]
  },
  {
   "cell_type": "markdown",
   "metadata": {},
   "source": [
    "### 考察平均量子态与最大混合态的 Petz-Rényi 散度"
   ]
  },
  {
   "cell_type": "code",
   "execution_count": 9,
   "metadata": {},
   "outputs": [
    {
     "name": "stdout",
     "output_type": "stream",
     "text": [
      "[1.9842463368536747, 0.5256437464833253, 0.1964853652901484, 0.05162865627740749, 0.022790754263846934]\n",
      "[1.8628793706046225, 0.6064395532199834, 0.1529884926031612, 0.04173701231534178, 0.009023512622560221]\n"
     ]
    },
    {
     "data": {
      "image/png": "[encoded data removed]",
      "text/plain": [
       "<Figure size 432x288 with 1 Axes>"
      ]
     },
     "metadata": {
      "needs_background": "light"
     },
     "output_type": "display_data"
    }
   ],
   "source": [
    "fig = plt.figure(1)\n",
    "ax = axes([0.15, 0.15, 0.8, 0.8])\n",
    "\n",
    "\n",
    "def average_encode_state(train_x):\n",
    "    d1, d2 = train_x.shape\n",
    "    density_matrices = np.reshape(train_x, [d1, d2, 1]) @ np.reshape(np.conj(train_x), [d1, 1, d2])\n",
    "    return np.mean(density_matrices, axis=0)\n",
    "\n",
    "\n",
    "depth_list = [2, 3, 4, 6, 8]\n",
    "\n",
    "Q_2Renyi_D3_list = []\n",
    "Q_2Renyi_D6_list = []\n",
    "\n",
    "for i,q in enumerate(qubit_num_list):\n",
    "    train_x, train_y = train_data[i]\n",
    "    train_x = train_x.numpy()\n",
    "    \n",
    "    train_x0 = train_x[train_y == 0]\n",
    "    train_x1 = train_x[train_y == 1]\n",
    "    average_state0 = average_encode_state(train_x0.real)\n",
    "    average_state1 = average_encode_state(train_x1.real)\n",
    "#     print(average_state)\n",
    "    Q_2Renyi_D3 = np.log2(np.trace(average_state0 @ average_state0) * 2 ** q)\n",
    "    Q_2Renyi_D6 = np.log2(np.trace(average_state1 @ average_state1) * 2 ** q)\n",
    "#     bound = np.sum(np.sqrt(S0)) ** 2 / 2 ** num_qubits\n",
    "    Q_2Renyi_D3_list.append(Q_2Renyi_D3)\n",
    "    Q_2Renyi_D6_list.append(Q_2Renyi_D6)\n",
    "\n",
    "print(Q_2Renyi_D3_list)\n",
    "print(Q_2Renyi_D6_list)\n",
    "\n",
    "\n",
    "func3, = ax.plot(depth_list, Q_2Renyi_D3_list, linewidth=1.5,\n",
    "                 marker=\"<\",\n",
    "                 linestyle=\":\",\n",
    "                 color=\"r\"\n",
    "                 )\n",
    "\n",
    "func6, = ax.plot(depth_list, Q_2Renyi_D6_list, linewidth=1.5,\n",
    "                 marker=\"o\",\n",
    "                 linestyle=\"-.\",\n",
    "                 color=\"g\"\n",
    "                 )\n",
    "\n",
    "plt.xticks(fontsize=22)\n",
    "plt.yticks(fontsize=22)\n",
    "\n",
    "plt.xlabel(\"Depth\", fontsize=22)\n",
    "plt.ylabel(r\"$D_2(\\overline{\\rho} || I/2^n)$\", fontsize=22)\n",
    "ax.semilogy()\n",
    "ax.legend(handles=[func3, func6],\n",
    "          labels=[\"Digit 3\", \"Digit 6\"],\n",
    "          loc=\"best\",\n",
    "          fontsize=18)\n",
    "ax.grid(axis=\"y\")\n",
    "plt.show()"
   ]
  },
  {
   "cell_type": "markdown",
   "metadata": {},
   "source": [
    "### 考察分类准确率受到的影响"
   ]
  },
  {
   "cell_type": "code",
   "execution_count": 10,
   "metadata": {},
   "outputs": [
    {
     "name": "stdout",
     "output_type": "stream",
     "text": [
      "[array([0.675], dtype=float32), array([0.61], dtype=float32), array([0.585], dtype=float32), array([0.535], dtype=float32), array([0.475], dtype=float32)]\n"
     ]
    },
    {
     "data": {
      "image/png": "[encoded data removed]",
      "text/plain": [
       "<Figure size 432x288 with 1 Axes>"
      ]
     },
     "metadata": {
      "needs_background": "light"
     },
     "output_type": "display_data"
    }
   ],
   "source": [
    "print(acc_list)\n",
    "\n",
    "fig = plt.figure(1)\n",
    "ax = axes([0.15, 0.15, 0.8, 0.8])\n",
    "\n",
    "func36_acc, = ax.plot(depth_list, acc_list, linewidth=1.5,\n",
    "                      marker=\"*\",\n",
    "                      linestyle=\"--\",\n",
    "                      color=\"b\"\n",
    "                      )\n",
    "\n",
    "plt.xticks(fontsize=22)\n",
    "plt.yticks(fontsize=22)\n",
    "plt.ylim(0.48, 0.75)\n",
    "plt.xlabel(\"Depth\", fontsize=22)\n",
    "plt.ylabel(r\"Test Accuracy\", fontsize=22)\n",
    "ax.legend(handles=[func36_acc,],\n",
    "          labels=[\"classifying 3 and 6\"],\n",
    "          loc=\"best\", fontsize=22)\n",
    "ax.grid(axis=\"y\")\n",
    "plt.show()"
   ]
  },
  {
   "cell_type": "markdown",
   "metadata": {},
   "source": [
    "## 总结\n",
    "\n",
    "从实验结果上看每个类别的平均量子态确实随着数据编码电路的加深以指数的速度趋向于最大混合态，从而导致了最终量子神经网络分类准确率下降。在文献 [5] 的帮助下我们逐渐清楚了角度编码存在的一些局限性，同时也体会到了设计一种能够解决实际问题的（通常数据特征维度很高）数据编码策略是迫切需要的，当然也极富挑战性。"
   ]
  },
  {
   "cell_type": "markdown",
   "metadata": {},
   "source": [
    "---\n",
    "## 参考文献\n",
    "\n",
    "[1] Schuld, M. \"Quantum machine learning models are kernel methods.\" [arXiv preprint arXiv:2101.11020.(2021)](https://arxiv.org/abs/2101.11020)\n",
    "\n",
    "[2] Lloyd, Seth, et al. \"Quantum embeddings for machine learning.\" [arXiv preprint arXiv:2001.03622 (2020).](https://arxiv.org/pdf/2001.03622.pdf)\n",
    "\n",
    "[3] Caro, Matthias C., et al. \"Encoding-dependent generalization bounds for parametrized quantum circuits.\" [Quantum 5 (2021): 582.](https://quantum-journal.org/papers/q-2021-11-17-582/)\n",
    "\n",
    "[4] Leonardo Banchi, et al. \"Generalization in quantum machine learning: A quantum information standpoint.\" [PRX Quantum 2.4 (2021): 040321.](https://journals.aps.org/prxquantum/abstract/10.1103/PRXQuantum.2.040321)\n",
    "\n",
    "[5] Li, Guangxi, et al. \"Concentration of Data Encoding in Parameterized Quantum Circuits.\" [arXiv preprint arXiv:2206.08273 (2022).](https://arxiv.org/pdf/2206.08273.pdf)\n"
   ]
  }
 ],
 "metadata": {
  "kernelspec": {
   "display_name": "Python 3.8.13 ('new_pq_dev')",
   "language": "python",
   "name": "python3"
  },
  "language_info": {
   "codemirror_mode": {
    "name": "ipython",
    "version": 3
   },
   "file_extension": ".py",
   "mimetype": "text/x-python",
   "name": "python",
   "nbconvert_exporter": "python",
   "pygments_lexer": "ipython3",
   "version": "3.8.13"
  },
  "vscode": {
   "interpreter": {
    "hash": "ea8ffbee42045ec282b7cb9811c8c332764b47a134b1aefa35055ac6f62b46f4"
   }
  }
 },
 "nbformat": 4,
 "nbformat_minor": 2
}
