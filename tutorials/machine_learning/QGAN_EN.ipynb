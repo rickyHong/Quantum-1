{
 "cells": [
  {
   "cell_type": "markdown",
   "metadata": {},
   "source": [
    "# Quantum Generative Adversarial Network"
   ]
  },
  {
   "cell_type": "markdown",
   "metadata": {},
   "source": [
    "<em> Copyright (c) 2021 Institute for Quantum Computing, Baidu Inc. All Rights Reserved. </em>"
   ]
  },
  {
   "cell_type": "markdown",
   "metadata": {},
   "source": [
    "## Classical Generative Adversarial Network"
   ]
  },
  {
   "cell_type": "markdown",
   "metadata": {},
   "source": [
    "### Introduction to Generative Adversarial Network"
   ]
  },
  {
   "cell_type": "markdown",
   "metadata": {},
   "source": [
    "Generative Adversarial Network (GAN) is a generative model, which is a breakthrough in deep learning in recent years [1]. It contains two parts: the generator $G$ and the discriminator $D$. The generator accepts a random noise signal and uses it as input to generate the data we expect. The discriminator evaluates the received data $x$ and outputs a probability $P(x)$ that the data $x$ is real."
   ]
  },
  {
   "cell_type": "markdown",
   "metadata": {},
   "source": [
    "### Nash Equilibrium"
   ]
  },
  {
   "cell_type": "markdown",
   "metadata": {},
   "source": [
    "Here we use the idea of Nash equilibrium to discuss the convergence problem of GAN.\n",
    "\n",
    "Nash equilibrium refers to a non-cooperative game involving two or more participants, assuming that each participant knows other participants' equilibrium strategies. No participant can change one's strategy to benefit. In the game theory, if each participant chooses his strategy, and no player can benefit by changing the strategy while other participants remain the same, then the current set of strategy choices and their corresponding results constitute Nash Equilibrium.\n",
    "\n",
    "We can regard the training process of GAN as a game process between generator and discriminator. No matter what the generator's strategy is, the best strategy of the discriminator is to try to distinguish the real data and the generated data. And regardless of the strategy of the discriminator, the best strategy for the generator is to make the discriminator unable to distinguish. This game is a zero-sum game, which is one of non-cooperative game. That is, one party gains while the other party must lose. Therefore, there exists the Nash equilibrium strategy in the game between the generator and the discriminator. When there are enough samples of real data and the learning ability of both parties is strong enough, a Nash equilibrium point will eventually be reached. **The generator has the ability to generate real data, and the discriminator can no longer distinguish between generated data and real data.** \n",
    "\n",
    "GAN adopts the idea of Nash equilibrium. In GAN, the generator and the discriminator are playing a non-cooperative game. No matter what strategies the generator adopts, the best strategy of the discriminator is to discriminate as much as possible; and no matter what strategies the discriminator adopts, the best strategy of the generator is to make the discriminator unable to discriminate as much as possible. Therefore, the two parties' strategic combination in the game and the corresponding results constitute the Nash equilibrium. **When the Nash equilibrium is reached, the generator can to generate real data, and the discriminator cannot distinguish between the generated data and the real data**."
   ]
  },
  {
   "cell_type": "markdown",
   "metadata": {},
   "source": [
    "### Optimization goal"
   ]
  },
  {
   "cell_type": "markdown",
   "metadata": {},
   "source": [
    "In GAN, we want to get an excellent generator (but only an excellent discriminator can accurately determine whether the generator is excellent). Our training's ideal result is that the discriminator cannot identify whether the data comes from real data or generated data.\n",
    "\n",
    "Therefore, our objective function is as follows:\n",
    "\n",
    "$$\n",
    "\\min_{G}\\max_{D} V(G,D)= \\min_{G}\\max_{D}\\mathbb{E}_{x\\sim P_{data}}[\\log D(x)] +\\mathbb{E}_{z\\sim P_{z}}[\\log(1-D(G(z)))]. \\tag{1}\n",
    "$$\n",
    "\n",
    "Here, $G$ represents the parameters of the generator and $D$ represents the parameters of the discriminator. In the actual process, the alternate training method is usually adopted; that is, first fix $G$, train $D$, then fix $D$, train $G$, and repeat. When the two's performance is sufficient, the model will converge, and the two will reach the Nash equilibrium."
   ]
  },
  {
   "cell_type": "markdown",
   "metadata": {},
   "source": [
    "### Advantages"
   ]
  },
  {
   "cell_type": "markdown",
   "metadata": {},
   "source": [
    "- Compared with other generative models, GAN generates better results.\n",
    "- Theoretically, as long as it is a differentiable function, it can be used to build generators and discriminators, so it can be combined with deep neural networks to make deep generative models.\n",
    "- Compared with other generative models, GAN does not rely on prior assumptions, and we do not need to assume the probability distribution and law of the data in advance.\n",
    "- The form of data generated by GAN is also very simple, just forward propagation through the generator."
   ]
  },
  {
   "cell_type": "markdown",
   "metadata": {},
   "source": [
    "### Disadvantages"
   ]
  },
  {
   "cell_type": "markdown",
   "metadata": {},
   "source": [
    "- GAN does not require pre-modeling. Too much freedom makes training difficult to converge and unstable.\n",
    "- GAN has a vanishing gradient problem. In this case, there is no loss in the training of the discriminator, so there is no adequate gradient information to pass back to the generator to optimize itself.\n",
    "- There may be a problem of model collapse in the learning process of GAN. The generator degenerates, always generating the same sample points, and cannot continue learning. The discriminator also points to similar sample points in similar directions, and the model parameters are no longer updated, but the actual effect is feeble."
   ]
  },
  {
   "cell_type": "markdown",
   "metadata": {},
   "source": [
    "## Quantum Generative Adversarial Network"
   ]
  },
  {
   "cell_type": "markdown",
   "metadata": {},
   "source": [
    "The quantum generative adversarial network is similar to the classical one, except that it is no longer used to generate classical data but generate quantum states [2-3]. In practice, if we have a quantum state, it will collapse to a certain eigenstate after observation and cannot be restored to the previous quantum state. Therefore, if we have a method that generates many identical (or similar) quantum states based on the existing target quantum state, it will be very convenient for our experiments.\n",
    "\n",
    "Assuming that our existing target quantum states all come from a mixed state, they belong to the same ensemble, and their density operator is $\\rho$. Then we need to have a generator $G$ whose input is noise data, denoted by the ensemble $\\rho_{z}=\\sum_{i}p_{i}|z_{i}\\rangle\\langle z_ {i}|$. Therefore, we take out a random noise sample $|z_{i}\\rangle$ every time and get the generated quantum state $|x\\rangle=G|z_{i}\\rangle$ after passing through the generator. We expect the generated $| x\\rangle$ that is close to the target quantum state $\\rho$.\n",
    "\n",
    "It is worth noting that for the ensemble of the target state and the ensemble of the noise data mentioned above, we think that there exists a physical device that can generate a quantum state from the ensemble. According to quantum physics, We can get a genuinely random quantum state every time. However, in computer programs, we need to simulate this process.\n",
    "\n",
    "We expect the discriminator to judge whether the quantum state we input is an existing target state or a generated quantum state. This process needs to be given by measurement.\n"
   ]
  },
  {
   "cell_type": "markdown",
   "metadata": {},
   "source": [
    "## A simple example"
   ]
  },
  {
   "cell_type": "markdown",
   "metadata": {},
   "source": [
    "### Problem Description"
   ]
  },
  {
   "cell_type": "markdown",
   "metadata": {},
   "source": [
    "For simplicity, we assume that the existing target quantum state is a pure state, and the input state for the generator is $|0\\rangle$.\n"
   ]
  },
  {
   "cell_type": "markdown",
   "metadata": {},
   "source": [
    "The circuit to prepare the existing target quantum state:\n",
    "![QGAN-fig-target_state](figures/QGAN-fig-target_state.png)"
   ]
  },
  {
   "cell_type": "markdown",
   "metadata": {},
   "source": [
    "The circuit of the generator is:\n",
    "![QGAN-fig-generator](figures/QGAN-fig-generator.png)"
   ]
  },
  {
   "cell_type": "markdown",
   "metadata": {},
   "source": [
    "The circuit of the discriminator is:\n",
    "![QGAN-fig-discriminator](figures/QGAN-fig-discriminator.png)"
   ]
  },
  {
   "cell_type": "markdown",
   "metadata": {},
   "source": [
    "By measuring the quantum state output by the discriminator, we can get the probability of judging the target state as the target state $P_{T}$ and the probability of judging the generated state as the target state $P_{G}$."
   ]
  },
  {
   "cell_type": "markdown",
   "metadata": {},
   "source": [
    "### Specific process"
   ]
  },
  {
   "attachments": {},
   "cell_type": "markdown",
   "metadata": {},
   "source": [
    "Assuming that the existing target quantum state is $|\\psi\\rangle$, the quantum state generated by the generator is $|x\\rangle=G|00\\rangle$ (the generator uses a two-qubit circuit, of which the 0th qubit is a generated quantum state).\n",
    "\n",
    "The discriminator discriminates the data and obtains the quantum state $|\\phi\\rangle$ when the input is the target state, $|\\phi\\rangle=D(|\\psi\\rangle\\otimes |00\\rangle)$; When the input is generated state, $|\\phi\\rangle=D(G\\otimes I)|000\\rangle$.\n",
    "\n",
    "For the quantum state obtained by the discriminator, we also need to use the Pauli Z gate to measure the third qubit so as to obtain the judgment result of the input quantum state by the discriminator (that is, the probability that the discriminator thinks the input is the target state). First there is $M_{z}=I\\otimes I\\otimes\\sigma_{z}$, and the measurement result is $\\text{disc}_\\text{output}=\\langle\\phi|M_{z}|\\phi\\rangle$, so the probability of the measurement that the result is the target state is $P=(\\text{disc}_\\text{output}+1)/2$.\n",
    "\n",
    "We define the loss function of the discriminator as $\\mathcal{L}_{D}=P_{G}(\\text{gen}_\\theta, \\text{disc}_\\phi)-P_{T}(\\text{disc}_\\phi)$, The loss function of the generator is $\\mathcal{L}_{G}=-P_{G}(\\text{gen}_\\theta, \\text{disc}_\\phi)$. Here, $P_{G}$ and $P_{T}$ are the expressions of $P=(\\text{disc}_\\text{output}+1)/2$, when the input quantum state is the generated state and the target state, respectively. gen\\_theta and disc\\_phi are the parameters of the generator and discriminator circuits.\n",
    "\n",
    "So we only need to optimize the objective function $\\min_{\\text{disc}_\\phi}\\mathcal{L}_{D}$ and $\\min_{\\text{gen}_\\theta}\\mathcal{L}_{G}$ respectively. The discriminator and generator can be alternately trained."
   ]
  },
  {
   "cell_type": "markdown",
   "metadata": {},
   "source": [
    "## Paddle Quantum Implementation"
   ]
  },
  {
   "cell_type": "markdown",
   "metadata": {},
   "source": [
    "First import the relevant packages."
   ]
  },
  {
   "cell_type": "code",
   "execution_count": 11,
   "metadata": {
    "ExecuteTime": {
     "end_time": "2021-01-09T10:49:41.308412Z",
     "start_time": "2021-01-09T10:49:38.115680Z"
    }
   },
   "outputs": [],
   "source": [
    "import numpy as np\n",
    "import scipy\n",
    "import warnings\n",
    "import paddle\n",
    "import paddle_quantum\n",
    "from paddle_quantum.state import zero_state\n",
    "from paddle_quantum.ansatz import Circuit\n",
    "from paddle_quantum import Hamiltonian\n",
    "from paddle_quantum.gate import *\n",
    "from paddle_quantum.loss import ExpecVal\n",
    "from paddle_quantum.qinfo import partial_trace\n",
    "from tqdm import tqdm\n",
    "\n",
    "warnings.filterwarnings(\"ignore\")"
   ]
  },
  {
   "cell_type": "markdown",
   "metadata": {},
   "source": [
    "Then define our network model QGAN."
   ]
  },
  {
   "cell_type": "code",
   "execution_count": 12,
   "metadata": {
    "ExecuteTime": {
     "end_time": "2021-01-09T10:49:43.091496Z",
     "start_time": "2021-01-09T10:49:43.060879Z"
    }
   },
   "outputs": [],
   "source": [
    "# set the backend to density_matrix\n",
    "paddle_quantum.set_backend('density_matrix')\n",
    "\n",
    "class QGAN():\n",
    "    def __init__(self, target_state, LR, ITR, ITR_D, ITR_G):\n",
    "        \"\"\"\n",
    "        parameters\n",
    "        target_state: target state\n",
    "        LR:           learning rate\n",
    "        ITR:          number of iterations\n",
    "        ITR_D:        number of iterations for discriminator\n",
    "        ITR_G:        number of iterations for generator\n",
    "        \"\"\"\n",
    "        self.target_state = target_state.clone()\n",
    "\n",
    "        # Quantum circuit of generator\n",
    "        self.generator = Circuit(3)\n",
    "        self.generator.u3([0, 1])\n",
    "        self.generator.cnot([0, 1])\n",
    "        self.generator.u3(0)\n",
    "\n",
    "        # Quantum circuit of the discriminator\n",
    "        self.discriminator = Circuit(3)\n",
    "        self.discriminator.u3([0, 2])\n",
    "        self.discriminator.cnot([0, 2])\n",
    "        self.discriminator.u3(0)\n",
    "        \n",
    "        # Hyperparameters of training\n",
    "        self.LR = LR\n",
    "        self.ITR = ITR\n",
    "        self.ITR_D = ITR_D\n",
    "        self.ITR_G = ITR_G\n",
    "        \n",
    "        # Optimizer\n",
    "        self.optimizer = paddle.optimizer.SGD(\n",
    "            learning_rate=self.LR,\n",
    "            parameters=self.generator.parameters() + self.discriminator.parameters(),\n",
    "        )\n",
    "\n",
    "    def disc_target_as_target(self):\n",
    "        \"\"\"\n",
    "        The probability that the discriminator judges the target state as the target state\n",
    "        \"\"\"\n",
    "        state = self.discriminator(self.target_state)\n",
    "        expec_val_func = ExpecVal(Hamiltonian([[1.0, 'z2']]))\n",
    "        \n",
    "        # The judgment result of the discriminator on the target state\n",
    "        target_disc_output = expec_val_func(state)\n",
    "        prob_as_target = (target_disc_output + 1) / 2\n",
    "\n",
    "        return prob_as_target\n",
    "\n",
    "    def disc_gen_as_target(self):\n",
    "        \"\"\"\n",
    "        The probability that the discriminator judges the generated state as the target state\n",
    "        \"\"\"\n",
    "        # Get the quantum state generated by the generator\n",
    "        gen_state = self.generator()\n",
    "\n",
    "        state = self.discriminator(gen_state)\n",
    "        # The judgment result of the discriminator on the generated state\n",
    "        expec_val_func = ExpecVal(Hamiltonian([[1.0, 'z2']]))\n",
    "        gen_disc_output = expec_val_func(state)\n",
    "        prob_as_target = (gen_disc_output + 1) / 2\n",
    "\n",
    "        return prob_as_target\n",
    "    \n",
    "    def gen_loss_func(self):\n",
    "        \"\"\"\n",
    "        Calculate the loss function of the generator, the interval of the loss value is [-1, 0],\n",
    "        0 means extremely poor generation effect, -1 means excellent generation effect\n",
    "        \"\"\"\n",
    "        return -1 * self.disc_gen_as_target()\n",
    "\n",
    "    def disc_loss_func(self):\n",
    "        \"\"\"\n",
    "        Calculate the loss function of the discriminator, the loss value range is [-1, 1],\n",
    "        -1 means perfect distinction, 0 means indistinguishable, 1 means inverted distinction\n",
    "        \"\"\"\n",
    "        return self.disc_gen_as_target() - self.disc_target_as_target()\n",
    "\n",
    "    def get_target_state(self):\n",
    "        \"\"\"\n",
    "        Get the density matrix representation of the target state\n",
    "        \"\"\"\n",
    "        state = partial_trace(self.target_state, 2, 4, 2)\n",
    "\n",
    "        return state.numpy()\n",
    "\n",
    "    def get_generated_state(self):\n",
    "        \"\"\"\n",
    "        Get the density matrix representation of the generated state\n",
    "        \"\"\"\n",
    "        state = self.generator()\n",
    "        state = partial_trace(state, 2, 4, 2)\n",
    "\n",
    "        return state.numpy()\n",
    "    \n",
    "    def train(self):\n",
    "        \"\"\"\n",
    "        Train the QGAN\n",
    "        \"\"\"\n",
    "        \n",
    "        # Used to record the change of loss value\n",
    "        loss_history = []\n",
    "        pbar = tqdm(\n",
    "            desc=\"Training: \",\n",
    "            total=self.ITR * (self.ITR_G + self.ITR_D),\n",
    "            ncols=100,\n",
    "            ascii=True,\n",
    "        )\n",
    "\n",
    "        for _ in range(self.ITR):\n",
    "            # Train the discriminator\n",
    "            loss_disc_history = []\n",
    "            for _ in range(self.ITR_D):\n",
    "                pbar.update(1)\n",
    "                loss_disc = self.disc_loss_func()\n",
    "                loss_disc.backward()\n",
    "                self.optimizer.minimize(\n",
    "                    loss_disc,\n",
    "                    parameters=self.discriminator.parameters(),\n",
    "                    no_grad_set=self.generator.parameters(),\n",
    "                )\n",
    "                self.optimizer.clear_grad()\n",
    "                loss_disc_history.append(loss_disc.numpy()[0])\n",
    "\n",
    "            # Train the generator\n",
    "            loss_gen_history = []\n",
    "            for _ in range(self.ITR_G):\n",
    "                pbar.update(1)\n",
    "                loss_gen = self.gen_loss_func()\n",
    "                loss_gen.backward()\n",
    "                self.optimizer.minimize(\n",
    "                    loss_gen,\n",
    "                    parameters=self.generator.parameters(),\n",
    "                    no_grad_set=self.discriminator.parameters(),\n",
    "                )\n",
    "                self.optimizer.clear_grad()\n",
    "                loss_gen_history.append(loss_gen.numpy()[0])\n",
    "\n",
    "            loss_history.append((loss_disc_history, loss_gen_history))\n",
    "\n",
    "        pbar.close()\n",
    "\n",
    "        return loss_history"
   ]
  },
  {
   "cell_type": "markdown",
   "metadata": {},
   "source": [
    "Next, we use PaddlePaddle to train our model."
   ]
  },
  {
   "cell_type": "code",
   "execution_count": 13,
   "metadata": {
    "ExecuteTime": {
     "end_time": "2021-01-09T10:52:15.221809Z",
     "start_time": "2021-01-09T10:49:55.308722Z"
    }
   },
   "outputs": [
    {
     "name": "stderr",
     "output_type": "stream",
     "text": [
      "Training: 100%|#################################################| 2250/2250 [00:51<00:00, 43.51it/s]"
     ]
    },
    {
     "name": "stdout",
     "output_type": "stream",
     "text": [
      "the density matrix of the target state:\n",
      "[[0.02447175+0.j         0.12500004-0.09081785j]\n",
      " [0.12500004+0.09081785j 0.97552836+0.j        ]] \n",
      "\n",
      "the density matrix of the generated state:\n",
      "[[0.02444273-1.0244548e-08j 0.12302139-9.3332976e-02j]\n",
      " [0.12302142+9.3332976e-02j 0.9755573 +0.0000000e+00j]] \n",
      "\n",
      "the distance between these two quantum states is 2.0483465e-05 \n",
      "\n",
      "the fidelity between these two quantum states is 0.9999945609564611\n"
     ]
    },
    {
     "name": "stderr",
     "output_type": "stream",
     "text": [
      "\n"
     ]
    }
   ],
   "source": [
    "# Learning rate\n",
    "LR = 0.1\n",
    "# Total number of iterations\n",
    "ITR = 25\n",
    "# In each iteration, the number of iterations of the discriminator\n",
    "ITR1 = 40\n",
    "# In each iteration, the number of generator iterations\n",
    "ITR2 = 50\n",
    "\n",
    "# prepare the target quantum state\n",
    "target_state = zero_state(num_qubits=3)\n",
    "target_state = RY(0, param=0.9 * np.pi)(target_state)\n",
    "target_state = RZ(0, param=0.2 * np.pi)(target_state)\n",
    "\n",
    "paddle.seed(18)\n",
    "\n",
    "# Construct a QGAN and train\n",
    "gan_demo = QGAN(target_state, LR, ITR, ITR1, ITR2)\n",
    "loss_history = gan_demo.train()\n",
    "\n",
    "# Get the target quantum state\n",
    "target_state = gan_demo.get_target_state()\n",
    "\n",
    "# Get the final quantum state generated by the generator\n",
    "gen_state = gan_demo.get_generated_state()\n",
    "print(\"the density matrix of the target state:\")\n",
    "print(target_state, \"\\n\")\n",
    "print(\"the density matrix of the generated state:\")\n",
    "print(gen_state, \"\\n\")\n",
    "\n",
    "# Calculate the distance between two quantum states,\n",
    "# The distance here is defined as tr[(target_state-gen_state)^2]\n",
    "distance = np.trace(np.matmul(target_state-gen_state, target_state-gen_state)).real\n",
    "# Calculate the fidelity of two quantum states\n",
    "fidelity = np.trace(\n",
    "    scipy.linalg.sqrtm(scipy.linalg.sqrtm(target_state) @ gen_state @ scipy.linalg.sqrtm(gen_state))\n",
    ").real\n",
    "print(\"the distance between these two quantum states is\", distance, \"\\n\")\n",
    "print(\"the fidelity between these two quantum states is\", fidelity)"
   ]
  },
  {
   "cell_type": "markdown",
   "metadata": {},
   "source": [
    "We compare the target quantum state's density matrix $\\rho_\\text{target}$ and  the generated quantum state's density matrix $\\rho_\\text{gen}$ and calculate the distance between them $\\text{tr}[(\\rho_\\text{target}-\\rho_\\text{gen})^2]$ and fidelity. We can know that our generator generates a quantum state very close to the target state."
   ]
  },
  {
   "cell_type": "markdown",
   "metadata": {},
   "source": [
    "## Visualization of the training process"
   ]
  },
  {
   "cell_type": "markdown",
   "metadata": {},
   "source": [
    "Next, let's observe the change of the discriminator and generator's loss curve during the training process.\n",
    "\n",
    "First install the required packages."
   ]
  },
  {
   "cell_type": "code",
   "execution_count": 14,
   "metadata": {},
   "outputs": [],
   "source": [
    "from IPython.display import clear_output\n",
    "%pip install celluloid\n",
    "clear_output()"
   ]
  },
  {
   "cell_type": "markdown",
   "metadata": {},
   "source": [
    "Next, we draw the change of the loss curve."
   ]
  },
  {
   "cell_type": "code",
   "execution_count": 15,
   "metadata": {},
   "outputs": [
    {
     "data": {
      "image/png": "[encoded data removed]",
      "text/plain": [
       "<Figure size 432x288 with 2 Axes>"
      ]
     },
     "metadata": {
      "needs_background": "light"
     },
     "output_type": "display_data"
    }
   ],
   "source": [
    "import matplotlib.pyplot as plt\n",
    "from celluloid import Camera\n",
    "def draw_pic(loss_history):\n",
    "    fig, axes = plt.subplots(nrows=1, ncols=2)\n",
    "    camera = Camera(fig)\n",
    "    axes[0].set_title(\"discriminator\")\n",
    "    axes[0].set_xlabel(\"disc_iter\")\n",
    "    axes[0].set_ylabel(\"disc_loss\")\n",
    "    axes[0].set_xlim(0, 20)\n",
    "    axes[0].set_ylim(-1, 1)\n",
    "    axes[1].set_title(\"generator\")\n",
    "    axes[1].set_xlabel(\"gen_iter\")\n",
    "    axes[1].set_ylabel(\"gen_loss\")\n",
    "    axes[1].set_xlim(0, 50)\n",
    "    axes[1].set_ylim(-1, 0)\n",
    "    for loss in loss_history:\n",
    "        disc_data, gen_data = loss\n",
    "        disc_x_data = range(len(disc_data))\n",
    "        gen_x_data = range(len(gen_data))\n",
    "        axes[0].plot(disc_x_data, disc_data, color='red')\n",
    "        axes[1].plot(gen_x_data, gen_data, color='blue')\n",
    "        camera.snap()\n",
    "    animation = camera.animate(interval=600, \n",
    "                               repeat=True, repeat_delay=800)\n",
    "    animation.save(\"./figures/QGAN-fig-loss.gif\")\n",
    "draw_pic(loss_history)\n",
    "clear_output()"
   ]
  },
  {
   "attachments": {},
   "cell_type": "markdown",
   "metadata": {},
   "source": [
    "![QGAN-fig-loss](figures/QGAN-fig-loss.gif)"
   ]
  },
  {
   "cell_type": "markdown",
   "metadata": {},
   "source": [
    "In this dynamic picture, each frame represents an iterative process. In an iteration, the red line on the left represents the loss curve of the discriminator, and the blue line on the right represents the loss curve of the generator. It can be seen that at the initial stage, the discriminator and generator can gradually learn from a poor discriminant ability and generation ability to a better discrimination ability and generation ability in the current situation. As the learning progresses, the generator’s generation ability is getting stronger and stronger, and the discriminator’s ability is getting stronger and stronger. However, the discriminator can not distinguish the real data and the generated data because the generator has generated data close to real data. At this time, the model has converged."
   ]
  },
  {
   "cell_type": "markdown",
   "metadata": {},
   "source": [
    "_______\n",
    "\n",
    "## References"
   ]
  },
  {
   "cell_type": "markdown",
   "metadata": {},
   "source": [
    "[1] Goodfellow, I. J. et al. Generative Adversarial Nets. [Proc. 27th Int. Conf. Neural Inf. Process. Syst. (2014).](https://papers.nips.cc/paper/5423-generative-adversarial-nets)\n",
    "\n",
    "[2] Lloyd, S. & Weedbrook, C. Quantum Generative Adversarial Learning. [Phys. Rev. Lett. 121, 040502 (2018).](https://journals.aps.org/prl/abstract/10.1103/PhysRevLett.121.040502)\n",
    "\n",
    "[3] Benedetti, M., Grant, E., Wossnig, L. & Severini, S. Adversarial quantum circuit learning for pure state approximation. [New J. Phys. 21, (2019).](https://iopscience.iop.org/article/10.1088/1367-2630/ab14b5)\n"
   ]
  }
 ],
 "metadata": {
  "kernelspec": {
   "display_name": "Python 3",
   "language": "python",
   "name": "python3"
  },
  "language_info": {
   "codemirror_mode": {
    "name": "ipython",
    "version": 3
   },
   "file_extension": ".py",
   "mimetype": "text/x-python",
   "name": "python",
   "nbconvert_exporter": "python",
   "pygments_lexer": "ipython3",
   "version": "3.8.13"
  },
  "toc": {
   "base_numbering": 1,
   "nav_menu": {},
   "number_sections": true,
   "sideBar": true,
   "skip_h1_title": false,
   "title_cell": "Table of Contents",
   "title_sidebar": "Contents",
   "toc_cell": false,
   "toc_position": {},
   "toc_section_display": true,
   "toc_window_display": true
  }
 },
 "nbformat": 4,
 "nbformat_minor": 4
}
