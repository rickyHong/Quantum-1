{
 "cells": [
  {
   "attachments": {},
   "cell_type": "markdown",
   "id": "d24ddfbe",
   "metadata": {},
   "source": [
    "## Quality Detection task\n",
    "\n",
    "*Copyright (c) 2022 Institute for Quantum Computing, Baidu Inc. All Rights Reserved.*\n",
    "\n",
    "In the field of architecture, the physical environment, materials, and other factors will have an impact on the quality of the project. For example, cracks on the concrete surface can seriously damage the service life of the building. Therefore, engineering quality inspection is very important, among which picture classification is a common technology. Specifically, our task is to give a picture of a specific building material and then to determine whether there are cracks on the surface of the material. The data we use is from the public data set \\[1\\], which has the following form\n",
    "\n",
    "\n",
    "<img src=\"./surface_crack_example.png\" width=\"20%\" height=\"20%\" div align=center />\n",
    "\n",
    "The training set we use specifically includes 1000 pictures as shown in the figure above. In order to test the detection capability of the model, we selected 200 pictures as the test set."
   ]
  },
  {
   "attachments": {},
   "cell_type": "markdown",
   "id": "15abdd24",
   "metadata": {},
   "source": [
    "## QNNQD model for crack image detection"
   ]
  },
  {
   "attachments": {},
   "cell_type": "markdown",
   "id": "977c0662",
   "metadata": {},
   "source": [
    "### Introduction of QNNQD\n",
    "\n",
    "QNNQD model is a Quantum Machine Learning (QML) model that can be used for picture classification. We specifically call it a Quantum Neural Network (QNN), which combines Parameterized Quantum Circuit (PQC) and a classical neural network. For surface crack image data, QNNQD can achieve more than 90% classification accuracy. The model is mainly divided into quantum and classical parts. The structure diagram is as follows:\n",
    "\n",
    "<img src=\"./qnnqd_model_en.png\" width=\"60%\" height=\"60%\"/>\n",
    "\n",
    "\n",
    "Main process：\n",
    "- In general, we use principal component analysis (PCA) to reduce the dimension of image data, making it easier to encode classical data into quantum states through encoding circuits.\n",
    "- The parameterized circuit is used for feature extraction, and its circuit parameters can be adjusted during training. Similar to the trainable parameters in traditional neural networks.\n",
    "- Quantum measurement, represented by a set of measurement operators, is the process of converting quantum states into classical data, which can be further processed."
   ]
  },
  {
   "attachments": {},
   "cell_type": "markdown",
   "id": "17661d06",
   "metadata": {},
   "source": [
    "## Quick start"
   ]
  },
  {
   "attachments": {},
   "cell_type": "markdown",
   "id": "f8a3ebf3",
   "metadata": {},
   "source": [
    "### Use the model to make predictions\n",
    "\n",
    "Entering the command `python qnn_quality_detection.py --config train.toml`  will initiate the model training. Here, we have given a trained model saved in the format `qnnqd.pdparams`, which can be directly used to distinguish surface crack data. One only needs to do the corresponding configuration in this file `test.toml`, and enter the command `python qnn_quality_detection.py --config test.toml` to predict the image. To avoid configuring too many parameters, we provide the `example.toml` file which can be more easily configured. One can execute `python qnn_quality_detection.py --config example.toml` to complete image prediction."
   ]
  },
  {
   "attachments": {},
   "cell_type": "markdown",
   "id": "4f739274",
   "metadata": {},
   "source": [
    "### Online Test\n",
    "\n",
    "The following shows how to configure the test file `test_toml` to make crack image prediction."
   ]
  },
  {
   "cell_type": "code",
   "execution_count": 1,
   "id": "3e3772fe",
   "metadata": {},
   "outputs": [],
   "source": [
    "import toml\n",
    "\n",
    "test_toml = r\"\"\"\n",
    "# The config for test the QNNQD model.\n",
    "# The path of the input image.\n",
    "image_path = 'SurfaceCrack/test_data/'\n",
    "\n",
    "# The number of the data in the test dataset.\n",
    "# The value defaults to -1 which means using all data.\n",
    "num_samples = 20\n",
    "\n",
    "# The path of the trained model, which will be loaded.\n",
    "model_path = 'qnnqd.pdparams'\n",
    "\n",
    "# The number of qubits of quantum circuit in each layer.\n",
    "num_qubits = [4, 4]\n",
    "\n",
    "# The depth of quantum circuit in each layer.\n",
    "num_depths = [2, 2]\n",
    "\n",
    "# The observables of quantum circuit in each layer.\n",
    "observables = [['Z0', 'Z1', 'Z2', 'Z3'], ['Z0', 'Z1', 'Z2', 'Z3']]\n",
    "\"\"\"\n",
    "\n",
    "config = toml.loads(test_toml)"
   ]
  },
  {
   "attachments": {},
   "cell_type": "markdown",
   "id": "e5abd75c",
   "metadata": {},
   "source": [
    "In `test_toml` :\n",
    "- `model_path`: this is the trained model, here we set it as `qnnqd.pdparams`；\n",
    "- `num_qubits`、`num_depths`、`observables` these parameters correspond to the model ``qnnqd.pdparams`` , `num_qubits = [4,4]` represents the quantum part of a total of two layers of circuit, each layer of the circuit has 4 qubits; `num_depths = [2,2]` represents the depth of parameterized circuit of each layer is 2；`observables` is the specific form of the measurement operator at each layer.\n",
    "\n",
    "Test:"
   ]
  },
  {
   "cell_type": "code",
   "execution_count": 3,
   "id": "c6c9f96b",
   "metadata": {},
   "outputs": [
    {
     "name": "stdout",
     "output_type": "stream",
     "text": [
      "The prediction results of the input images are 0, 0, 0, 1, 0, 0, 1, 0, 1, 1, 1, 0, 0, 0, 0, 1, 1, 0, 1, 1 respectively.\n",
      "The labels of the input images are 1, 0, 0, 1, 0, 0, 1, 0, 1, 0, 1, 0, 0, 0, 1, 1, 1, 0, 1, 1 respectively.\n"
     ]
    }
   ],
   "source": [
    "from paddle_quantum.qml.qnnqd import inference\n",
    "\n",
    "prediction, prob, label = inference(**config)\n",
    "print(f\"The prediction results of the input images are {str(prediction)[1:-1]} respectively.\")\n",
    "print(f\"The labels of the input images are {str(label)[1:-1]} respectively.\")"
   ]
  },
  {
   "attachments": {},
   "cell_type": "markdown",
   "id": "5b1bc8f9",
   "metadata": {},
   "source": [
    "The above is the prediction result of the model for the test set. The prediction details of the two images are given below."
   ]
  },
  {
   "cell_type": "code",
   "execution_count": 4,
   "id": "8d4191f4",
   "metadata": {},
   "outputs": [],
   "source": [
    "# import\n",
    "import os\n",
    "import warnings\n",
    "\n",
    "warnings.filterwarnings('ignore')\n",
    "os.environ['PROTOCOL_BUFFERS_PYTHON_IMPLEMENTATION'] = 'python'\n",
    "\n",
    "import numpy as np\n",
    "import paddle\n",
    "import matplotlib.pyplot as plt\n",
    "from paddle_quantum.qml.qnnqd import QNNQD, ImageDataset\n",
    "\n",
    "# Set model parameters\n",
    "num_qubits = [4,4]\n",
    "num_depths = [2,2]\n",
    "observables = [['Z0','Z1','Z2','Z3'], ['Z0','Z1','Z2','Z3']]\n",
    "\n",
    "# Load the trained model\n",
    "model = QNNQD(\n",
    "    num_qubits=num_qubits,\n",
    "    num_depths=num_depths,\n",
    "    observables=observables,\n",
    ")\n",
    "state_dict = paddle.load('./qnnqd.pdparams')\n",
    "model.set_state_dict(state_dict)"
   ]
  },
  {
   "cell_type": "code",
   "execution_count": 5,
   "id": "d74ec0d5",
   "metadata": {},
   "outputs": [
    {
     "data": {
      "text/plain": [
       "<matplotlib.image.AxesImage at 0x165f7d8a248>"
      ]
     },
     "execution_count": 5,
     "metadata": {},
     "output_type": "execute_result"
    },
    {
     "data": {
      "image/png": "[encoded data removed]",
      "text/plain": [
       "<Figure size 640x480 with 1 Axes>"
      ]
     },
     "metadata": {},
     "output_type": "display_data"
    }
   ],
   "source": [
    "crack_img = plt.imread('positive_crack.jpg') # Positive, label=[1.0,0.0]\n",
    "plt.imshow(crack_img, cmap='gray', vmin=0, vmax=255)"
   ]
  },
  {
   "cell_type": "code",
   "execution_count": 6,
   "id": "57975e9b",
   "metadata": {},
   "outputs": [
    {
     "data": {
      "text/plain": [
       "<matplotlib.image.AxesImage at 0x165ffe5e508>"
      ]
     },
     "execution_count": 6,
     "metadata": {},
     "output_type": "execute_result"
    },
    {
     "data": {
      "image/png": "[encoded data removed]",
      "text/plain": [
       "<Figure size 640x480 with 1 Axes>"
      ]
     },
     "metadata": {},
     "output_type": "display_data"
    }
   ],
   "source": [
    "non_crack_img = plt.imread('negative_non_crack.jpg') # Negative, label=[0,1]\n",
    "plt.imshow(non_crack_img, cmap='gray', vmin=0, vmax=255)"
   ]
  },
  {
   "cell_type": "code",
   "execution_count": 7,
   "id": "4611ad8a",
   "metadata": {},
   "outputs": [
    {
     "name": "stdout",
     "output_type": "stream",
     "text": [
      "For the cracked images, the model has 99.99% of confidence in detecting their impaired quality.\n",
      "For images without cracks, the model has 77.33% of confidence to detect the quality without damage.\n"
     ]
    }
   ],
   "source": [
    "# Encoding images into quantum states\n",
    "preprocess = ImageDataset(file_path='SurfaceCrack/training_data/', num_samples=500)\n",
    "\n",
    "crack_img_data = np.reshape(crack_img, 784)\n",
    "non_crack_img_data = np.reshape(non_crack_img, 784)\n",
    "test_data = np.array([crack_img_data, non_crack_img_data])\n",
    "\n",
    "test_data = preprocess.centering.transform(test_data)\n",
    "test_data = preprocess.pca.transform(test_data)\n",
    "test_data = preprocess.scaler.transform(test_data)\n",
    "\n",
    "test_data = paddle.to_tensor(test_data, dtype='float64')\n",
    "\n",
    "# Use the model to make predictions and get the corresponding probability values\n",
    "prob = model(test_data)\n",
    "print(f\"For the cracked images, the model has {prob[0][0].item():3.2%} of confidence in detecting their impaired quality.\")\n",
    "print(f\"For images without cracks, the model has {prob[1][1].item():3.2%} of confidence to detect the quality without damage.\")"
   ]
  },
  {
   "attachments": {},
   "cell_type": "markdown",
   "id": "8f6f3b91",
   "metadata": {},
   "source": [
    "## Remarks\n",
    "\n",
    "We usually consider adjusting `num_qubits`、`num_depths`、`observables` these three hyperparameters, which have a greater impact on the model."
   ]
  },
  {
   "attachments": {},
   "cell_type": "markdown",
   "id": "813ba2ae",
   "metadata": {},
   "source": [
    "## References\n",
    "\n",
    "[1] Özgenel, Çağlar Fırat (2019), “Concrete Crack Images for Classification”, Mendeley Data, V2, doi: 10.17632/5y9wdsg2zt.2 "
   ]
  }
 ],
 "metadata": {
  "kernelspec": {
   "display_name": "modellib",
   "language": "python",
   "name": "python3"
  },
  "language_info": {
   "codemirror_mode": {
    "name": "ipython",
    "version": 3
   },
   "file_extension": ".py",
   "mimetype": "text/x-python",
   "name": "python",
   "nbconvert_exporter": "python",
   "pygments_lexer": "ipython3",
   "version": "3.7.15 (default, Nov 24 2022, 18:44:54) [MSC v.1916 64 bit (AMD64)]"
  },
  "toc": {
   "base_numbering": 1,
   "nav_menu": {},
   "number_sections": true,
   "sideBar": true,
   "skip_h1_title": false,
   "title_cell": "Table of Contents",
   "title_sidebar": "Contents",
   "toc_cell": false,
   "toc_position": {},
   "toc_section_display": true,
   "toc_window_display": false
  },
  "vscode": {
   "interpreter": {
    "hash": "dfa0523b1e359b8fd3ea126fa0459d0c86d49956d91b464930b80cba21582eac"
   }
  }
 },
 "nbformat": 4,
 "nbformat_minor": 5
}
