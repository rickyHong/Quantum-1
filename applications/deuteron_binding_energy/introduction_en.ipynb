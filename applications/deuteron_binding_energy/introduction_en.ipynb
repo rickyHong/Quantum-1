{
 "cells": [
  {
   "attachments": {},
   "cell_type": "markdown",
   "metadata": {},
   "source": [
    "# Calculation of deuteron binding energy\n",
    "*Copyright (c) 2023 Institute for Quantum Computing, Baidu Inc. All Rights Reserved.*\n",
    "\n",
    "Binding energy is the energy required to separate a system into its constituent parts. It is a measure of the stability of a system, and is the amount of energy that must be added to a system to break it apart. The concept of the binding energy has important applications in many areas of physics and chemistry, such as nuclear physics, atomic physics, and materials science. In nuclear physics, the binding energy per nucleon is used to determine the stability of atomic nuclei and to explain the phenomena of nuclear fusion and fission. In atomic physics, the binding energy is used to determine the strength of the bonds between atoms and molecules, and to explain their physical and chemical properties. In materials science, the binding energy is used to determine the strength of bonds in solids, and to design materials with specific properties for various applications.\n",
    "\n",
    "A deuteron is a stable isotope of hydrogen with one proton and one neutron in its nucleus. It has a mass approximately equal to twice that of a hydrogen atom and is the simplest isotope of elements in the periodic table. Deuterons play a crucial role in nuclear fusion reactions and are commonly used as a target in nuclear physics experiments."
   ]
  },
  {
   "attachments": {},
   "cell_type": "markdown",
   "metadata": {},
   "source": [
    "## Define deuteron Hamiltonian\n",
    "The Hamiltonian used for calculation of deuteron binding energy is\n",
    "$$\n",
    "\\begin{equation}\n",
    "\\hat{H}_N = \\sum_{n,n^{\\prime}=0}^{N-1}\\langle n^{\\prime}|\\hat{T}+\\hat{V}|n\\rangle\\hat{a}^{\\dagger}_{n^{\\prime}}\\hat{a}_n\n",
    "\\end{equation}\n",
    "$$\n",
    "where $\\hat{T}$ is the kinetic energy operator, $\\hat{V}$ is the potential energy operator, $N$ is the dimension of the Hamiltonian. $\\hat{T}$ and $\\hat{V}$ can be explicitly written as\n",
    "$$\n",
    "\\begin{align}\n",
    "& \\langle n^{\\prime}|\\hat{T}|n\\rangle = \\frac{\\hbar\\omega}{2}\\left[\n",
    "    (2n+3/2)\\delta_{n^{\\prime},n}-\\sqrt{n(n+1/2)}\\delta_{n^{\\prime}+1,n}-\\sqrt{(n+1)(n+3/2)}\\delta_{n^{\\prime}-1,n}\n",
    "\\right],\\nonumber\\\\\n",
    "& \\langle n^{\\prime}|\\hat{V}|n\\rangle = V_0\\delta_{0,n}\\delta_{n^{\\prime},n},\\nonumber\n",
    "\\end{align}\n",
    "$$\n",
    "where $\\hat{a}^{\\dagger}_n$ is the creation operator and $\\hat{a}_n$ is the annihilation operator. Binding energy is the ground state energy of this Hamiltonian when $N\\to\\infty$ (We can obtain the binding energy by first calculating ground state energies when $N=1,2,3$, and then extrapolating to $N=\\infty$).\n",
    "\n",
    "To build this Hamiltonian in Paddle Quantum, we set $\\hbar\\omega=7\\text{Mev}$ and $V_0=−5.68658111\\text{Mev}$ \\[1\\].\n"
   ]
  },
  {
   "cell_type": "code",
   "execution_count": 14,
   "metadata": {},
   "outputs": [
    {
     "name": "stdout",
     "output_type": "stream",
     "text": [
      "H2= 5.906709445000001 I\n",
      "0.21829055499999983 Z0\n",
      "-2.1433035249352805 X0, X1\n",
      "-2.1433035249352805 Y0, Y1\n",
      "-6.125 Z1 \n",
      "\n",
      "H3= 15.531709445 I\n",
      "0.21829055499999983 Z0\n",
      "-2.1433035249352805 X0, X1\n",
      "-2.1433035249352805 Y0, Y1\n",
      "-6.125 Z1\n",
      "-3.913118960624632 X1, X2\n",
      "-3.913118960624632 Y1, Y2\n",
      "-9.625 Z2\n"
     ]
    }
   ],
   "source": [
    "from utils import DeuteronHamiltonian\n",
    "\n",
    "omega = 7\n",
    "V0 = -5.68658111\n",
    "hamiltonian = DeuteronHamiltonian(omega, V0)\n",
    "\n",
    "# N=2\n",
    "deut_h_2 = hamiltonian.get_hamiltonian(2)\n",
    "print(\"H2=\", deut_h_2, \"\\n\")                                 # H_2 = 5.906709I + 0.218291Z0 − 6.125Z1 - 2.143304 (X0X1 + Y0Y1)\n",
    "\n",
    "# N=3\n",
    "deut_h_3 = hamiltonian.get_hamiltonian(3)\n",
    "print(\"H3=\", deut_h_3)                                 # H_3 = H_2 + 9.625(I − Z2) − 3.913119 (X1X2 + Y1Y2)"
   ]
  },
  {
   "attachments": {},
   "cell_type": "markdown",
   "metadata": {},
   "source": [
    "> **NOTE**: In this tutorial, in order to encode the Hamiltonian on a quantum computer, we use Jordan-Wigner transformation \\[2\\] to transform creation and annihilation operators into Pauli basis."
   ]
  },
  {
   "attachments": {},
   "cell_type": "markdown",
   "metadata": {},
   "source": [
    "## Build the variational quantum circuit\n",
    "We use variational quantum algorithm to calculate the ground state energy of $\\hat{H}_2$ and $\\hat{H}_3$, and we choose unitary coupled cluster (UCC) ansatz as our variational quantum circuit. Since NISQ quantum hardware is better at handling shallow circuit, we use problem specific constraints to simplify the original UCC circuit."
   ]
  },
  {
   "cell_type": "code",
   "execution_count": 36,
   "metadata": {},
   "outputs": [
    {
     "name": "stdout",
     "output_type": "stream",
     "text": [
      "Quantum circuit for deuteron N=2.\n"
     ]
    },
    {
     "data": {
      "image/png": "[encoded data removed]",
      "text/plain": [
       "<Figure size 174x110 with 1 Axes>"
      ]
     },
     "metadata": {},
     "output_type": "display_data"
    },
    {
     "name": "stdout",
     "output_type": "stream",
     "text": [
      "Quantum circuit for deuteron N=3.\n"
     ]
    },
    {
     "data": {
      "image/png": "[encoded data removed]",
      "text/plain": [
       "<Figure size 414x165 with 1 Axes>"
      ]
     },
     "metadata": {},
     "output_type": "display_data"
    }
   ],
   "source": [
    "from utils import DeuteronUCC2, DeuteronUCC3\n",
    "\n",
    "# Simplified UCC circuit for H_2\n",
    "cir2 = DeuteronUCC2()\n",
    "print(\"Quantum circuit for deuteron N=2.\")\n",
    "cir2.plot()\n",
    "\n",
    "# Simplified UCC circuit for H_3\n",
    "cir3 = DeuteronUCC3()\n",
    "print(\"Quantum circuit for deuteron N=3.\")\n",
    "cir3.plot()"
   ]
  },
  {
   "attachments": {},
   "cell_type": "markdown",
   "metadata": {},
   "source": [
    "## Calculate ground state energy using variational quantum eigensolver (VQE)\n",
    "Paddle Quantum has provided us easy-to-use `GroundStateSolver` to calculate ground state energy for a given hamiltonian, and we will use this function to calculate deuteron binding energy."
   ]
  },
  {
   "cell_type": "code",
   "execution_count": 37,
   "metadata": {},
   "outputs": [
    {
     "name": "stdout",
     "output_type": "stream",
     "text": [
      "Binding energy (N=2): exact=-1.749, numerical=-1.74888, relative_error=0.00007.\n",
      "Binding energy (N=3): exact=-2.046, numerical=-2.04526, relative_error=0.00036.\n"
     ]
    }
   ],
   "source": [
    "import paddle\n",
    "from paddle.optimizer import Adam\n",
    "from paddle_quantum.qchem import GroundStateSolver\n",
    "\n",
    "paddle.seed(126)\n",
    "\n",
    "binding_e = []\n",
    "for ham, cir in [(deut_h_2, cir2), (deut_h_3, cir3)]:\n",
    "    solver = GroundStateSolver(Adam, num_iterations=100, tol=1e-5)\n",
    "    e, _ = solver.solve(cir, ham=ham, learning_rate=0.5)\n",
    "    binding_e.append(e)\n",
    "\n",
    "print(f\"Binding energy (N=2): exact=-1.749, numerical={binding_e[0]:.5f}, relative_error={abs(binding_e[0]-(-1.749))/1.749:.5f}.\")\n",
    "print(f\"Binding energy (N=3): exact=-2.046, numerical={binding_e[1]:.5f}, relative_error={abs(binding_e[1]-(-2.046))/2.046:.5f}.\")"
   ]
  },
  {
   "attachments": {},
   "cell_type": "markdown",
   "metadata": {},
   "source": [
    "### Variation of $\\hat{H}_2$ binding energy with $\\theta$\n",
    "Since the energy of $\\hat{H}_2$ only has variational parameter $\\theta$, we can plot the variation of $\\langle\\hat{H}_2\\rangle$ with respect to $\\theta$, and check that our VQE method has approached the true minimum."
   ]
  },
  {
   "cell_type": "code",
   "execution_count": 13,
   "metadata": {},
   "outputs": [
    {
     "data": {
      "image/png": "[encoded data removed]",
      "text/plain": [
       "<Figure size 400x300 with 1 Axes>"
      ]
     },
     "metadata": {},
     "output_type": "display_data"
    }
   ],
   "source": [
    "import numpy as np\n",
    "import matplotlib.pyplot as plt\n",
    "\n",
    "angles = np.arange(-np.pi, 1.1*np.pi, 0.1*np.pi)\n",
    "qm_expectvals = []\n",
    "for theta in angles:\n",
    "    cir = DeuteronUCC2(theta)\n",
    "    psi = cir()\n",
    "    qm_expectvals.append(psi.expec_val(deut_h_2))\n",
    "print(f\"The minimum value is {min(qm_expectvals):.5f}.\")\n",
    "\n",
    "fig = plt.figure(figsize=(4, 3))\n",
    "ax = fig.gca()\n",
    "ax.plot(angles, qm_expectvals)\n",
    "ax.set_xlabel(r\"$\\theta$\")\n",
    "ax.set_ylabel(r\"$\\langle\\hat{H}_2\\rangle$ (MeV)\")\n",
    "ax.set_xticks([-np.pi, -np.pi/2, 0.0, np.pi/2, np.pi], [r\"$-\\pi$\", r\"$-\\pi/2$\", r\"$0$\", r\"$\\pi/2$\", r\"$\\pi$\"])\n",
    "ax.set_yticks([0, 5, 10], [\"0\", \"5\", \"10\"])\n",
    "plt.show()"
   ]
  },
  {
   "attachments": {},
   "cell_type": "markdown",
   "metadata": {},
   "source": [
    "## Reference\n",
    "\\[1\\] Dumitrescu E F, McCaskey A J, Hagen G, et al. Cloud quantum computing of an atomic nucleus[J]. Physical review letters, 2018, 120(21): 210501\n",
    "\n",
    "\\[2\\] [Jordan-Wigner transform](https://en.wikipedia.org/wiki/Jordan%E2%80%93Wigner_transformation)"
   ]
  }
 ],
 "metadata": {
  "kernelspec": {
   "display_name": "modellib",
   "language": "python",
   "name": "python3"
  },
  "language_info": {
   "codemirror_mode": {
    "name": "ipython",
    "version": 3
   },
   "file_extension": ".py",
   "mimetype": "text/x-python",
   "name": "python",
   "nbconvert_exporter": "python",
   "pygments_lexer": "ipython3",
   "version": "3.7.15"
  },
  "orig_nbformat": 4,
  "vscode": {
   "interpreter": {
    "hash": "8f24120f890011f53feb4ed62c47961d8565ec1de8b7cb23548c15bd6da8f2d2"
   }
  }
 },
 "nbformat": 4,
 "nbformat_minor": 2
}
