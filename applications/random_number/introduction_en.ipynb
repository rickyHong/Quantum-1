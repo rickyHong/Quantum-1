{
 "cells": [
  {
   "attachments": {},
   "cell_type": "markdown",
   "metadata": {},
   "source": [
    "## Quantum Random Number Generator\n",
    "*Copyright (c) 2023 Institute for Quantum Computing, Baidu Inc. All Rights Reserved.*\n",
    "\n",
    "Random number generators are methods or devices to generate random number series by algorithms, physical signals, environmental noise, etc. They play an important role in many fields such as cryptography, machine learning, etc. They directly affect the crackability of the key, and the generalization performance of the machine learning model. Classical computers generate pseudo-random numbers by pseudo-random algorithms such as the linear congruence method, which has certain drawbacks like periodicity. In contrast, quantum computers can generate truly random numbers by exploiting the uncertainty of quantum measurements, which is unpredictable. This model library encapsulates methods that can call Baidu's own quantum computers, simulators, and third-party hardware that are online on the Baidu Quantum Cloud Platform to generate random numbers.\n",
    "\n",
    "## Method\n",
    "The quantum computer can be used to act $H$ gates on the zero initial state $|0\\rangle$ to obtain the quantum state $|\\psi\\rangle$,\n",
    "$$\n",
    "|\\psi\\rangle = \\frac{\\sqrt2}{2} |0\\rangle + \\frac{\\sqrt2}{2} |1\\rangle .\n",
    "$$\n",
    "The quantum state $|\\psi\\rangle$ has a probability of being $0$ or $1$ under Pauli-$Z$ quantum measurement (or named computational basis measurement, whose measurement operators are $|0\\rangle\\langle 0|$, $|1\\rangle \\langle 1 |$.) with $\\frac12$. The uncertainty of the collapse of the quantum state ensures that the result obtained for $0$ or $1$ is truly random. Repeat the above process to obtain a random bit string, and the flow diagram is as follows.\n",
    "![random_number](./randnum_EN.png)\n",
    "\n",
    "If the actual quantum computer is a noise-free ideal quantum computer, the measurement result is truly random. However, current quantum computers are noisy, so we also encapsulate the classical privacy-enhancing algorithm, which can filter the effect of noise by using two independent quantum computers (or two independent qubits of one quantum computer) to measure separately to get a long string. Then extract a short string by post-process. The diagram of extractor is shown below.\n",
    "![extractor](./extractor_EN.png)\n",
    "## User's Guide\n",
    "### Quick Start\n",
    "The user can run it by typing `python randnum.py --config config.toml` at the command line, where `config.toml` is the model configuration file, and the user can modify the parameters in this file or enter other files to customize the parameters.\n",
    "### Online Demonstration\n",
    "In the meantime, we give here a version of the online demo that can be customized online. First define the contents of the configuration file."
   ]
  },
  {
   "cell_type": "code",
   "execution_count": null,
   "metadata": {},
   "outputs": [],
   "source": [
    "example_toml = r'''\n",
    "# the target length of random bit string\n",
    "bit_len = 10\n",
    "\n",
    "# backend processor\n",
    "backend = 'local_baidu_sim2'        # local simulator\n",
    "# backend = 'cloud_baidu_qpu_qian'  # Baidu's QPU Qian\n",
    "\n",
    "# user's token, needed when using cloud service\n",
    "token = ''\n",
    "\n",
    "# whether to execute the privacy-enhancing post-process, please use lowercase here\n",
    "extract = false\n",
    "\n",
    "# security parameter, the smaller it is, the closer it is to true random (only needed in post-process)\n",
    "security = 1e-8\n",
    "\n",
    "# min-entropy of the hardware 1 and 2 (only needed in post-process, range from (0,1))\n",
    "min_entr_1 = 0.9 \n",
    "min_entr_2 = 0.9\n",
    "\n",
    "# log file path\n",
    "log_path = './qrng.log'\n",
    "'''"
   ]
  },
  {
   "cell_type": "markdown",
   "metadata": {},
   "source": [
    "Next, we run the model."
   ]
  },
  {
   "cell_type": "code",
   "execution_count": null,
   "metadata": {},
   "outputs": [],
   "source": [
    "import warnings\n",
    "import toml\n",
    "from paddle_quantum.data_analysis.rand_num import random_number_generation\n",
    "warnings.filterwarnings('ignore')\n",
    "random_number_generation(**toml.loads(example_toml))"
   ]
  },
  {
   "attachments": {},
   "cell_type": "markdown",
   "metadata": {},
   "source": [
    "Here, we just need to modify the parameters in the `example_toml` dictionary and run the code above to quickly customize the model. If you want to use Baidu's own quantum computer \"Qian\", you can modify the `backend` parameter to ` 'cloud_baidu_qpu_qian'` (keep the quotes, python string data type), and enter your account `token`. (If you don't have `token`, you can go to [Baidu Quantum Cloud Platform](https://quantum-hub.baidu.com/) to register.)\n",
    "## Note\n",
    "- Please keep the `Qcompute` version in your environment up to date, too low a version will not recognize the backend. `'cloud_baidu_qpu_qian'` needs `Qcompute >= 3.0.0`.\n",
    "\n",
    "- When using the backend of Baidu Quantum Cloud Platform, you need to input `token`, please pay attention to the remaining available hours of the corresponding cloud service in your personal account.\n",
    "- When using cloud services, please pay attention to the running status and service time of each machine on [Baidu Quantum Cloud Platform](https://quantum-hub.baidu.com/).\n",
    "\n",
    "## Citation\n",
    "```\n",
    "@article{hayashi2016more,\n",
    "  title={More efficient privacy amplification with less random seeds via dual universal hash function},\n",
    "  author={Hayashi, Masahito and Tsurumaru, Toyohiro},\n",
    "  journal={IEEE Transactions on Information Theory},\n",
    "  volume={62},\n",
    "  number={4},\n",
    "  pages={2213--2232},\n",
    "  year={2016},\n",
    "  publisher={IEEE}\n",
    "}\n",
    "```\n",
    "\n",
    "## Reference\n",
    "[1] Hayashi, Masahito, and Toyohiro Tsurumaru. \"More efficient privacy amplification with less random seeds via dual universal hash function.\" IEEE Transactions on Information Theory 62.4 (2016): 2213-2232.\n"
   ]
  }
 ],
 "metadata": {
  "kernelspec": {
   "display_name": "Python 3 (ipykernel)",
   "language": "python",
   "name": "python3"
  },
  "language_info": {
   "codemirror_mode": {
    "name": "ipython",
    "version": 3
   },
   "file_extension": ".py",
   "mimetype": "text/x-python",
   "name": "python",
   "nbconvert_exporter": "python",
   "pygments_lexer": "ipython3",
   "version": "3.7.15"
  },
  "vscode": {
   "interpreter": {
    "hash": "d3caffbb123012c2d0622db402df9f37d80adc57c1cef1fdb856f61446d88d0a"
   }
  }
 },
 "nbformat": 4,
 "nbformat_minor": 2
}
