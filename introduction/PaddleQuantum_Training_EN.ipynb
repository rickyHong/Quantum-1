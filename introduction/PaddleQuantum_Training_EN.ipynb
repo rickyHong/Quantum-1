{
 "cells": [
  {
   "cell_type": "markdown",
   "metadata": {},
   "source": [
    "# Use Paddle Quantum to train a PQC\n",
    "\n",
    "_Copyright (c) 2023 Institute for Quantum Computing, Baidu Inc. All Rights Reserved._"
   ]
  },
  {
   "cell_type": "markdown",
   "metadata": {},
   "source": [
    "Variational Quantum Algorithms (VQA) refers to algorithms that solve specific problems by training a parameterized quantum circuit (PQC) using a classical optimizer. It can be seen as a natural analogy of machine learning in quantum computing. Therefore, a PQC is also referred to as a quantum neural network (QNN).\n",
    "\n",
    "Paddle Quantum provides a comprehensive and easy-to-use toolkit for training PQCs. Using Paddle Quantum, we take quantum state preparation as an example to introduce how to conveniently build a PQC, set parameters, and train the PQC using a classical optimizer."
   ]
  },
  {
   "cell_type": "markdown",
   "metadata": {},
   "source": [
    "## Construct a QNN"
   ]
  },
  {
   "cell_type": "markdown",
   "metadata": {},
   "source": [
    "Using the Circuit class in Paddle Quantum, we can construct a QNN by composing various quantum gates. Let's take a concrete example below."
   ]
  },
  {
   "cell_type": "code",
   "execution_count": 9,
   "metadata": {},
   "outputs": [],
   "source": [
    "# import packages\n",
    "import numpy as np\n",
    "import paddle\n",
    "from paddle_quantum.ansatz import Circuit\n",
    "from paddle_quantum.state import ghz_state\n",
    "from paddle_quantum.loss import StateFidelity\n",
    "import matplotlib.pyplot as plt\n",
    "import warnings\n",
    "warnings.filterwarnings(\"ignore\")"
   ]
  },
  {
   "cell_type": "code",
   "execution_count": 10,
   "metadata": {},
   "outputs": [
    {
     "name": "stdout",
     "output_type": "stream",
     "text": [
      "--Ry(1.332)----Rx(5.582)----*--------------x--\n",
      "                            |              |  \n",
      "--Ry(6.031)----Rx(1.548)----x----*---------|--\n",
      "                                 |         |  \n",
      "--Ry(5.681)----Rx(4.597)---------x----*----|--\n",
      "                                      |    |  \n",
      "--Ry(4.998)----Rx(6.073)--------------x----*--\n",
      "                                              \n"
     ]
    }
   ],
   "source": [
    "# construct a blank quantum circuit on 4 qubits\n",
    "cir_1 = Circuit(4)\n",
    "\n",
    "# add a layer of Ry, Rx and CNOT gates\n",
    "cir_1.ry()    # default：qubits_idx='full'，i.e., add such a single-qubit quantum gate to all qubits. The training parameters are initialized randomly\n",
    "cir_1.rx()\n",
    "cir_1.cnot()  # default：qubits_idx='cycle'，i.e., add such a two-qubit quantum gate to all pairs of neighboring qubits\n",
    "\n",
    "# print the constructed circuit\n",
    "print(cir_1)"
   ]
  },
  {
   "cell_type": "markdown",
   "metadata": {},
   "source": [
    "In the example above, quantum gates are added to all qubits by default in a layer-wise manner, which is a common method for constructing QNNs. Similar to classical neural networks, each layer of quantum gates can be referred to as a training layer. If we want to specify the qubits on which a certain quantum gate acts, we can simply change the qubits_idx parameter."
   ]
  },
  {
   "cell_type": "code",
   "execution_count": 11,
   "metadata": {},
   "outputs": [
    {
     "name": "stdout",
     "output_type": "stream",
     "text": [
      "--Ry(2.892)----*-------\n",
      "               |       \n",
      "--Rx(3.203)----x----x--\n",
      "                    |  \n",
      "--Ry(6.145)---------*--\n",
      "                       \n"
     ]
    }
   ],
   "source": [
    "# construct a blank quantum circuit\n",
    "cir_2 = Circuit(3)\n",
    "\n",
    "# add quantum gates in a specific way\n",
    "cir_2.ry(qubits_idx='even')           # add such a single-qubit quantum gate to all even-numbered qubits\n",
    "cir_2.rx(qubits_idx=1)                # add quantum gates by specifying the qubit index\n",
    "cir_2.cnot(qubits_idx=[[0,1],[2,1]])  # add quantum gates by specifying the qubit indices, where the former is the control qubit and the latter is the target qubit\n",
    "\n",
    "# print the constructed circuit\n",
    "print(cir_2)"
   ]
  },
  {
   "cell_type": "markdown",
   "metadata": {},
   "source": [
    "Paddle Quantum also provides built-in templates for common training layers, which make it easier for users to quickly construct QNNs. Other templates can be found in the [Paddle Quantum API](https://qml.baidu.com/api/paddle_quantum.ansatz.circuit.html)."
   ]
  },
  {
   "cell_type": "code",
   "execution_count": 12,
   "metadata": {},
   "outputs": [
    {
     "name": "stdout",
     "output_type": "stream",
     "text": [
      "--Ry(5.156)----*--------------x----Ry(3.702)----*--------------x----U----*--------------x--\n",
      "               |              |                 |              |         |              |  \n",
      "--Ry(0.102)----x----*---------|----Ry(5.598)----x----*---------|----U----x----*---------|--\n",
      "                    |         |                      |         |              |         |  \n",
      "--Ry(4.582)---------x----*----|----Ry(0.862)---------x----*----|----U---------x----*----|--\n",
      "                         |    |                           |    |                   |    |  \n",
      "--Ry(3.816)--------------x----*----Ry(2.835)--------------x----*----U--------------x----*--\n",
      "                                                                                           \n"
     ]
    }
   ],
   "source": [
    "# construct a blank quantum circuit\n",
    "cir_3 = Circuit(4)\n",
    "\n",
    "# add two layers of the built-in template real_entangled_layer: each layer contains a layer of Ry gates and a layer of CNOT gates\n",
    "cir_3.real_entangled_layer(depth=2)\n",
    "# add one layer of the built-in template complex_entangled_layer: each layer contains a layer of U3 gates and a layer of CNOT gates\n",
    "cir_3.complex_entangled_layer(depth=1)\n",
    "\n",
    "# print the constructed circuit\n",
    "print(cir_3)"
   ]
  },
  {
   "cell_type": "markdown",
   "metadata": {},
   "source": [
    "## Set parameters in QNNs"
   ]
  },
  {
   "cell_type": "markdown",
   "metadata": {},
   "source": [
    "In the above example, the parameters in the QNN are initialized randomly by default. We can retrieve the values of the existing parameters in the circuit and store them in an array by accessing the param property."
   ]
  },
  {
   "cell_type": "code",
   "execution_count": 13,
   "metadata": {},
   "outputs": [
    {
     "name": "stdout",
     "output_type": "stream",
     "text": [
      "--Ry(3.633)--\n",
      "             \n",
      "--Ry(4.663)--\n",
      "             \n",
      "Tensor(shape=[2], dtype=float32, place=Place(cpu), stop_gradient=False,\n",
      "       [3.63321853, 4.66316223])\n"
     ]
    }
   ],
   "source": [
    "# construct a blank quantum circuit\n",
    "cir_4 = Circuit(2)\n",
    "# add a layer of Ry gates\n",
    "cir_4.ry()\n",
    "# print the constructed circuit\n",
    "print(cir_4)\n",
    "# print the values of the parameters in the circuit\n",
    "print(cir_4.param)"
   ]
  },
  {
   "cell_type": "markdown",
   "metadata": {},
   "source": [
    "In addition, we can manually set the values of the parameters in the circuit by executing the update_param() method."
   ]
  },
  {
   "cell_type": "code",
   "execution_count": 14,
   "metadata": {},
   "outputs": [
    {
     "name": "stdout",
     "output_type": "stream",
     "text": [
      "--Ry(0.100)--\n",
      "             \n",
      "--Ry(0.200)--\n",
      "             \n",
      "Tensor(shape=[2], dtype=float32, place=Place(cpu), stop_gradient=False,\n",
      "       [0.10000000, 0.20000000])\n"
     ]
    }
   ],
   "source": [
    "# create an array of new parameters\n",
    "theta_new = paddle.to_tensor([0.1, 0.2], dtype='float32')\n",
    "# update the parameters in the circuit\n",
    "cir_4.update_param(theta_new)\n",
    "# print the constructed circuit\n",
    "print(cir_4)\n",
    "# print the values of the parameters in the circuit\n",
    "print(cir_4.param)"
   ]
  },
  {
   "cell_type": "markdown",
   "metadata": {},
   "source": [
    "## Use a classical optimizer to train a QNN"
   ]
  },
  {
   "cell_type": "markdown",
   "metadata": {},
   "source": [
    "After constructing the QNN, we can define a loss function as needed and call the classical optimizer to train this QNN. Here we use QNNs to learn a GHZ state, and use the fidelity distance as the loss function."
   ]
  },
  {
   "cell_type": "code",
   "execution_count": 15,
   "metadata": {},
   "outputs": [
    {
     "name": "stdout",
     "output_type": "stream",
     "text": [
      "iter: 0,   loss: 0.0379\n",
      "iter: 5,   loss: 0.0226\n",
      "iter: 10,   loss: 0.0126\n",
      "iter: 15,   loss: 0.0065\n",
      "iter: 20,   loss: 0.0032\n",
      "iter: 25,   loss: 0.0014\n",
      "iter: 30,   loss: 0.0005\n",
      "iter: 35,   loss: 0.0003\n",
      "iter: 40,   loss: 0.0003\n",
      "iter: 45,   loss: 0.0003\n",
      "iter: 50,   loss: 0.0002\n",
      "iter: 55,   loss: 0.0001\n",
      "iter: 60,   loss: 0.0000\n",
      "iter: 65,   loss: 0.0001\n",
      "iter: 70,   loss: 0.0000\n",
      "iter: 75,   loss: 0.0000\n",
      "iter: 80,   loss: 0.0000\n",
      "iter: 85,   loss: 0.0000\n",
      "iter: 90,   loss: 0.0000\n",
      "iter: 95,   loss: 0.0000\n"
     ]
    }
   ],
   "source": [
    "# define the hyperparameters in the training\n",
    "ITR = 100    # training iteration number\n",
    "LR = 0.02    # learning rate\n",
    "\n",
    "# define a PQC\n",
    "cir = Circuit(4)\n",
    "cir.ry()\n",
    "cir.rx()\n",
    "cir.cnot()\n",
    "\n",
    "# define the form of the loss function. Here we use the fidelity distance between the output state from the circuit and the GHZ state\n",
    "loss_func = StateFidelity(ghz_state(4))\n",
    "# choose a classical optimizer, where we usually use Adam\n",
    "opt = paddle.optimizer.Adam(learning_rate=LR, parameters=cir.parameters())\n",
    "# create a list to record the training process\n",
    "loss_list = []\n",
    "# start iteration of optimization\n",
    "for itr in range(ITR):\n",
    "    # run the circuit, get the output state, compute the loss value\n",
    "    loss = loss_func(cir())\n",
    "    # backward propagating，compute the gradient\n",
    "    loss.backward()\n",
    "    # minimize the loss function, update the parameters\n",
    "    opt.minimize(loss)\n",
    "    opt.clear_grad()\n",
    "    # record the loss value\n",
    "    loss_list.append(loss.numpy().item())\n",
    "    if itr % 5 == 0:\n",
    "        print(f'iter: {itr},   loss: {loss.numpy().item():.4f}')"
   ]
  },
  {
   "cell_type": "code",
   "execution_count": 16,
   "metadata": {},
   "outputs": [
    {
     "name": "stdout",
     "output_type": "stream",
     "text": [
      "--Ry(5.709)----Rx(3.130)----*--------------x--\n",
      "                            |              |  \n",
      "--Ry(4.281)----Rx(0.462)----x----*---------|--\n",
      "                                 |         |  \n",
      "--Ry(3.437)----Rx(-0.01)---------x----*----|--\n",
      "                                      |    |  \n",
      "--Ry(0.000)----Rx(3.140)--------------x----*--\n",
      "                                              \n"
     ]
    },
    {
     "data": {
      "image/png": "[encoded data removed]",
      "text/plain": [
       "<Figure size 640x480 with 1 Axes>"
      ]
     },
     "metadata": {},
     "output_type": "display_data"
    }
   ],
   "source": [
    "# output the PQC after training\n",
    "print(cir)\n",
    "\n",
    "# plot the loss value as a function of the iteration number\n",
    "func = plt.plot(loss_list)\n",
    "plt.xlabel('Iterations')\n",
    "plt.ylabel('Loss')\n",
    "plt.show()"
   ]
  },
  {
   "cell_type": "markdown",
   "metadata": {},
   "source": [
    "We can find that the fidelity distance converges near zero as the training proceeds, which means that the output state of the PQC is very close to the target state, and hence we have successfully trained a quantum circuit that can prepare the target state."
   ]
  }
 ],
 "metadata": {
  "kernelspec": {
   "display_name": "Python 3 (ipykernel)",
   "language": "python",
   "name": "python3"
  },
  "language_info": {
   "codemirror_mode": {
    "name": "ipython",
    "version": 3
   },
   "file_extension": ".py",
   "mimetype": "text/x-python",
   "name": "python",
   "nbconvert_exporter": "python",
   "pygments_lexer": "ipython3",
   "version": "3.8.16"
  }
 },
 "nbformat": 4,
 "nbformat_minor": 2
}
