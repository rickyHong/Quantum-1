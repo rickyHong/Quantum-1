{
 "cells": [
  {
   "attachments": {},
   "cell_type": "markdown",
   "metadata": {},
   "source": [
    "# 利用量桨的 ansatz 模块构造量子电路\n",
    "\n",
    "_Copyright (c) 2023 Institute for Quantum Computing, Baidu Inc. All Rights Reserved._"
   ]
  },
  {
   "attachments": {},
   "cell_type": "markdown",
   "metadata": {},
   "source": [
    "`ansatz` 是基于量桨推出的用于实现各种电路拟设功能的工具集。`ansatz` 为量子计算领域的研究者提供了一系列的工具，使他们可以通过设计量子电路实现量子算法等任务。同时，`ansatz` 也提供了方便开发者进行功能扩展的方式。目前 `ansatz` 仍在不断完善，您可以将需求和建议通过 GitHub 的 issue 或 pull request 反馈给我们，我们会及时给出回复。"
   ]
  },
  {
   "attachments": {},
   "cell_type": "markdown",
   "metadata": {},
   "source": [
    "## 搭建量子电路"
   ]
  },
  {
   "attachments": {},
   "cell_type": "markdown",
   "metadata": {},
   "source": [
    "量桨提供以下三种方式搭建量子电路：\n",
    "- **直接利用量子门构造：** 量子电路可以表示为一些单比特量子旋转门和双比特门的组合，量桨中提供了包含 $R_y, R_x, R_z$ 单比特旋转门、双比特 CNOT 门等在内的多种量子门，具体可参见[量桨 API](https://qml.baidu.com/api/paddle_quantum.ansatz.circuit.html)，利用这些量子门我们可以直接搭建量子电路；\n",
    "- **通过设置 Oracle 构造：** 除了利用量桨提供的量子门构造量子电路外，对于一些量桨上没有的量子门，我们可以以通过利用酉算子构造 Oracle 再将其放置于电路中的方式搭建量子电路；\n",
    "- **通过内置模板构造：** 量桨中提供了多种内置的参数化量子电路模板可以直接用于搭建量子电路，详细模板可参见[量桨 API](https://qml.baidu.com/api/paddle_quantum.ansatz.circuit.html)。"
   ]
  },
  {
   "attachments": {},
   "cell_type": "markdown",
   "metadata": {},
   "source": [
    "让我们从具体的例子出发了解量桨中搭建量子电路的方法，下面演示了利用 `ansatz` 中的 `Circuit` 构造量子电路。"
   ]
  },
  {
   "cell_type": "code",
   "execution_count": 1,
   "metadata": {},
   "outputs": [
    {
     "name": "stderr",
     "output_type": "stream",
     "text": [
      "d:\\programs\\Anaconda\\envs\\pq\\lib\\site-packages\\openfermion\\hamiltonians\\hartree_fock.py:11: DeprecationWarning: Please use `OptimizeResult` from the `scipy.optimize` namespace, the `scipy.optimize.optimize` namespace is deprecated.\n",
      "  from scipy.optimize.optimize import OptimizeResult\n",
      "d:\\programs\\Anaconda\\envs\\pq\\lib\\site-packages\\paddle\\tensor\\creation.py:125: DeprecationWarning: `np.object` is a deprecated alias for the builtin `object`. To silence this warning, use `object` by itself. Doing this will not modify any behavior and is safe. \n",
      "Deprecated in NumPy 1.20; for more details and guidance: https://numpy.org/devdocs/release/1.20.0-notes.html#deprecations\n",
      "  if data.dtype == np.object:\n",
      "d:\\programs\\Anaconda\\envs\\pq\\lib\\site-packages\\paddle\\tensor\\creation.py:125: DeprecationWarning: `np.object` is a deprecated alias for the builtin `object`. To silence this warning, use `object` by itself. Doing this will not modify any behavior and is safe. \n",
      "Deprecated in NumPy 1.20; for more details and guidance: https://numpy.org/devdocs/release/1.20.0-notes.html#deprecations\n",
      "  if data.dtype == np.object:\n"
     ]
    }
   ],
   "source": [
    "import numpy as np\n",
    "import scipy\n",
    "import paddle\n",
    "from paddle_quantum.gate import RY, RX, RZ\n",
    "from paddle_quantum.ansatz import Circuit\n",
    "from paddle_quantum.state import ghz_state\n",
    "import warnings\n",
    "warnings.filterwarnings(\"ignore\")"
   ]
  },
  {
   "attachments": {},
   "cell_type": "markdown",
   "metadata": {},
   "source": [
    "### 直接利用量子门构造量子电路"
   ]
  },
  {
   "attachments": {},
   "cell_type": "markdown",
   "metadata": {},
   "source": [
    "下面演示构造单比特量子电路生成量子态 $\\frac{1}{\\sqrt{2}}(\\ket{0}+\\ket{1})$。"
   ]
  },
  {
   "cell_type": "code",
   "execution_count": 2,
   "metadata": {},
   "outputs": [
    {
     "name": "stdout",
     "output_type": "stream",
     "text": [
      "Tensor(shape=[2, 1], dtype=complex64, place=Place(cpu), stop_gradient=True,\n",
      "       [[(0.7071067690849304+0j)],\n",
      "        [(0.7071067690849304+0j)]])\n"
     ]
    }
   ],
   "source": [
    "# 创建单比特量子电路\n",
    "cir = Circuit(1)\n",
    "\n",
    "# 设置 Hadamard 门\n",
    "cir.h(0)\n",
    "\n",
    "# 输出量子态，量桨中默认输入态为零态\n",
    "output_state = cir()\n",
    "print(output_state.ket)"
   ]
  },
  {
   "attachments": {},
   "cell_type": "markdown",
   "metadata": {},
   "source": [
    "### 通过设置 Oracle 构造量子电路"
   ]
  },
  {
   "attachments": {},
   "cell_type": "markdown",
   "metadata": {},
   "source": [
    "下面演示利用构造 Oracle 的方式构建电路实现 $e^{-i\\frac{\\phi}{2}Z}$ 的演化过程，设置输入态 $\\ket{\\psi}=\\frac{1}{\\sqrt{2}}(\\ket{0}+\\ket{1})$，则输出量子态为 $e^{-i\\frac{\\phi}{2}Z}\\ket{\\psi}$，其中 $Z$ 为 Pauli $Z$ 算符。"
   ]
  },
  {
   "cell_type": "code",
   "execution_count": 3,
   "metadata": {},
   "outputs": [],
   "source": [
    "def oracle_cir(num_qubits: int, phi: float) -> Circuit:\n",
    "    r\"\"\" 通过设置 Oracle 的方式构造量子电路\n",
    "    \n",
    "    Args:\n",
    "        num_qubits: 量子电路的量子比特数\n",
    "        phi: 未知参数输入\n",
    "\n",
    "    Returns:\n",
    "        利用 Oracle 创建完成的量子电路\n",
    "        \n",
    "    \"\"\"\n",
    "    # 生成酉算子\n",
    "    z = np.array([[1, 0],\n",
    "                  [0, -1]])\n",
    "    oracle_unitary = paddle.to_tensor(scipy.linalg.expm(-1j * z * phi / 2))\n",
    "    # 创建量子电路\n",
    "    cir_oracle = Circuit(num_qubits)\n",
    "    # 添加 Oracle\n",
    "    cir_oracle.oracle(oracle_unitary, 0)  \n",
    "\n",
    "    return cir_oracle"
   ]
  },
  {
   "cell_type": "code",
   "execution_count": 4,
   "metadata": {},
   "outputs": [
    {
     "name": "stdout",
     "output_type": "stream",
     "text": [
      "经过量子电路后的输出态为：\n",
      " Tensor(shape=[2, 1], dtype=complex64, place=Place(cpu), stop_gradient=True,\n",
      "       [[(0.6893781423568726-0.15734605491161346j)],\n",
      "        [(0.6893781423568726+0.15734605491161346j)]])\n"
     ]
    }
   ],
   "source": [
    "# 设置参数\n",
    "PHI = np.pi / 7\n",
    "NUM_QUBITS = 1\n",
    "PSI = ghz_state(1)\n",
    "CIR = oracle_cir(NUM_QUBITS, PHI)\n",
    "# 输出量子态\n",
    "print('经过量子电路后的输出态为：\\n', CIR(PSI).ket)"
   ]
  },
  {
   "attachments": {},
   "cell_type": "markdown",
   "metadata": {},
   "source": [
    "### 内置模板构造量子电路"
   ]
  },
  {
   "attachments": {},
   "cell_type": "markdown",
   "metadata": {},
   "source": [
    "下面我们演示在量桨中如何利用内置模板搭建量子电路，这里我们选择的是表达能力较强的 `complex_entangled_layer`，其他模板可参见[量桨 API](https://qml.baidu.com/api/paddle_quantum.ansatz.circuit.html)。"
   ]
  },
  {
   "cell_type": "code",
   "execution_count": 5,
   "metadata": {},
   "outputs": [
    {
     "name": "stdout",
     "output_type": "stream",
     "text": [
      "--U----*---------x--\n",
      "       |         |  \n",
      "--U----x----*----|--\n",
      "            |    |  \n",
      "--U---------x----*--\n",
      "                    \n"
     ]
    }
   ],
   "source": [
    "N = 3  # 设置量子比特数\n",
    "D = 1  # 设置内置模板的层数\n",
    "\n",
    "# 初始化量子电路\n",
    "cir_ent_layer = Circuit(N) \n",
    "# 搭建内置模板 complex_entangled_layer\n",
    "cir_ent_layer.complex_entangled_layer(depth=D)\n",
    "# 输出量子电路\n",
    "print(cir_ent_layer)"
   ]
  },
  {
   "attachments": {},
   "cell_type": "markdown",
   "metadata": {},
   "source": [
    "## 量子电路的具体构造"
   ]
  },
  {
   "attachments": {},
   "cell_type": "markdown",
   "metadata": {},
   "source": [
    "### 可视化量子电路"
   ]
  },
  {
   "attachments": {},
   "cell_type": "markdown",
   "metadata": {},
   "source": [
    "上一部分中输出了内置模板的量子电路，下面我们详细介绍在量桨中如何可视化量子电路。量桨提供了两种电路输出方式：`print(your_cir)` 和 `your_cir.plot()`。第一种方式由线条和量子门的符号表示，形式简单，便于展示复杂电路；第二种方式用方框表示量子门，形式直观。我们以生成 GHZ 态的电路为例，展示两种电路输出形式。"
   ]
  },
  {
   "cell_type": "code",
   "execution_count": 6,
   "metadata": {},
   "outputs": [],
   "source": [
    "def gen_ghz_cir(num_qubits: int) -> Circuit:\n",
    "    r\"\"\" 生成 GHZ 态的量子电路\n",
    "    \n",
    "    Args:\n",
    "        num_qubits: 量子电路的量子比特数\n",
    "\n",
    "    Returns:\n",
    "        生成 GHZ 态的量子电路\n",
    "        \n",
    "    \"\"\"    \n",
    "    # 创建量子电路\n",
    "    ghz_cir = Circuit(num_qubits)\n",
    "    # 设置 Hadamard 门\n",
    "    ghz_cir.h(0)\n",
    "    # 设置 CNOT 门\n",
    "    for i in range(1, num_qubits):\n",
    "        ghz_cir.cnot([0, i])\n",
    "\n",
    "    return ghz_cir"
   ]
  },
  {
   "attachments": {},
   "cell_type": "markdown",
   "metadata": {},
   "source": [
    "下面我们利用构造的电路生成 $3$ 量子比特的 GHZ 态 $\\frac{1}{\\sqrt{2}}(\\ket{000}+\\ket{111})$。"
   ]
  },
  {
   "cell_type": "code",
   "execution_count": 7,
   "metadata": {},
   "outputs": [
    {
     "name": "stdout",
     "output_type": "stream",
     "text": [
      "经过量子电路后的输出态为：\n",
      " Tensor(shape=[8, 1], dtype=complex64, place=Place(cpu), stop_gradient=True,\n",
      "       [[(0.7071067690849304+0j)],\n",
      "        [0j                     ],\n",
      "        [0j                     ],\n",
      "        [0j                     ],\n",
      "        [0j                     ],\n",
      "        [0j                     ],\n",
      "        [0j                     ],\n",
      "        [(0.7071067690849304+0j)]])\n"
     ]
    }
   ],
   "source": [
    "# 调用生成 GHZ 态的函数\n",
    "ghz_3_cir = gen_ghz_cir(3)\n",
    "# 输出量子态，量桨默认输入态为零态\n",
    "ghz_3_state = ghz_3_cir()\n",
    "print('经过量子电路后的输出态为：\\n', ghz_3_state.ket)"
   ]
  },
  {
   "attachments": {},
   "cell_type": "markdown",
   "metadata": {},
   "source": [
    "可视化量子电路的两种方式："
   ]
  },
  {
   "cell_type": "code",
   "execution_count": 8,
   "metadata": {},
   "outputs": [
    {
     "name": "stdout",
     "output_type": "stream",
     "text": [
      "第一种量子电路输出方式：\n",
      "\n",
      "--H----*----*--\n",
      "       |    |  \n",
      "-------x----|--\n",
      "            |  \n",
      "------------x--\n",
      "               \n",
      "第二种量子电路输出方式：\n",
      "\n"
     ]
    },
    {
     "data": {
      "image/png": "[encoded data removed]",
      "text/plain": [
       "<Figure size 104x165 with 1 Axes>"
      ]
     },
     "metadata": {},
     "output_type": "display_data"
    }
   ],
   "source": [
    "# 输出量子电路\n",
    "print('第一种量子电路输出方式：')\n",
    "print()\n",
    "print(ghz_3_cir)\n",
    "print('第二种量子电路输出方式：\\n')\n",
    "ghz_3_cir.plot()"
   ]
  },
  {
   "attachments": {},
   "cell_type": "markdown",
   "metadata": {},
   "source": [
    "### 量子门的一般性构造"
   ]
  },
  {
   "attachments": {},
   "cell_type": "markdown",
   "metadata": {},
   "source": [
    "接下来，我们以在量子电路中设置单比特 $R_y, R_x, R_z$ 门和两比特 CNOT 门为例，展示如何进行添加或删减量子门的一般性构造。"
   ]
  },
  {
   "cell_type": "code",
   "execution_count": 9,
   "metadata": {},
   "outputs": [
    {
     "name": "stdout",
     "output_type": "stream",
     "text": [
      "添加量子门后的电路为：\n"
     ]
    },
    {
     "data": {
      "image/png": "[encoded data removed]",
      "text/plain": [
       "<Figure size 294x165 with 1 Axes>"
      ]
     },
     "metadata": {},
     "output_type": "display_data"
    },
    {
     "name": "stdout",
     "output_type": "stream",
     "text": [
      "删除量子门后的电路为：\n"
     ]
    },
    {
     "data": {
      "image/png": "[encoded data removed]",
      "text/plain": [
       "<Figure size 204x165 with 1 Axes>"
      ]
     },
     "metadata": {},
     "output_type": "display_data"
    }
   ],
   "source": [
    "# 创建 3 量子比特电路\n",
    "cir = Circuit(3)\n",
    "# 设置参数并自定义量子门，这里我们选择 Ry, Rx, Rz 门\n",
    "param = np.random.rand(2)\n",
    "ry_gate = RY(param=param, qubits_idx=[0, 2])  # 参数可选填，默认情况下 RY 类随机生成一组参数\n",
    "rx_gate = RX(param=param, qubits_idx=[0, 1])\n",
    "rz_gate = RZ(param=param, qubits_idx=[1, 2])\n",
    "# 在量子电路中插入量子门\n",
    "cir.append(ry_gate)\n",
    "cir.append(rx_gate)\n",
    "cir.insert(index=2, operator=rz_gate)  # index 指定插入的位置，operator 指定插入的量子门\n",
    "# 输出量子电路，这里我们选择较直观的 plot 方法\n",
    "print('添加量子门后的电路为：')\n",
    "cir.plot()\n",
    "\n",
    "# 在量子电路中删除 Rx 门\n",
    "cir.pop(index=1, operator=rx_gate)  # index 指定删除的位置，operator 指定删除的量子门，该参数可选择输入\n",
    "print('删除量子门后的电路为：')\n",
    "cir.plot()"
   ]
  },
  {
   "attachments": {},
   "cell_type": "markdown",
   "metadata": {},
   "source": [
    "除了利用 `append` 这类方法插入量子门外，还可以用下述方式实现量子门的设置："
   ]
  },
  {
   "cell_type": "code",
   "execution_count": 10,
   "metadata": {},
   "outputs": [
    {
     "data": {
      "image/png": "[encoded data removed]",
      "text/plain": [
       "<Figure size 414x165 with 1 Axes>"
      ]
     },
     "metadata": {},
     "output_type": "display_data"
    }
   ],
   "source": [
    "# 创建 3 量子比特电路\n",
    "cir = Circuit(3)\n",
    "# 设置参数\n",
    "theta = np.full([2], np.pi)\n",
    "# 设置量子门\n",
    "# 单量子比特 Ry 门\n",
    "cir.ry(qubits_idx='full', param=theta[0])  # qubits_idx='full' 指定量子门作用在所有编号的量子比特上，单比特量子门的 qubits_idx 默认为 full；param 指定输入参数，默认情况下由 Ry 门随机生成\n",
    "# 两量子比特 CNOT 门\n",
    "cir.cnot(qubits_idx='linear')  # qubits_idx='linear' 指定量子门作用方式为 linear，多比特量子门的 qubits_idx 默认为 cycle\n",
    "# 单量子比特 Rx 门\n",
    "cir.rx(qubits_idx='even')  # qubits_idx='even' 指定量子门作用在编号为偶数的量子比特上，默认为 full；param 指定输入参数，默认情况下由 Rx 门随机生成\n",
    "# 两量子比特 CNOT 门\n",
    "cir.cnot(qubits_idx='cycle')  # qubits_idx='cycle' 指定量子门作用方式为 cycle，多比特量子门的 qubits_idx 默认为 cycle\n",
    "# 单量子比特 Rz 门\n",
    "cir.rz(qubits_idx='odd', param=theta[1])  # qubits_idx='odd' 指定量子门作用在编号为奇数的量子比特上，默认为 full；param 指定输入参数，默认情况下由 Rz 门随机生成\n",
    "# 两量子比特 CNOT 门\n",
    "cir.cnot([0, 2])  # qubits_idx 为 list 指定量子门作用在编号为 0 和 2 的量子比特上，其中 0 为控制位 2 为受控位\n",
    "# 输出量子电路\n",
    "cir.plot()"
   ]
  },
  {
   "attachments": {},
   "cell_type": "markdown",
   "metadata": {},
   "source": [
    "前面提到的构造量子电路都需要给定量子电路大小，即量子比特数，除了这种方式外，量桨还提供了不需要输入量子比特数的动态电路构造方式，下面我们给出一简单示例来展示该类型电路的构造方法。"
   ]
  },
  {
   "cell_type": "code",
   "execution_count": 11,
   "metadata": {},
   "outputs": [
    {
     "data": {
      "image/png": "[encoded data removed]",
      "text/plain": [
       "<Figure size 154x110 with 1 Axes>"
      ]
     },
     "metadata": {},
     "output_type": "display_data"
    },
    {
     "data": {
      "image/png": "[encoded data removed]",
      "text/plain": [
       "<Figure size 324x220 with 1 Axes>"
      ]
     },
     "metadata": {},
     "output_type": "display_data"
    }
   ],
   "source": [
    "cir = Circuit()  # 未指定电路大小\n",
    "cir.ry([0, 1])  # 电路大小更新为 2\n",
    "cir.h()  # 以总比特数为 2 设置 Hadamard 门\n",
    "cir.plot()  # 绘制此时的 2 比特电路\n",
    "cir.rx([2, 3])  # 电路大小根据量子门的添加更新为 4\n",
    "cir.cnot()  # 以总比特数为 4 设置 CNOT 门\n",
    "cir.plot()  # 绘制更新后的 4 比特电路"
   ]
  }
 ],
 "metadata": {
  "kernelspec": {
   "display_name": "pq",
   "language": "python",
   "name": "python3"
  },
  "language_info": {
   "codemirror_mode": {
    "name": "ipython",
    "version": 3
   },
   "file_extension": ".py",
   "mimetype": "text/x-python",
   "name": "python",
   "nbconvert_exporter": "python",
   "pygments_lexer": "ipython3",
   "version": "3.8.13"
  },
  "orig_nbformat": 4
 },
 "nbformat": 4,
 "nbformat_minor": 2
}
