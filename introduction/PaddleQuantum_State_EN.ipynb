{
 "cells": [
  {
   "cell_type": "markdown",
   "metadata": {},
   "source": [
    "# Manipulate quantum states via Paddle Quantum's `state` module\n",
    "\n",
    "_Copyright (c) 2023 Institute for Quantum Computing, Baidu Inc. All Rights Reserved._\n",
    "\n",
    "The `state` module is a Paddle Quantum module that supports operations related to quantum states (`paddle_quantum.state.State`), mainly including the creation of quantum states and operations. The `state` module provides a number of interfaces for the user to create and edit quantum states and to interact with quantum circuits and measurements.\n",
    "\n",
    "## Creation of states\n",
    "User can create quantum states from existing data, or create special states by Paddle Quantum.\n",
    "First we can create quantum states from existing data."
   ]
  },
  {
   "cell_type": "code",
   "execution_count": 1,
   "metadata": {},
   "outputs": [
    {
     "name": "stderr",
     "output_type": "stream",
     "text": [
      "/Applications/anaconda3/envs/pq/lib/python3.8/site-packages/openfermion/hamiltonians/hartree_fock.py:11: DeprecationWarning: Please use `OptimizeResult` from the `scipy.optimize` namespace, the `scipy.optimize.optimize` namespace is deprecated.\n",
      "  from scipy.optimize.optimize import OptimizeResult\n",
      "/Applications/anaconda3/envs/pq/lib/python3.8/site-packages/paddle/tensor/creation.py:125: DeprecationWarning: `np.object` is a deprecated alias for the builtin `object`. To silence this warning, use `object` by itself. Doing this will not modify any behavior and is safe. \n",
      "Deprecated in NumPy 1.20; for more details and guidance: https://numpy.org/devdocs/release/1.20.0-notes.html#deprecations\n",
      "  if data.dtype == np.object:\n"
     ]
    },
    {
     "name": "stdout",
     "output_type": "stream",
     "text": [
      "[1.+0.j 0.+0.j]\n"
     ]
    },
    {
     "name": "stderr",
     "output_type": "stream",
     "text": [
      "/Applications/anaconda3/envs/pq/lib/python3.8/site-packages/paddle/tensor/creation.py:125: DeprecationWarning: `np.object` is a deprecated alias for the builtin `object`. To silence this warning, use `object` by itself. Doing this will not modify any behavior and is safe. \n",
      "Deprecated in NumPy 1.20; for more details and guidance: https://numpy.org/devdocs/release/1.20.0-notes.html#deprecations\n",
      "  if data.dtype == np.object:\n",
      "/Applications/anaconda3/envs/pq/lib/python3.8/site-packages/paddle/fluid/framework.py:1104: DeprecationWarning: `np.bool` is a deprecated alias for the builtin `bool`. To silence this warning, use `bool` by itself. Doing this will not modify any behavior and is safe. If you specifically wanted the numpy scalar type, use `np.bool_` here.\n",
      "Deprecated in NumPy 1.20; for more details and guidance: https://numpy.org/devdocs/release/1.20.0-notes.html#deprecations\n",
      "  elif dtype == np.bool:\n"
     ]
    }
   ],
   "source": [
    "import paddle\n",
    "import paddle_quantum as pq\n",
    "from paddle_quantum.backend import Backend\n",
    "\n",
    "state_vec = pq.state.to_state([1, 0])\n",
    "print(state_vec)"
   ]
  },
  {
   "cell_type": "markdown",
   "metadata": {},
   "source": [
    "The density matrix can also be created by specifying `backend`."
   ]
  },
  {
   "cell_type": "code",
   "execution_count": 2,
   "metadata": {},
   "outputs": [
    {
     "name": "stdout",
     "output_type": "stream",
     "text": [
      "[[0.5+0.j 0. +0.j]\n",
      " [0. +0.j 0.5+0.j]]\n"
     ]
    }
   ],
   "source": [
    "state_density = pq.state.State([[0.5, 0], [0, 0.5]], backend=Backend.DensityMatrix)\n",
    "print(state_density)"
   ]
  },
  {
   "attachments": {},
   "cell_type": "markdown",
   "metadata": {},
   "source": [
    "We can also create special types of quantum states by using the functions built into the Paddle Quantum. For example, we can create a single-qubit zero state."
   ]
  },
  {
   "cell_type": "code",
   "execution_count": 3,
   "metadata": {},
   "outputs": [
    {
     "name": "stdout",
     "output_type": "stream",
     "text": [
      "[1.+0.j 0.+0.j]\n"
     ]
    }
   ],
   "source": [
    "print(pq.state.zero_state(num_qubits=1))"
   ]
  },
  {
   "attachments": {},
   "cell_type": "markdown",
   "metadata": {},
   "source": [
    "Create a 2-qubit random state."
   ]
  },
  {
   "cell_type": "code",
   "execution_count": 4,
   "metadata": {},
   "outputs": [
    {
     "name": "stdout",
     "output_type": "stream",
     "text": [
      "[-0.00128883+0.02999492j  0.26680315-0.47462934j -0.22390576+0.8043244j\n",
      "  0.00640717+0.07435807j]\n"
     ]
    }
   ],
   "source": [
    "print(pq.state.random_state(num_qubits=2))"
   ]
  },
  {
   "cell_type": "markdown",
   "metadata": {},
   "source": [
    "In addition, the Paddle Quantum supports the creation of several other special quantum states. More detail can be found in [API ducument](https://qml.baidu.com/api/paddle_quantum.state.common.html). \n",
    "\n",
    "We can also set the global backend to be density matrix mode with a single line of code. Of course, we continue to use the default backend, i.e., the state vector, for this demonstration."
   ]
  },
  {
   "cell_type": "code",
   "execution_count": 5,
   "metadata": {},
   "outputs": [
    {
     "name": "stdout",
     "output_type": "stream",
     "text": [
      "[[1.+0.j 0.+0.j]\n",
      " [0.+0.j 0.+0.j]]\n"
     ]
    }
   ],
   "source": [
    "pq.set_backend('density_matrix') # set the global backend as density matrix\n",
    "print(pq.state.zero_state(num_qubits=1))\n",
    "pq.set_backend('state_vector')  # set back to the default backend"
   ]
  },
  {
   "cell_type": "markdown",
   "metadata": {},
   "source": [
    "## Data of states\n",
    "We can read the data in `State` by accessing `data`, `ket`, `bra`."
   ]
  },
  {
   "cell_type": "code",
   "execution_count": 6,
   "metadata": {},
   "outputs": [
    {
     "name": "stdout",
     "output_type": "stream",
     "text": [
      "Its data is : Tensor(shape=[2], dtype=complex64, place=Place(cpu), stop_gradient=True,\n",
      "       [(1+0j), 0j    ])\n",
      "Its ket is : Tensor(shape=[2, 1], dtype=complex64, place=Place(cpu), stop_gradient=True,\n",
      "       [[(1+0j)],\n",
      "        [0j    ]])\n",
      "Its bra is : Tensor(shape=[1, 2], dtype=complex64, place=Place(cpu), stop_gradient=True,\n",
      "       [[(1-0j), -0j   ]])\n"
     ]
    }
   ],
   "source": [
    "zero_state = pq.state.zero_state(num_qubits=1)\n",
    "print('Its data is :', zero_state.data)\n",
    "print('Its ket is :', zero_state.ket)\n",
    "print('Its bra is :', zero_state.bra)"
   ]
  },
  {
   "cell_type": "markdown",
   "metadata": {},
   "source": [
    "We can also use the method `numpy()` to output `numpy.ndarray` type data for `State`."
   ]
  },
  {
   "cell_type": "code",
   "execution_count": 7,
   "metadata": {},
   "outputs": [
    {
     "name": "stdout",
     "output_type": "stream",
     "text": [
      "[1.+0.j 0.+0.j]\n"
     ]
    }
   ],
   "source": [
    "print(zero_state.numpy())"
   ]
  },
  {
   "attachments": {},
   "cell_type": "markdown",
   "metadata": {},
   "source": [
    "## Operations of states\n",
    "We can get the product of two quantum states by matrix multiplication `@`, which makes calculating the overlap of two states easy."
   ]
  },
  {
   "cell_type": "code",
   "execution_count": 8,
   "metadata": {},
   "outputs": [
    {
     "name": "stdout",
     "output_type": "stream",
     "text": [
      "Tensor(shape=[2, 2], dtype=complex64, place=Place(cpu), stop_gradient=True,\n",
      "       [[0j, 0j],\n",
      "        [0j, 0j]])\n",
      "The overlap of state_1 and state_2 is : Tensor(shape=[1], dtype=complex64, place=Place(cpu), stop_gradient=True,\n",
      "       [0j])\n"
     ]
    }
   ],
   "source": [
    "state_1 = pq.state.zero_state(num_qubits=1, backend=Backend.DensityMatrix)\n",
    "state_2 = pq.state.to_state([[0, 0], [0, 1]], backend=Backend.DensityMatrix)\n",
    "print(state_1 @ state_2)\n",
    "print('The overlap of state_1 and state_2 is :', paddle.trace(state_1 @ state_2))"
   ]
  },
  {
   "cell_type": "markdown",
   "metadata": {},
   "source": [
    "User can also use `State.kron()` to find the tensor product $\\rho \\otimes \\sigma$ of the quantum states $\\rho$ and $\\sigma$."
   ]
  },
  {
   "cell_type": "code",
   "execution_count": 9,
   "metadata": {},
   "outputs": [
    {
     "name": "stdout",
     "output_type": "stream",
     "text": [
      "[0.+0.j 1.+0.j 0.+0.j 0.+0.j]\n"
     ]
    }
   ],
   "source": [
    "rho = pq.state.zero_state(num_qubits=1)\n",
    "sigma = pq.state.to_state([0, 1])\n",
    "product_state = rho.kron(sigma)\n",
    "print(product_state)"
   ]
  },
  {
   "attachments": {},
   "cell_type": "markdown",
   "metadata": {},
   "source": [
    "We can give partial trace on states by slicing or indexing. For example, we want to get the state of the first qubit of $|011\\rangle$ and the state of the last two qubits."
   ]
  },
  {
   "cell_type": "code",
   "execution_count": 10,
   "metadata": {},
   "outputs": [
    {
     "name": "stdout",
     "output_type": "stream",
     "text": [
      "[0.+0.j 0.+0.j 0.+0.j 1.+0.j 0.+0.j 0.+0.j 0.+0.j 0.+0.j]\n",
      "the state of the first qubit is : [1.+0.j 0.+0.j]\n",
      "the state of the second and third qubits is : [0.+0.j 0.+0.j 0.+0.j 1.+0.j]\n"
     ]
    }
   ],
   "source": [
    "psi_012 = pq.state.computational_basis(num_qubits=3, index=3)\n",
    "print(psi_012)\n",
    "\n",
    "psi_1 = psi_012[0]\n",
    "psi_12 = psi_012[1:]\n",
    "print('the state of the first qubit is :', psi_1)\n",
    "print('the state of the second and third qubits is :',psi_12)"
   ]
  },
  {
   "attachments": {},
   "cell_type": "markdown",
   "metadata": {},
   "source": [
    "## Measurement and evolution of states\n",
    "The method `State.evolve()` of a quantum state can give the final state of the quantum state under $e^{-iHt}$ evolution given the Hamiltonian $H$ and the evolution time $t$. Here we set the Hamiltonian to be the Pauli $Z$ matrix and the evolution time $t=1$."
   ]
  },
  {
   "cell_type": "code",
   "execution_count": 11,
   "metadata": {},
   "outputs": [
    {
     "name": "stdout",
     "output_type": "stream",
     "text": [
      "[0.5403023-0.84147096j 0.       +0.j        ]\n"
     ]
    }
   ],
   "source": [
    "state = pq.state.zero_state(num_qubits=1)\n",
    "t = 1\n",
    "hamiltonian = pq.hamiltonian.Hamiltonian([(1, 'Z0')])\n",
    "state.evolve(H=hamiltonian, t=t)\n",
    "print(state)"
   ]
  },
  {
   "cell_type": "markdown",
   "metadata": {},
   "source": [
    "The method `State.expec_val()` of states can calculate the expectation under given observables (Hamiltonian)."
   ]
  },
  {
   "cell_type": "code",
   "execution_count": 12,
   "metadata": {},
   "outputs": [
    {
     "name": "stdout",
     "output_type": "stream",
     "text": [
      "1.0\n"
     ]
    }
   ],
   "source": [
    "state = pq.state.zero_state(num_qubits=1)\n",
    "observable = pq.hamiltonian.Hamiltonian([(1, 'Z0')])\n",
    "print(state.expec_val(hamiltonian=observable))"
   ]
  },
  {
   "attachments": {},
   "cell_type": "markdown",
   "metadata": {},
   "source": [
    "`State.measure()` can give the measurement result in the computational basis. The user can set the `shots` value to simulate or make `shots=0` to calculate the expectation, or use the `plot` parameter to make a plot."
   ]
  },
  {
   "cell_type": "code",
   "execution_count": 13,
   "metadata": {},
   "outputs": [
    {
     "name": "stdout",
     "output_type": "stream",
     "text": [
      "Theoretical value is : {'0': 0.5, '1': 0.5}\n"
     ]
    },
    {
     "data": {
      "image/png": "[encoded data removed]",
      "text/plain": [
       "<Figure size 432x288 with 1 Axes>"
      ]
     },
     "metadata": {
      "needs_background": "light"
     },
     "output_type": "display_data"
    },
    {
     "data": {
      "text/plain": [
       "{'0': 0.5625, '1': 0.4375}"
      ]
     },
     "execution_count": 13,
     "metadata": {},
     "output_type": "execute_result"
    }
   ],
   "source": [
    "state = pq.state.to_state([[0.5, 0], [0, 0.5]], backend=Backend.DensityMatrix)\n",
    "print('Theoretical value is :', state.measure(shots=0))  # theoretical value\n",
    "state.measure(shots=16, plot=True)"
   ]
  }
 ],
 "metadata": {
  "kernelspec": {
   "display_name": "Python 3 (ipykernel)",
   "language": "python",
   "name": "python3"
  },
  "language_info": {
   "codemirror_mode": {
    "name": "ipython",
    "version": 3
   },
   "file_extension": ".py",
   "mimetype": "text/x-python",
   "name": "python",
   "nbconvert_exporter": "python",
   "pygments_lexer": "ipython3",
   "version": "3.8.13"
  }
 },
 "nbformat": 4,
 "nbformat_minor": 2
}
