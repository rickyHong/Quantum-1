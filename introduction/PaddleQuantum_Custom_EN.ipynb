{
 "cells": [
  {
   "attachments": {},
   "cell_type": "markdown",
   "metadata": {},
   "source": [
    "# Implement quantum operations using Paddle Quantum's `gate` and `channel`\n",
    "\n",
    "_Copyright (c) 2023 Institute for Quantum Computing, Baidu Inc. All Rights Reserved._\n",
    "\n",
    "The `gate` and `channel` modules allow basic quantum operations to be defined. They can act on a state object directly or be inserted into a quantum circuit. Paddle Quantum provides a list of common operations but customized ones can also be created."
   ]
  },
  {
   "cell_type": "code",
   "execution_count": 12,
   "metadata": {},
   "outputs": [],
   "source": [
    "import paddle_quantum\n",
    "from paddle_quantum.ansatz import Circuit\n",
    "from paddle_quantum.gate.custom import Oracle\n",
    "from paddle_quantum.channel import *\n",
    "from paddle_quantum.state.common import zero_state\n",
    "from paddle_quantum.qinfo import qft_generation, random_channel\n",
    "from paddle_quantum.linalg import dagger"
   ]
  },
  {
   "attachments": {},
   "cell_type": "markdown",
   "metadata": {},
   "source": [
    "## Custom gates\n",
    "Previously, we've seen how to create a gate object and insert it into a circuit. Users can also implement customized unitary operation using the Oracle class.\n",
    "\n",
    "For example, consider the n qubit inverse quantum Fourier transform (QFT), it's a unitary operation whose matrix is given by\n",
    "\n",
    "$$\n",
    "\\frac{1}{\\sqrt{N}}\\begin{pmatrix}\n",
    "    1 & 1 & 1 & \\ldots & 1  \\\\\n",
    "    1 & \\omega^{N-1} & \\omega^{N-2} & \\ldots & \\omega \\\\\n",
    "    1 & \\omega^{2(N-1)} & \\omega^{2(N-2)} & \\ldots & \\omega^2 \\\\\n",
    "    \\ldots & \\ldots & \\ldots & \\ldots & \\ldots \\\\\n",
    "    1 & \\omega^{(N-1)(N-1)} & \\omega^{(N-1)(N-2)} & \\ldots & \\omega^{N-1}\n",
    "\\end{pmatrix}\n",
    "$$\n",
    "\n",
    "where $N=2^n$ is the dimension of the Hilbert space and $\\omega = e^{2\\pi i/N}$."
   ]
  },
  {
   "attachments": {},
   "cell_type": "markdown",
   "metadata": {},
   "source": [
    "The following code creates an oracle that implements a 2-qubit inverse QFT."
   ]
  },
  {
   "cell_type": "code",
   "execution_count": 13,
   "metadata": {},
   "outputs": [],
   "source": [
    "unitary = qft_generation(2) # obtain matrix for 2-qubit QFT using Paddle Quantum's built-in function\n",
    "unitary = dagger(unitary) # obtain matrix for inverse QFT by calculating conjugate transpose of QFT matrix using Paddle Quantum's built-in function\n",
    "QFT_inverse = Oracle(unitary)"
   ]
  },
  {
   "attachments": {},
   "cell_type": "markdown",
   "metadata": {},
   "source": [
    "As a gate object, we can insert it into a circuit and print the circuit. "
   ]
  },
  {
   "cell_type": "code",
   "execution_count": 14,
   "metadata": {},
   "outputs": [
    {
     "data": {
      "image/png": "[encoded data removed]",
      "text/plain": [
       "<Figure size 194x165 with 1 Axes>"
      ]
     },
     "metadata": {},
     "output_type": "display_data"
    }
   ],
   "source": [
    "cir = Circuit(3)\n",
    "cir.h()\n",
    "cir.cnot([0,1])\n",
    "cir.append(QFT_inverse) # insert the oracle\n",
    "cir.cnot([2,1])\n",
    "cir.plot()"
   ]
  },
  {
   "attachments": {},
   "cell_type": "markdown",
   "metadata": {},
   "source": [
    "**Note**: to print the oracle, it must not be disconnected, otherwise error message will be displayed."
   ]
  },
  {
   "attachments": {},
   "cell_type": "markdown",
   "metadata": {},
   "source": [
    "\n",
    "To change how the oracle is printed, users can modify the content of gate_info. Users can change the name of the oracle printed and the width of the gate in the plot."
   ]
  },
  {
   "cell_type": "code",
   "execution_count": 15,
   "metadata": {},
   "outputs": [
    {
     "data": {
      "image/png": "[encoded data removed]",
      "text/plain": [
       "<Figure size 254x165 with 1 Axes>"
      ]
     },
     "metadata": {},
     "output_type": "display_data"
    }
   ],
   "source": [
    "gate_info = {\n",
    "    'texname': r'$QFT^{\\dagger}$', # change the name of the oracle when printing the circuit\n",
    "    'plot_width': 1.5, # change the width of the box representing the oracle\n",
    "}\n",
    "# update gate_info of the oracle\n",
    "QFT_inverse.gate_info.update(gate_info)\n",
    "# create the same circuit as before\n",
    "cir = Circuit(3)\n",
    "cir.h()\n",
    "cir.cnot([0,1])\n",
    "cir.append(QFT_inverse) # insert the oracle gate\n",
    "cir.cnot([2,1])\n",
    "cir.plot()"
   ]
  },
  {
   "attachments": {},
   "cell_type": "markdown",
   "metadata": {},
   "source": [
    "Another way of inserting an oracle into a circuit is by calling `Circuit.oracle` directly when creating the circuit."
   ]
  },
  {
   "cell_type": "code",
   "execution_count": 16,
   "metadata": {},
   "outputs": [
    {
     "data": {
      "image/png": "[encoded data removed]",
      "text/plain": [
       "<Figure size 254x165 with 1 Axes>"
      ]
     },
     "metadata": {},
     "output_type": "display_data"
    }
   ],
   "source": [
    "cir=Circuit(3)\n",
    "cir.h()\n",
    "cir.cnot([0,1])\n",
    "# call cir.oracle directly to create an oracle gate, its gate_info can also be specified when creating\n",
    "cir.oracle(unitary, qubits_idx=[0,1], latex_name=r'$QFT^{\\dagger}$', plot_width=1.5) \n",
    "cir.cnot([2,1])\n",
    "cir.plot()"
   ]
  },
  {
   "attachments": {},
   "cell_type": "markdown",
   "metadata": {},
   "source": [
    "## Channel\n",
    "\n",
    "Paddle Quantum also supports channel as the most general quantum operation.\n",
    "\n",
    "There are two ways of creating a channel. Users can either create one of the common channels provided by Paddle Quantum, or create a custom channel."
   ]
  },
  {
   "attachments": {},
   "cell_type": "markdown",
   "metadata": {},
   "source": [
    "**Note**: Unlike `gate` object which supports both in `'state_vector'` and `'density_matrix'` backend, `channel` must be used in `'density_matrix'` backend."
   ]
  },
  {
   "cell_type": "code",
   "execution_count": 17,
   "metadata": {},
   "outputs": [],
   "source": [
    "paddle_quantum.set_backend('density_matrix') # set the backend to density matrix"
   ]
  },
  {
   "attachments": {},
   "cell_type": "markdown",
   "metadata": {},
   "source": [
    "For example, we can create a bit flip channel and apply it to the zero state. For the full list of common channels, see [API of Paddle Quantum](https://qml.baidu.com/api/paddle_quantum.channel.common.html)"
   ]
  },
  {
   "cell_type": "code",
   "execution_count": 18,
   "metadata": {},
   "outputs": [
    {
     "name": "stdout",
     "output_type": "stream",
     "text": [
      "[[0.49999997+0.j 0.        +0.j]\n",
      " [0.        +0.j 0.49999997+0.j]]\n"
     ]
    }
   ],
   "source": [
    "bit_flip_channel = BitFlip(prob=0.5, num_qubits=1) # define a single qubit bit flip channel with probability 0.5\n",
    "input = zero_state(1)\n",
    "output = bit_flip_channel(input) # apply bit flip channel to input zero state\n",
    "print(output)"
   ]
  },
  {
   "attachments": {},
   "cell_type": "markdown",
   "metadata": {},
   "source": [
    "A custom channel can be created using either its Kraus operators, Stinespring isometry, or Choi matrix. We show how to create a custom channel using these three different representations. We generate them randomly using the built-in function from Paddle Quantum."
   ]
  },
  {
   "attachments": {},
   "cell_type": "markdown",
   "metadata": {},
   "source": [
    "**Note**: the convention for Choi matrix in PaddleQuantum is that the channel acts on the second system, i.e.\n",
    "\n",
    "$$\n",
    "    J(\\Lambda) = \\sum_{i,j} |i\\rangle\\langle j| \\otimes \\Lambda(|i\\rangle\\langle j|).\n",
    "$$\n",
    "where $\\Lambda$ denotes the channel."
   ]
  },
  {
   "cell_type": "code",
   "execution_count": 19,
   "metadata": {},
   "outputs": [],
   "source": [
    "# generate Kraus operators of a random channel\n",
    "kraus = random_channel(num_qubits=1, target='Kraus') \n",
    "# create channel using Kraus operators\n",
    "custom_kraus = KrausRepr(kraus)\n",
    "\n",
    "# generate Stinespring isometry of a random channel\n",
    "stinespring = random_channel(num_qubits=1, target='Stinespring')\n",
    "# create channel using Stinespring isometry\n",
    "custom_stinespring = StinespringRepr(stinespring)\n",
    "\n",
    "# generate Choi matrix of a random channel\n",
    "choi = random_channel(num_qubits=1, target='Choi')\n",
    "# create channel using Choi matrix\n",
    "custom_choi = ChoiRepr(choi)"
   ]
  },
  {
   "attachments": {},
   "cell_type": "markdown",
   "metadata": {},
   "source": [
    "Channel can also be inserted into a circuit using the same syntax as for gate. However, currently printing circuit containing a channel is not supported."
   ]
  },
  {
   "cell_type": "code",
   "execution_count": 20,
   "metadata": {},
   "outputs": [],
   "source": [
    " # by default, the channel would act on qubit with index 0, we can specify which qubit it acts on by providing qubits_idx\n",
    "custom_choi = ChoiRepr(choi, qubits_idx=[2])\n",
    "cir = Circuit(3)\n",
    "cir.append(bit_flip_channel) # insert a channel object at the end of the circuit\n",
    "cir.h()\n",
    "cir.insert(index=2, operator = custom_choi) # insert a channel object at specific position\n",
    "cir.bit_flip(0.5, qubits_idx=[2]) # create a channel when building the circuit"
   ]
  }
 ],
 "metadata": {
  "kernelspec": {
   "display_name": "PaddleQu",
   "language": "python",
   "name": "python3"
  },
  "language_info": {
   "codemirror_mode": {
    "name": "ipython",
    "version": 3
   },
   "file_extension": ".py",
   "mimetype": "text/x-python",
   "name": "python",
   "nbconvert_exporter": "python",
   "pygments_lexer": "ipython3",
   "version": "3.7.15"
  },
  "orig_nbformat": 4,
  "vscode": {
   "interpreter": {
    "hash": "f5d4b275a355082aa93d1cfb501360a5fbfc9f440cd049520a322ef6c5deb126"
   }
  }
 },
 "nbformat": 4,
 "nbformat_minor": 2
}
