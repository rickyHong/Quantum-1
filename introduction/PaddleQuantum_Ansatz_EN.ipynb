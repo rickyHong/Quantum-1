{
 "cells": [
  {
   "attachments": {},
   "cell_type": "markdown",
   "metadata": {},
   "source": [
    "# Construct Quantum Circuits with Paddle Quantum's ansatz\n",
    "\n",
    "_Copyright (c) 2023 Institute for Quantum Computing, Baidu Inc. All Rights Reserved._"
   ]
  },
  {
   "attachments": {},
   "cell_type": "markdown",
   "metadata": {},
   "source": [
    "`ansatz`, which builds on top of Paddle Quantum, is designed to be a toolkit for implementing various quantum circuits. It provides high level APIs for researchers who are interested in implementing quantum algorithm with quantum circuits. At the same time, `ansatz` also provides a convenient way for developers to extend the functionality. `ansatz` is currently under active development, feel free to join us by opening issues or pull requests."
   ]
  },
  {
   "attachments": {},
   "cell_type": "markdown",
   "metadata": {},
   "source": [
    "## Construct the quantum circuits"
   ]
  },
  {
   "attachments": {},
   "cell_type": "markdown",
   "metadata": {},
   "source": [
    "Paddle Quantum provides the following three ways to build quantum circuits:\n",
    "\n",
    "- **Direct construction of quantum circuits using quantum gates.** Quantum circuit can be expressed as a combination of single-qubit quantum gates and two-qubit gates. Paddle Quantum provides a variety of quantum gates including $R_y, R_x, R_z$ single-qubit gate, two-qubit CNOT gate, etc. Specific details can see [API of Paddle Quantum](https://qml.baidu.com/api/paddle_quantum.ansatz.circuit.html). Using these quantum gates we can directly to create quantum circuits.\n",
    "\n",
    "- **Use oracle to construct quantum circuits.** In addition to constructing quantum circuits using quantum gates provided by Paddle Quantum, we can also construct quantum circuits using the oracle of a unitary, then implement it in the circuit. \n",
    "\n",
    "- **Use built-in circuit templates to construct quantum circuits.** Paddle Quantum provides some built-in circuit templates to make user's life easier. For more templates, see [API of Paddle Quantum](https://qml.baidu.com/api/paddle_quantum.ansatz.circuit.html)."
   ]
  },
  {
   "attachments": {},
   "cell_type": "markdown",
   "metadata": {},
   "source": [
    "Let's start from a specific example to understand the way to construct a quantum circuit in Paddle Quantum. First we import the necessary packages."
   ]
  },
  {
   "cell_type": "code",
   "execution_count": 1,
   "metadata": {},
   "outputs": [
    {
     "name": "stderr",
     "output_type": "stream",
     "text": [
      "d:\\programs\\Anaconda\\envs\\pq\\lib\\site-packages\\openfermion\\hamiltonians\\hartree_fock.py:11: DeprecationWarning: Please use `OptimizeResult` from the `scipy.optimize` namespace, the `scipy.optimize.optimize` namespace is deprecated.\n",
      "  from scipy.optimize.optimize import OptimizeResult\n",
      "d:\\programs\\Anaconda\\envs\\pq\\lib\\site-packages\\paddle\\tensor\\creation.py:125: DeprecationWarning: `np.object` is a deprecated alias for the builtin `object`. To silence this warning, use `object` by itself. Doing this will not modify any behavior and is safe. \n",
      "Deprecated in NumPy 1.20; for more details and guidance: https://numpy.org/devdocs/release/1.20.0-notes.html#deprecations\n",
      "  if data.dtype == np.object:\n",
      "d:\\programs\\Anaconda\\envs\\pq\\lib\\site-packages\\paddle\\tensor\\creation.py:125: DeprecationWarning: `np.object` is a deprecated alias for the builtin `object`. To silence this warning, use `object` by itself. Doing this will not modify any behavior and is safe. \n",
      "Deprecated in NumPy 1.20; for more details and guidance: https://numpy.org/devdocs/release/1.20.0-notes.html#deprecations\n",
      "  if data.dtype == np.object:\n"
     ]
    }
   ],
   "source": [
    "import numpy as np\n",
    "import scipy\n",
    "import paddle\n",
    "from paddle_quantum.gate import RY, RX, RZ\n",
    "from paddle_quantum.ansatz import Circuit\n",
    "from paddle_quantum.state import ghz_state\n",
    "import warnings\n",
    "warnings.filterwarnings(\"ignore\")"
   ]
  },
  {
   "attachments": {},
   "cell_type": "markdown",
   "metadata": {},
   "source": [
    "### Directly construction of quantum circuits using quantum gates."
   ]
  },
  {
   "attachments": {},
   "cell_type": "markdown",
   "metadata": {},
   "source": [
    "The following code demonstrates the construction of a single-qubit quantum circuit to generate $\\frac{1}{\\sqrt{2}}(\\ket{0}+\\ket{1})$."
   ]
  },
  {
   "cell_type": "code",
   "execution_count": 2,
   "metadata": {},
   "outputs": [
    {
     "name": "stdout",
     "output_type": "stream",
     "text": [
      "Tensor(shape=[2, 1], dtype=complex64, place=Place(cpu), stop_gradient=True,\n",
      "       [[(0.7071067690849304+0j)],\n",
      "        [(0.7071067690849304+0j)]])\n"
     ]
    }
   ],
   "source": [
    "# Create a single qubit circuit\n",
    "cir = Circuit(1)\n",
    "\n",
    "# Set the Hadamard gate\n",
    "cir.h(0)\n",
    "\n",
    "# Output quantum circuit\n",
    "output_state = cir()\n",
    "print(output_state.ket)"
   ]
  },
  {
   "attachments": {},
   "cell_type": "markdown",
   "metadata": {},
   "source": [
    "### Use oracle to construct quantum circuits"
   ]
  },
  {
   "attachments": {},
   "cell_type": "markdown",
   "metadata": {},
   "source": [
    "We use the oracle of $e^{-i\\frac{\\phi}{2}Z}$ to evolve the input state $\\ket{\\psi}=\\frac{1}{\\sqrt{2}}(\\ket{0}+\\ket{1})$. Then the output state is $e^{-i\\frac{\\phi}{2}Z}\\ket{\\psi}$, where $Z$ is Pauli $Z$."
   ]
  },
  {
   "cell_type": "code",
   "execution_count": 3,
   "metadata": {},
   "outputs": [],
   "source": [
    "def oracle_cir(num_qubits: int, phi: float) -> Circuit:\n",
    "    r\"\"\" Use oracle to construct quantum circuits\n",
    "    \n",
    "    Args:\n",
    "        num_qubits: the number of qubits\n",
    "        phi: unknown parameter\n",
    "\n",
    "    Returns:\n",
    "        Circuit\n",
    "        \n",
    "    \"\"\"    \n",
    "    # Create the unitary\n",
    "    z = np.array([[1, 0],\n",
    "                  [0, -1]])\n",
    "    oracle_unitary = paddle.to_tensor(scipy.linalg.expm(-1j * z * phi / 2))\n",
    "    # Create a quantum circuit\n",
    "    cir_oracle = Circuit(num_qubits)\n",
    "    # Implement the oracle into the circuit \n",
    "    cir_oracle.oracle(oracle_unitary, 0) \n",
    "\n",
    "    return cir_oracle"
   ]
  },
  {
   "cell_type": "code",
   "execution_count": 4,
   "metadata": {},
   "outputs": [
    {
     "name": "stdout",
     "output_type": "stream",
     "text": [
      "The output state is \n",
      " Tensor(shape=[2, 1], dtype=complex64, place=Place(cpu), stop_gradient=True,\n",
      "       [[(0.6893781423568726-0.15734605491161346j)],\n",
      "        [(0.6893781423568726+0.15734605491161346j)]])\n"
     ]
    }
   ],
   "source": [
    "# Set parameters\n",
    "PHI = np.pi / 7\n",
    "NUM_QUBITS = 1\n",
    "PSI = ghz_state(1)\n",
    "CIR = oracle_cir(NUM_QUBITS, PHI)\n",
    "# Output state\n",
    "print('The output state is \\n', CIR(PSI).ket)"
   ]
  },
  {
   "attachments": {},
   "cell_type": "markdown",
   "metadata": {},
   "source": [
    "### Use built-in circuit templates to construct quantum circuits"
   ]
  },
  {
   "attachments": {},
   "cell_type": "markdown",
   "metadata": {},
   "source": [
    "Here we demonstrate how to build a quantum circuit using built-in circuit templates. We choose the `complex_entangled_layer`. For other templates, see [API of Paddle Quantum](https://qml.baidu.com/api/paddle_quantum.ansatz.circuit.html)."
   ]
  },
  {
   "cell_type": "code",
   "execution_count": 5,
   "metadata": {},
   "outputs": [
    {
     "name": "stdout",
     "output_type": "stream",
     "text": [
      "--U----*---------x--\n",
      "       |         |  \n",
      "--U----x----*----|--\n",
      "            |    |  \n",
      "--U---------x----*--\n",
      "                    \n"
     ]
    }
   ],
   "source": [
    "N = 3  # The number of qubits\n",
    "D = 1  # The depth of the template\n",
    "\n",
    "# Initialize the quantum circuit\n",
    "cir_ent_layer = Circuit(N) \n",
    "# Construct complex_entangled_layer\n",
    "cir_ent_layer.complex_entangled_layer(depth=D)\n",
    "# Print circuit\n",
    "print(cir_ent_layer)"
   ]
  },
  {
   "attachments": {},
   "cell_type": "markdown",
   "metadata": {},
   "source": [
    "## Specific circuit construction"
   ]
  },
  {
   "attachments": {},
   "cell_type": "markdown",
   "metadata": {},
   "source": [
    "### Visualize circuit"
   ]
  },
  {
   "attachments": {},
   "cell_type": "markdown",
   "metadata": {},
   "source": [
    "In the previous section, we print the built-in template. Now we describe in detail how to visualize the circuit in Paddle Quantum. Two circuit output modes are provided: `print(your_cir)` and `your_cir.plot()`. The first method is represented by lines and symbols, which is simple in form and easy to show complex circuits. The second one is to use a box to represent the quantum gate, the form is more intuitive than the first one. We take a circuit generating the GHZ state as an example in the following to show two circuit output modes."
   ]
  },
  {
   "cell_type": "code",
   "execution_count": 6,
   "metadata": {},
   "outputs": [],
   "source": [
    "def gen_ghz_cir(num_qubits: int) -> Circuit:\n",
    "    r\"\"\" Quantum circuit to generate GHZ state\n",
    "    \n",
    "    Args:\n",
    "        num_qubits: the number of qubits\n",
    "\n",
    "    Returns:\n",
    "        Circuit\n",
    "        \n",
    "    \"\"\" \n",
    "    # Create a quantum circuit\n",
    "    ghz_cir = Circuit(num_qubits)\n",
    "    # Add the Hadamard gate to the first qubit\n",
    "    ghz_cir.h(0)\n",
    "    # Add CNOT gates\n",
    "    for i in range(1, num_qubits):\n",
    "        ghz_cir.cnot([0, i])\n",
    "\n",
    "    return ghz_cir"
   ]
  },
  {
   "attachments": {},
   "cell_type": "markdown",
   "metadata": {},
   "source": [
    "Using the constructed circuit to generate $3$-qubit GHZ state $\\frac{1}{\\sqrt{2}}(\\ket{000}+\\ket{111})$."
   ]
  },
  {
   "cell_type": "code",
   "execution_count": 7,
   "metadata": {},
   "outputs": [
    {
     "name": "stdout",
     "output_type": "stream",
     "text": [
      "The output state is\n",
      " Tensor(shape=[8, 1], dtype=complex64, place=Place(cpu), stop_gradient=True,\n",
      "       [[(0.7071067690849304+0j)],\n",
      "        [0j                     ],\n",
      "        [0j                     ],\n",
      "        [0j                     ],\n",
      "        [0j                     ],\n",
      "        [0j                     ],\n",
      "        [0j                     ],\n",
      "        [(0.7071067690849304+0j)]])\n"
     ]
    }
   ],
   "source": [
    "# Use the function that generates the GHZ state\n",
    "ghz_3_cir = gen_ghz_cir(3)\n",
    "# Output quantum state\n",
    "ghz_3_state = ghz_3_cir()\n",
    "print('The output state is\\n', ghz_3_state.ket)"
   ]
  },
  {
   "attachments": {},
   "cell_type": "markdown",
   "metadata": {},
   "source": [
    "Two ways to visualize quantum circuits:"
   ]
  },
  {
   "cell_type": "code",
   "execution_count": 8,
   "metadata": {},
   "outputs": [
    {
     "name": "stdout",
     "output_type": "stream",
     "text": [
      "First way to show the circuit:\n",
      "\n",
      "--H----*----*--\n",
      "       |    |  \n",
      "-------x----|--\n",
      "            |  \n",
      "------------x--\n",
      "               \n",
      "Second way to show the circuit: \n",
      "\n"
     ]
    },
    {
     "data": {
      "image/png": "[encoded data removed]",
      "text/plain": [
       "<Figure size 104x165 with 1 Axes>"
      ]
     },
     "metadata": {},
     "output_type": "display_data"
    }
   ],
   "source": [
    "# Print circuits\n",
    "print('First way to show the circuit:')\n",
    "print()\n",
    "print(ghz_3_cir)\n",
    "print('Second way to show the circuit: \\n')\n",
    "ghz_3_cir.plot()"
   ]
  },
  {
   "attachments": {},
   "cell_type": "markdown",
   "metadata": {},
   "source": [
    "### General construction of quantum gates"
   ]
  },
  {
   "attachments": {},
   "cell_type": "markdown",
   "metadata": {},
   "source": [
    "Next, we take $R_y, R_x, R_z$ and CNOT gates as an example to show a general construction of how to add or remove gates."
   ]
  },
  {
   "cell_type": "code",
   "execution_count": 9,
   "metadata": {},
   "outputs": [
    {
     "name": "stdout",
     "output_type": "stream",
     "text": [
      "The quantum circuit after adding gates is: \n"
     ]
    },
    {
     "data": {
      "image/png": "[encoded data removed]",
      "text/plain": [
       "<Figure size 294x165 with 1 Axes>"
      ]
     },
     "metadata": {},
     "output_type": "display_data"
    },
    {
     "name": "stdout",
     "output_type": "stream",
     "text": [
      "The quantum circuit after removing gates is:\n"
     ]
    },
    {
     "data": {
      "image/png": "[encoded data removed]",
      "text/plain": [
       "<Figure size 204x165 with 1 Axes>"
      ]
     },
     "metadata": {},
     "output_type": "display_data"
    }
   ],
   "source": [
    "# Initialize a 3-qubit quantum circuit\n",
    "cir = Circuit(3)\n",
    "# Set parameters and customize quantum gates. Here we select Ry, Rx, Rz gates\n",
    "param = np.random.rand(2)\n",
    "ry_gate = RY(param=param, qubits_idx=[0, 2])  # By default, Ry randomly generates a set of parameters\n",
    "rx_gate = RX(param=param, qubits_idx=[0, 1])\n",
    "rz_gate = RZ(param=param, qubits_idx=[1, 2])\n",
    "# Add quantum gates\n",
    "cir.append(ry_gate)\n",
    "cir.append(rx_gate)\n",
    "cir.insert(index=2, operator=rz_gate)  # index specifies where to insert, and operator specifies which quantum gate to insert\n",
    "# Print quantum gate\n",
    "print('The quantum circuit after adding gates is: ')\n",
    "cir.plot()\n",
    "\n",
    "# Remove Rx gate\n",
    "cir.pop(index=1, operator=rx_gate)  # index specifies where to remove, and operator specifies which quantum gate to remove\n",
    "print('The quantum circuit after removing gates is:')\n",
    "cir.plot()"
   ]
  },
  {
   "attachments": {},
   "cell_type": "markdown",
   "metadata": {},
   "source": [
    "In addition to inserting a quantum gate using methods such as `append`, it can also be realized in the following ways:"
   ]
  },
  {
   "cell_type": "code",
   "execution_count": 10,
   "metadata": {},
   "outputs": [
    {
     "data": {
      "image/png": "[encoded data removed]",
      "text/plain": [
       "<Figure size 414x165 with 1 Axes>"
      ]
     },
     "metadata": {},
     "output_type": "display_data"
    }
   ],
   "source": [
    "# Initialize a 3-qubit quantum circuit\n",
    "cir = Circuit(3)\n",
    "# Set parameters\n",
    "theta = np.full([2], np.pi)\n",
    "# Add quantum gates\n",
    "# Add single-qubit gate Ry \n",
    "cir.ry(qubits_idx='full', param=theta[0])  # qubits_idx='full': specifies that all qubits are applied, defaults qubits_idx of the single-qubit gate to 'cycle'. param: parameters of the gates, defaults to None, i.e., randomly generated by Ry gate.\n",
    "# Add two-qubit gate CNOT\n",
    "cir.cnot(qubits_idx='linear')  # qubits_idx='linear': specifies that the implement of the CNOT gate is linear, default qubits_idx of the multi-qubit quantum gate is cycle.\n",
    "# Add single qubit gate Rx \n",
    "cir.rx(qubits_idx='even')  # qubits_idx='even': specifies that even number of qubits are applied, defaults of single-qubit gate to 'cycle'. param: parameters of the gates, defaults to None, i.e., randomly generated by Rx gate.\n",
    "# Add two-qubit gate CNOT\n",
    "cir.cnot(qubits_idx='cycle')  # qubits_idx='cycle': specifies that the implement of the CNOT gate is cycle, default qubits_idx of the multi-qubit quantum gate is cycle.\n",
    "# Add single qubit gate Rz\n",
    "cir.rz(qubits_idx='odd', param=theta[1])  # qubits_idx='odd': specifies that odd number of qubits are applied, defaults of single-qubit gate to 'cycle'. param: parameters of the gates, defaults to None, i.e., randomly generated by Rz gate.\n",
    "# Add two-qubit gate CNOT\n",
    "cir.cnot([0, 2])  # qubits_idx is [0, 2] that specifies the CNOT acting on qubits numbered 0 and 2, where 0 is the control qubit and 2 is the target qubit.\n",
    "# Print circuit\n",
    "cir.plot()"
   ]
  },
  {
   "attachments": {},
   "cell_type": "markdown",
   "metadata": {},
   "source": [
    "The quantum circuit construction mentioned above requires a given circuit size, that is, qubit number. In addition to this way, Paddle Quantum also provides a dynamic circuit construction method that does not require input qubit number. The following is a simple example to demonstrate this method."
   ]
  },
  {
   "cell_type": "code",
   "execution_count": 11,
   "metadata": {},
   "outputs": [
    {
     "data": {
      "image/png": "[encoded data removed]",
      "text/plain": [
       "<Figure size 154x110 with 1 Axes>"
      ]
     },
     "metadata": {},
     "output_type": "display_data"
    },
    {
     "data": {
      "image/png": "[encoded data removed]",
      "text/plain": [
       "<Figure size 324x220 with 1 Axes>"
      ]
     },
     "metadata": {},
     "output_type": "display_data"
    }
   ],
   "source": [
    "cir = Circuit()  # Do not give a qubit number\n",
    "cir.ry([0, 1])  # The size of this circuit is updated to 2\n",
    "cir.h()  # Set Hadamard gates\n",
    "cir.plot()  # Draw this 2-qubit circuit\n",
    "cir.rx([2, 3])  # The size of this circuit is updated to 4 because of the added Rx gates\n",
    "cir.cnot()  # Set CNOT gates\n",
    "cir.plot()  # Draw the updated 4-qubit circuit"
   ]
  }
 ],
 "metadata": {
  "kernelspec": {
   "display_name": "pq",
   "language": "python",
   "name": "python3"
  },
  "language_info": {
   "codemirror_mode": {
    "name": "ipython",
    "version": 3
   },
   "file_extension": ".py",
   "mimetype": "text/x-python",
   "name": "python",
   "nbconvert_exporter": "python",
   "pygments_lexer": "ipython3",
   "version": "3.8.13"
  },
  "orig_nbformat": 4
 },
 "nbformat": 4,
 "nbformat_minor": 2
}
