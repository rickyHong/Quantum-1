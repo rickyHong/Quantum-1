{
 "cells": [
  {
   "cell_type": "markdown",
   "metadata": {},
   "source": [
    "# 利用 Paddle Quantum 的 state 模块操作量子态\n",
    "\n",
    "_Copyright (c) 2023 Institute for Quantum Computing, Baidu Inc. All Rights Reserved._\n",
    "\n",
    "`state` 模块是量桨封装的支持量子态（`paddle_quantum.state.State`）相关操作的模块，主要包括了量子态的创建和运算。`state` 模块为用户提供了诸多接口，用于创建、编辑量子态和与量子电路交互、测量。\n",
    "\n",
    "## 量子态的创建\n",
    "用户可以通过已有数据创建量子态，也可通过量桨创建特殊类型的量子态。\n",
    "首先我们可以根据已有数据创建量子态。"
   ]
  },
  {
   "cell_type": "code",
   "execution_count": 1,
   "metadata": {},
   "outputs": [
    {
     "name": "stderr",
     "output_type": "stream",
     "text": [
      "/Applications/anaconda3/envs/pq/lib/python3.8/site-packages/openfermion/hamiltonians/hartree_fock.py:11: DeprecationWarning: Please use `OptimizeResult` from the `scipy.optimize` namespace, the `scipy.optimize.optimize` namespace is deprecated.\n",
      "  from scipy.optimize.optimize import OptimizeResult\n",
      "/Applications/anaconda3/envs/pq/lib/python3.8/site-packages/paddle/tensor/creation.py:125: DeprecationWarning: `np.object` is a deprecated alias for the builtin `object`. To silence this warning, use `object` by itself. Doing this will not modify any behavior and is safe. \n",
      "Deprecated in NumPy 1.20; for more details and guidance: https://numpy.org/devdocs/release/1.20.0-notes.html#deprecations\n",
      "  if data.dtype == np.object:\n"
     ]
    },
    {
     "name": "stdout",
     "output_type": "stream",
     "text": [
      "[1.+0.j 0.+0.j]\n"
     ]
    },
    {
     "name": "stderr",
     "output_type": "stream",
     "text": [
      "/Applications/anaconda3/envs/pq/lib/python3.8/site-packages/paddle/tensor/creation.py:125: DeprecationWarning: `np.object` is a deprecated alias for the builtin `object`. To silence this warning, use `object` by itself. Doing this will not modify any behavior and is safe. \n",
      "Deprecated in NumPy 1.20; for more details and guidance: https://numpy.org/devdocs/release/1.20.0-notes.html#deprecations\n",
      "  if data.dtype == np.object:\n",
      "/Applications/anaconda3/envs/pq/lib/python3.8/site-packages/paddle/fluid/framework.py:1104: DeprecationWarning: `np.bool` is a deprecated alias for the builtin `bool`. To silence this warning, use `bool` by itself. Doing this will not modify any behavior and is safe. If you specifically wanted the numpy scalar type, use `np.bool_` here.\n",
      "Deprecated in NumPy 1.20; for more details and guidance: https://numpy.org/devdocs/release/1.20.0-notes.html#deprecations\n",
      "  elif dtype == np.bool:\n"
     ]
    }
   ],
   "source": [
    "import paddle\n",
    "import paddle_quantum as pq\n",
    "from paddle_quantum.backend import Backend\n",
    "\n",
    "state_vec = pq.state.to_state([1, 0])\n",
    "print(state_vec)"
   ]
  },
  {
   "cell_type": "markdown",
   "metadata": {},
   "source": [
    "也可以通过指定 `backend` 创建密度矩阵。"
   ]
  },
  {
   "cell_type": "code",
   "execution_count": 2,
   "metadata": {},
   "outputs": [
    {
     "name": "stdout",
     "output_type": "stream",
     "text": [
      "[[0.5+0.j 0. +0.j]\n",
      " [0. +0.j 0.5+0.j]]\n"
     ]
    }
   ],
   "source": [
    "state_density = pq.state.State([[0.5, 0], [0, 0.5]], backend=Backend.DensityMatrix)\n",
    "print(state_density)"
   ]
  },
  {
   "cell_type": "markdown",
   "metadata": {},
   "source": [
    "我们也可以通过量桨内置的函数创建特殊类型的量子态。比如创建单比特零态。"
   ]
  },
  {
   "cell_type": "code",
   "execution_count": 3,
   "metadata": {},
   "outputs": [
    {
     "name": "stdout",
     "output_type": "stream",
     "text": [
      "[1.+0.j 0.+0.j]\n"
     ]
    }
   ],
   "source": [
    "print(pq.state.zero_state(num_qubits=1))"
   ]
  },
  {
   "cell_type": "markdown",
   "metadata": {},
   "source": [
    "创建两比特随机态。"
   ]
  },
  {
   "cell_type": "code",
   "execution_count": 4,
   "metadata": {},
   "outputs": [
    {
     "name": "stdout",
     "output_type": "stream",
     "text": [
      "[-0.0477975 -0.521988j   -0.21298088+0.06160466j  0.4515487 +0.19628459j\n",
      "  0.625157  +0.20698515j]\n"
     ]
    }
   ],
   "source": [
    "print(pq.state.random_state(num_qubits=2))"
   ]
  },
  {
   "cell_type": "markdown",
   "metadata": {},
   "source": [
    "此外，量桨还支持其它若干特殊量子态的创建，详见[API 文档](https://qml.baidu.com/api/paddle_quantum.state.common.html)。\n",
    "\n",
    "我们也可以通过一行代码设置全局后端为密度矩阵。当然，我们继续使用默认后端，即态矢量，进行演示。"
   ]
  },
  {
   "cell_type": "code",
   "execution_count": 5,
   "metadata": {},
   "outputs": [
    {
     "name": "stdout",
     "output_type": "stream",
     "text": [
      "[[1.+0.j 0.+0.j]\n",
      " [0.+0.j 0.+0.j]]\n"
     ]
    }
   ],
   "source": [
    "pq.set_backend('density_matrix') # 设置全局后端为密度矩阵\n",
    "print(pq.state.zero_state(num_qubits=1))\n",
    "pq.set_backend('state_vector')  # 设置回默认后端"
   ]
  },
  {
   "cell_type": "markdown",
   "metadata": {},
   "source": [
    "## 量子态的数据\n",
    "我们可以通过访问 `data`，`ket`，`bra` 来读取 `State` 中的数据。"
   ]
  },
  {
   "cell_type": "code",
   "execution_count": 6,
   "metadata": {},
   "outputs": [
    {
     "name": "stdout",
     "output_type": "stream",
     "text": [
      "Its data is : Tensor(shape=[2], dtype=complex64, place=Place(cpu), stop_gradient=True,\n",
      "       [(1+0j), 0j    ])\n",
      "Its ket is : Tensor(shape=[2, 1], dtype=complex64, place=Place(cpu), stop_gradient=True,\n",
      "       [[(1+0j)],\n",
      "        [0j    ]])\n",
      "Its bra is : Tensor(shape=[1, 2], dtype=complex64, place=Place(cpu), stop_gradient=True,\n",
      "       [[(1-0j), -0j   ]])\n"
     ]
    }
   ],
   "source": [
    "zero_state = pq.state.zero_state(num_qubits=1)\n",
    "print('Its data is :', zero_state.data)\n",
    "print('Its ket is :', zero_state.ket)\n",
    "print('Its bra is :', zero_state.bra)"
   ]
  },
  {
   "cell_type": "markdown",
   "metadata": {},
   "source": [
    "我们也可以通过成员函数 `numpy()` 来输出 `State` 的 `numpy.ndarray` 类型数据。"
   ]
  },
  {
   "cell_type": "code",
   "execution_count": 7,
   "metadata": {},
   "outputs": [
    {
     "name": "stdout",
     "output_type": "stream",
     "text": [
      "[1.+0.j 0.+0.j]\n"
     ]
    }
   ],
   "source": [
    "print(zero_state.numpy())"
   ]
  },
  {
   "cell_type": "markdown",
   "metadata": {},
   "source": [
    "## 量子态的运算\n",
    "我们可以通过矩阵乘法 `@` 求两个量子态的乘积。这方便求取量子态的重叠。"
   ]
  },
  {
   "cell_type": "code",
   "execution_count": 8,
   "metadata": {},
   "outputs": [
    {
     "name": "stdout",
     "output_type": "stream",
     "text": [
      "Tensor(shape=[2, 2], dtype=complex64, place=Place(cpu), stop_gradient=True,\n",
      "       [[0j, 0j],\n",
      "        [0j, 0j]])\n",
      "The overlap of state_1 and state_2 is : Tensor(shape=[1], dtype=complex64, place=Place(cpu), stop_gradient=True,\n",
      "       [0j])\n"
     ]
    }
   ],
   "source": [
    "state_1 = pq.state.zero_state(num_qubits=1, backend=Backend.DensityMatrix)\n",
    "state_2 = pq.state.to_state([[0, 0], [0, 1]], backend=Backend.DensityMatrix)\n",
    "print(state_1 @ state_2)\n",
    "print('The overlap of state_1 and state_2 is :', paddle.trace(state_1 @ state_2))"
   ]
  },
  {
   "cell_type": "markdown",
   "metadata": {},
   "source": [
    "也可以使用 `State.kron()` 求得量子态 $\\rho$ 和 $\\sigma$ 的张量积 $\\rho \\otimes \\sigma$。"
   ]
  },
  {
   "cell_type": "code",
   "execution_count": 9,
   "metadata": {},
   "outputs": [
    {
     "name": "stdout",
     "output_type": "stream",
     "text": [
      "[0.+0.j 1.+0.j 0.+0.j 0.+0.j]\n"
     ]
    }
   ],
   "source": [
    "rho = pq.state.zero_state(num_qubits=1)\n",
    "sigma = pq.state.to_state([0, 1])\n",
    "product_state = rho.kron(sigma)\n",
    "print(product_state)"
   ]
  },
  {
   "attachments": {},
   "cell_type": "markdown",
   "metadata": {},
   "source": [
    "还可以通过索引或切片的方式对量子态求偏迹。如我们想要获取 $|011\\rangle$ 的第一个比特，和 第二、三个比特的量子态。"
   ]
  },
  {
   "cell_type": "code",
   "execution_count": 10,
   "metadata": {},
   "outputs": [
    {
     "name": "stdout",
     "output_type": "stream",
     "text": [
      "[0.+0.j 0.+0.j 0.+0.j 1.+0.j 0.+0.j 0.+0.j 0.+0.j 0.+0.j]\n",
      "the state of the first qubit is : [1.+0.j 0.+0.j]\n",
      "the state of the second and third qubits is : [0.+0.j 0.+0.j 0.+0.j 1.+0.j]\n"
     ]
    }
   ],
   "source": [
    "psi_012 = pq.state.computational_basis(num_qubits=3, index=3)\n",
    "print(psi_012)\n",
    "\n",
    "psi_1 = psi_012[0]\n",
    "psi_12 = psi_012[1:]\n",
    "print('the state of the first qubit is :', psi_1)\n",
    "print('the state of the second and third qubits is :', psi_12)"
   ]
  },
  {
   "cell_type": "markdown",
   "metadata": {},
   "source": [
    "## 量子态的测量与演化\n",
    "量子态的成员函数 `State.evolve()` 可以在给定哈密顿量 $H$ 和演化时间 $t$ 的情况下，给出量子态在 $e^{-iHt}$ 演化下的末态。这里我们设置哈密顿量为泡利 $Z$ 矩阵，演化时间 $t=1$。"
   ]
  },
  {
   "cell_type": "code",
   "execution_count": 11,
   "metadata": {},
   "outputs": [
    {
     "name": "stdout",
     "output_type": "stream",
     "text": [
      "[0.5403023-0.84147096j 0.       +0.j        ]\n"
     ]
    }
   ],
   "source": [
    "state = pq.state.zero_state(num_qubits=1)\n",
    "t = 1\n",
    "hamiltonian = pq.hamiltonian.Hamiltonian([(1, 'Z0')])\n",
    "state.evolve(H=hamiltonian, t=t)\n",
    "print(state)"
   ]
  },
  {
   "cell_type": "markdown",
   "metadata": {},
   "source": [
    "量子态的成员函数 `State.expec_val()` 可以求取在给定可观测量（哈密顿量）下的期望值。"
   ]
  },
  {
   "cell_type": "code",
   "execution_count": 12,
   "metadata": {},
   "outputs": [
    {
     "name": "stdout",
     "output_type": "stream",
     "text": [
      "1.0\n"
     ]
    }
   ],
   "source": [
    "state = pq.state.zero_state(num_qubits=1)\n",
    "observable = pq.hamiltonian.Hamiltonian([(1, 'Z0')])\n",
    "print(state.expec_val(hamiltonian=observable))"
   ]
  },
  {
   "attachments": {},
   "cell_type": "markdown",
   "metadata": {},
   "source": [
    "量子态的成员函数 `State.measure()` 可以获取在计算基下的测量结果。用户可以设置 `shots` 数值来模拟或令 `shots=0` 求期望，也可以使用 `plot` 参数作图。"
   ]
  },
  {
   "cell_type": "code",
   "execution_count": 13,
   "metadata": {},
   "outputs": [
    {
     "name": "stdout",
     "output_type": "stream",
     "text": [
      "Theoretical value is : {'0': 0.5, '1': 0.5}\n"
     ]
    },
    {
     "data": {
      "image/png": "[encoded data removed]",
      "text/plain": [
       "<Figure size 432x288 with 1 Axes>"
      ]
     },
     "metadata": {
      "needs_background": "light"
     },
     "output_type": "display_data"
    },
    {
     "data": {
      "text/plain": [
       "{'0': 0.5625, '1': 0.4375}"
      ]
     },
     "execution_count": 13,
     "metadata": {},
     "output_type": "execute_result"
    }
   ],
   "source": [
    "state = pq.state.to_state([[0.5, 0], [0, 0.5]], backend=Backend.DensityMatrix)\n",
    "print('Theoretical value is :', state.measure(shots=0))  # theoretical value\n",
    "state.measure(shots=16, plot=True)"
   ]
  }
 ],
 "metadata": {
  "kernelspec": {
   "display_name": "Python 3 (ipykernel)",
   "language": "python",
   "name": "python3"
  },
  "language_info": {
   "codemirror_mode": {
    "name": "ipython",
    "version": 3
   },
   "file_extension": ".py",
   "mimetype": "text/x-python",
   "name": "python",
   "nbconvert_exporter": "python",
   "pygments_lexer": "ipython3",
   "version": "3.8.13"
  }
 },
 "nbformat": 4,
 "nbformat_minor": 2
}
