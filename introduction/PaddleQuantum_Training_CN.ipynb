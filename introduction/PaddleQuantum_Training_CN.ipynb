{
 "cells": [
  {
   "cell_type": "markdown",
   "metadata": {},
   "source": [
    "# 利用量桨训练参数化量子电路\n",
    "\n",
    "_Copyright (c) 2023 Institute for Quantum Computing, Baidu Inc. All Rights Reserved._"
   ]
  },
  {
   "cell_type": "markdown",
   "metadata": {},
   "source": [
    "变分量子算法（Variational Quantum Algorithms, VQA）是指通过用一个经典优化器来训练一个含参量子电路（Parameterized Quantum Circuit, PQC）来求解特定问题的算法。它可以看作是机器学习在量子计算中的自然类比。因此含参量子线路一般也被称作量子神经网络（Quantum Neural Network, QNN）。\n",
    "\n",
    "量桨提供了完善易用的工具集来实现对含参量子电路的训练。这里我们以量子态制备为例，介绍如何利用量桨便捷地构建参数化量子电路，设定参数，并通过经典优化器来训练参数化量子电路。"
   ]
  },
  {
   "cell_type": "markdown",
   "metadata": {},
   "source": [
    "## 快速构建量子神经网络"
   ]
  },
  {
   "cell_type": "markdown",
   "metadata": {},
   "source": [
    "利用量桨中的 Circuit 类，我们可以通过复合各种量子门来构建一个量子神经网络。下面我们来看一个具体的例子。"
   ]
  },
  {
   "cell_type": "code",
   "execution_count": 12,
   "metadata": {},
   "outputs": [],
   "source": [
    "# 首先导入所需的程序包\n",
    "import numpy as np\n",
    "import paddle\n",
    "from paddle_quantum.ansatz import Circuit\n",
    "from paddle_quantum.state import ghz_state\n",
    "from paddle_quantum.loss import StateFidelity\n",
    "import matplotlib.pyplot as plt\n",
    "import warnings\n",
    "warnings.filterwarnings(\"ignore\")"
   ]
  },
  {
   "cell_type": "code",
   "execution_count": 13,
   "metadata": {},
   "outputs": [
    {
     "name": "stdout",
     "output_type": "stream",
     "text": [
      "--Ry(1.835)----Rx(5.255)----*--------------x--\n",
      "                            |              |  \n",
      "--Ry(4.561)----Rx(2.712)----x----*---------|--\n",
      "                                 |         |  \n",
      "--Ry(3.485)----Rx(1.283)---------x----*----|--\n",
      "                                      |    |  \n",
      "--Ry(0.988)----Rx(4.441)--------------x----*--\n",
      "                                              \n"
     ]
    }
   ],
   "source": [
    "# 创建一个空的量子电路，量子比特数为 4\n",
    "cir_1 = Circuit(4)\n",
    "\n",
    "# 添加一层 Ry 门、一层 Rx 门和一层 CNOT 门\n",
    "cir_1.ry()    # 默认参数：qubits_idx='full'，意为在所有量子比特上都添加这样一个单比特量子门。参数默认是随机初始化的\n",
    "cir_1.rx()\n",
    "cir_1.cnot()  # 默认参数：qubits_idx='cycle'，意为在所有两两近邻的量子比特对上都添加这样一个双比特量子门\n",
    "\n",
    "# 输出量子电路图示\n",
    "print(cir_1)"
   ]
  },
  {
   "cell_type": "markdown",
   "metadata": {},
   "source": [
    "在上面这个例子中，量子门默认是以逐层的方式添加到所有量子比特上的，这是量子神经网络常见的构造方式。仿照经典神经网络，每一层量子门可称为一个训练层。如果我们想指定某个量子门作用的量子比特，只需更改 qubits_idx 参数即可。"
   ]
  },
  {
   "cell_type": "code",
   "execution_count": 14,
   "metadata": {},
   "outputs": [
    {
     "name": "stdout",
     "output_type": "stream",
     "text": [
      "--Ry(2.957)----*-------\n",
      "               |       \n",
      "--Rx(2.106)----x----x--\n",
      "                    |  \n",
      "--Ry(0.354)---------*--\n",
      "                       \n"
     ]
    }
   ],
   "source": [
    "# 创建一个空的量子电路\n",
    "cir_2 = Circuit(3)\n",
    "\n",
    "# 按特定方式添加量子门\n",
    "cir_2.ry(qubits_idx='even')           # 在编号为偶数的量子比特上都添加这样一个单比特量子门\n",
    "cir_2.rx(qubits_idx=1)                # 通过指定量子比特编号的方式添加量子门\n",
    "cir_2.cnot(qubits_idx=[[0,1],[2,1]])  # 通过指定量子比特编号的方式添加量子门，其中前者为控制位，后者为受控位\n",
    "\n",
    "# 输出量子电路图示\n",
    "print(cir_2)"
   ]
  },
  {
   "cell_type": "markdown",
   "metadata": {},
   "source": [
    "量桨还内置了一些常见训练层的模板，方便使用者更快速地构建量子神经网络。其他模板可参见[量桨 API](https://qml.baidu.com/api/paddle_quantum.ansatz.circuit.html)。"
   ]
  },
  {
   "cell_type": "code",
   "execution_count": 15,
   "metadata": {},
   "outputs": [
    {
     "name": "stdout",
     "output_type": "stream",
     "text": [
      "--Ry(4.225)----*--------------x----Ry(2.909)----*--------------x----U----*--------------x--\n",
      "               |              |                 |              |         |              |  \n",
      "--Ry(4.139)----x----*---------|----Ry(5.014)----x----*---------|----U----x----*---------|--\n",
      "                    |         |                      |         |              |         |  \n",
      "--Ry(5.998)---------x----*----|----Ry(0.292)---------x----*----|----U---------x----*----|--\n",
      "                         |    |                           |    |                   |    |  \n",
      "--Ry(1.065)--------------x----*----Ry(4.375)--------------x----*----U--------------x----*--\n",
      "                                                                                           \n"
     ]
    }
   ],
   "source": [
    "# 创建一个空的量子电路\n",
    "cir_3 = Circuit(4)\n",
    "\n",
    "# 添加两层内置模板 real_entangled_layer：每层包括一层 Ry 门，一层 CNOT 门\n",
    "cir_3.real_entangled_layer(depth=2)\n",
    "# 添加一层内置模板 complex_entangled_layer：每层包括一层 U3 门（Rz*Ry*Rz），一层 CNOT 门\n",
    "cir_3.complex_entangled_layer(depth=1)\n",
    "\n",
    "# 输出量子电路\n",
    "print(cir_3)"
   ]
  },
  {
   "cell_type": "markdown",
   "metadata": {},
   "source": [
    "## 设定量子神经网络中的参数"
   ]
  },
  {
   "cell_type": "markdown",
   "metadata": {},
   "source": [
    "在以上的例子中，量子神经网络中的参数都是默认随机初始化的。我们可以通过访问 param 属性来获取电路中现存的参数数值并保存到一个数组里。"
   ]
  },
  {
   "cell_type": "code",
   "execution_count": 16,
   "metadata": {},
   "outputs": [
    {
     "name": "stdout",
     "output_type": "stream",
     "text": [
      "--Ry(5.308)--\n",
      "             \n",
      "--Ry(0.278)--\n",
      "             \n",
      "Tensor(shape=[2], dtype=float32, place=Place(cpu), stop_gradient=False,\n",
      "       [5.30772972, 0.27760327])\n"
     ]
    }
   ],
   "source": [
    "# 创建一个空的量子电路\n",
    "cir_4 = Circuit(2)\n",
    "# 添加一层 Ry 门\n",
    "cir_4.ry()\n",
    "# 输出量子电路\n",
    "print(cir_4)\n",
    "# 输出量子电路内可训练参数的取值\n",
    "print(cir_4.param)"
   ]
  },
  {
   "cell_type": "markdown",
   "metadata": {},
   "source": [
    "此外，我们可以通过执行 update_param() 方法来手动设定一组参数的值。"
   ]
  },
  {
   "cell_type": "code",
   "execution_count": 17,
   "metadata": {},
   "outputs": [
    {
     "name": "stdout",
     "output_type": "stream",
     "text": [
      "--Ry(0.100)--\n",
      "             \n",
      "--Ry(0.200)--\n",
      "             \n",
      "Tensor(shape=[2], dtype=float32, place=Place(cpu), stop_gradient=False,\n",
      "       [0.10000000, 0.20000000])\n"
     ]
    }
   ],
   "source": [
    "# 创建新的参数数组\n",
    "theta_new = paddle.to_tensor([0.1, 0.2], dtype='float32')\n",
    "# 更新电路中的参数\n",
    "cir_4.update_param(theta_new)\n",
    "# 输出量子电路图示\n",
    "print(cir_4)\n",
    "# 输出量子电路内可训练参数的取值\n",
    "print(cir_4.param)"
   ]
  },
  {
   "cell_type": "markdown",
   "metadata": {},
   "source": [
    "### 用经典优化器训练量子神经网络"
   ]
  },
  {
   "cell_type": "markdown",
   "metadata": {},
   "source": [
    "完成量子神经网络的构建后，我们就可以根据需要定义一个损失函数，并调用经典优化器来训练这个量子神经网络了。这里我们用量子神经网络去学习一个 GHZ 态，损失函数采用保真度距离。"
   ]
  },
  {
   "cell_type": "code",
   "execution_count": 18,
   "metadata": {},
   "outputs": [
    {
     "name": "stdout",
     "output_type": "stream",
     "text": [
      "iter: 0,   loss: 0.1734\n",
      "iter: 5,   loss: 0.1296\n",
      "iter: 10,   loss: 0.0896\n",
      "iter: 15,   loss: 0.0548\n",
      "iter: 20,   loss: 0.0264\n",
      "iter: 25,   loss: 0.0087\n",
      "iter: 30,   loss: 0.0084\n",
      "iter: 35,   loss: 0.0094\n",
      "iter: 40,   loss: 0.0064\n",
      "iter: 45,   loss: 0.0008\n",
      "iter: 50,   loss: 0.0035\n",
      "iter: 55,   loss: 0.0006\n",
      "iter: 60,   loss: 0.0016\n",
      "iter: 65,   loss: 0.0006\n",
      "iter: 70,   loss: 0.0004\n",
      "iter: 75,   loss: 0.0001\n",
      "iter: 80,   loss: 0.0001\n",
      "iter: 85,   loss: 0.0004\n",
      "iter: 90,   loss: 0.0002\n",
      "iter: 95,   loss: 0.0003\n"
     ]
    }
   ],
   "source": [
    "# 定义训练的超参数\n",
    "ITR = 100    # 训练迭代次数\n",
    "LR = 0.02    # 学习率\n",
    "\n",
    "# 定义电路\n",
    "cir = Circuit(4)\n",
    "cir.ry()\n",
    "cir.rx()\n",
    "cir.cnot()\n",
    "\n",
    "# 定义损失函数的形式，这里选用了量子电路的输出态和 GHZ 态的保真度\n",
    "loss_func = StateFidelity(ghz_state(4))\n",
    "# 选择经典优化器，通常选用 Adam 优化器\n",
    "opt = paddle.optimizer.Adam(learning_rate=LR, parameters=cir.parameters())\n",
    "# 创建一个列表记录训练过程\n",
    "loss_list = []\n",
    "# 开始迭代优化\n",
    "for itr in range(ITR):\n",
    "    # 运行电路，得到输出态，计算损失函数的值\n",
    "    loss = loss_func(cir())\n",
    "    # 反向传播，计算梯度\n",
    "    loss.backward()\n",
    "    # 最小化损失函数，更新参数\n",
    "    opt.minimize(loss)\n",
    "    opt.clear_grad()\n",
    "    # 记录损失函数的值\n",
    "    loss_list.append(loss.numpy().item())\n",
    "    if itr % 5 == 0:\n",
    "        print(f'iter: {itr},   loss: {loss.numpy().item():.4f}')"
   ]
  },
  {
   "cell_type": "code",
   "execution_count": 19,
   "metadata": {},
   "outputs": [
    {
     "name": "stdout",
     "output_type": "stream",
     "text": [
      "--Ry(1.177)----Rx(3.797)----*--------------x--\n",
      "                            |              |  \n",
      "--Ry(2.529)----Rx(5.456)----x----*---------|--\n",
      "                                 |         |  \n",
      "--Ry(0.002)----Rx(3.140)---------x----*----|--\n",
      "                                      |    |  \n",
      "--Ry(0.221)----Rx(3.953)--------------x----*--\n",
      "                                              \n"
     ]
    },
    {
     "data": {
      "image/png": "[encoded data removed]",
      "text/plain": [
       "<Figure size 640x480 with 1 Axes>"
      ]
     },
     "metadata": {},
     "output_type": "display_data"
    }
   ],
   "source": [
    "# 输出训练结束后的参数化量子线路\n",
    "print(cir)\n",
    "\n",
    "# 绘制损失函数随迭代次数的变化曲线\n",
    "func = plt.plot(loss_list)\n",
    "plt.xlabel('Iterations')\n",
    "plt.ylabel('Loss')\n",
    "plt.show()"
   ]
  },
  {
   "cell_type": "markdown",
   "metadata": {},
   "source": [
    "我们可以发现随着训练的进行保真度距离收敛于零附近，这意味着参数化量子电路的输出态已经非常接近目标态，说明我们成功训练出了一个可以制备目标态的量子电路。"
   ]
  }
 ],
 "metadata": {
  "kernelspec": {
   "display_name": "Python 3 (ipykernel)",
   "language": "python",
   "name": "python3"
  },
  "language_info": {
   "codemirror_mode": {
    "name": "ipython",
    "version": 3
   },
   "file_extension": ".py",
   "mimetype": "text/x-python",
   "name": "python",
   "nbconvert_exporter": "python",
   "pygments_lexer": "ipython3",
   "version": "3.8.16"
  }
 },
 "nbformat": 4,
 "nbformat_minor": 2
}
